{
  "nbformat": 4,
  "nbformat_minor": 0,
  "metadata": {
    "kernelspec": {
      "display_name": "Python 3",
      "language": "python",
      "name": "python3"
    },
    "language_info": {
      "codemirror_mode": {
        "name": "ipython",
        "version": 3
      },
      "file_extension": ".py",
      "mimetype": "text/x-python",
      "name": "python",
      "nbconvert_exporter": "python",
      "pygments_lexer": "ipython3",
      "version": "3.6.1"
    },
    "colab": {
      "name": "Logistic Regression in Python - Step by Step.ipynb",
      "provenance": [],
      "collapsed_sections": [
        "qe1woTxx2Lga"
      ]
    }
  },
  "cells": [
    {
      "cell_type": "code",
      "metadata": {
        "id": "1unzyoO62Ldz",
        "colab_type": "code",
        "colab": {}
      },
      "source": [
        "import pandas as pd\n",
        "import numpy as np\n",
        "from sklearn import preprocessing\n",
        "import matplotlib.pyplot as plt \n",
        "plt.rc(\"font\", size=14)\n",
        "from sklearn.linear_model import LogisticRegression\n",
        "from sklearn.model_selection import train_test_split\n",
        "import seaborn as sns\n",
        "sns.set(style=\"white\")\n",
        "sns.set(style=\"whitegrid\", color_codes=True)"
      ],
      "execution_count": 0,
      "outputs": []
    },
    {
      "cell_type": "markdown",
      "metadata": {
        "id": "ztWi4qkx2Ld_",
        "colab_type": "text"
      },
      "source": [
        "## Data\n",
        "\n",
        "The data is related with direct marketing campaigns (phone calls) of a Portuguese banking institution. The classification goal is to predict if the client will subscribe (1/0) a term deposit (variable y)."
      ]
    },
    {
      "cell_type": "markdown",
      "metadata": {
        "id": "hyqNmsfN2LeA",
        "colab_type": "text"
      },
      "source": [
        "This dataset provides the customer information. It includes 41188 records and 21 fields."
      ]
    },
    {
      "cell_type": "code",
      "metadata": {
        "id": "5LXe6Civ2LeB",
        "colab_type": "code",
        "colab": {
          "base_uri": "https://localhost:8080/",
          "height": 71
        },
        "outputId": "9b269309-9e8b-4e9f-984b-d3fc7314e301"
      },
      "source": [
        "data = pd.read_csv('https://aaa-pgdmlai.s3.amazonaws.com/logistic_member_prob.csv')\n",
        "data = data.dropna()\n",
        "print(data.shape)\n",
        "print(list(data.columns))"
      ],
      "execution_count": 23,
      "outputs": [
        {
          "output_type": "stream",
          "text": [
            "(10519, 13)\n",
            "['household_key', 'zip5', 'length_of_residence', 'income', 'children', 'mosaic_household', 'mosaic_global_household', 'kcl_b_ind_mosaicsgrouping', 'new_mover_flag', 'motorcycle_indicator', 'sc_vehicle_manufacturer_name', 'sc_vehicle_model_name', 'target']\n"
          ],
          "name": "stdout"
        }
      ]
    },
    {
      "cell_type": "code",
      "metadata": {
        "id": "j231hPGq2LeF",
        "colab_type": "code",
        "colab": {
          "base_uri": "https://localhost:8080/",
          "height": 258
        },
        "outputId": "20b88356-ca5b-4826-d07a-fcd91033fbc7"
      },
      "source": [
        "data.head()"
      ],
      "execution_count": 24,
      "outputs": [
        {
          "output_type": "execute_result",
          "data": {
            "text/html": [
              "<div>\n",
              "<style scoped>\n",
              "    .dataframe tbody tr th:only-of-type {\n",
              "        vertical-align: middle;\n",
              "    }\n",
              "\n",
              "    .dataframe tbody tr th {\n",
              "        vertical-align: top;\n",
              "    }\n",
              "\n",
              "    .dataframe thead th {\n",
              "        text-align: right;\n",
              "    }\n",
              "</style>\n",
              "<table border=\"1\" class=\"dataframe\">\n",
              "  <thead>\n",
              "    <tr style=\"text-align: right;\">\n",
              "      <th></th>\n",
              "      <th>household_key</th>\n",
              "      <th>zip5</th>\n",
              "      <th>length_of_residence</th>\n",
              "      <th>income</th>\n",
              "      <th>children</th>\n",
              "      <th>mosaic_household</th>\n",
              "      <th>mosaic_global_household</th>\n",
              "      <th>kcl_b_ind_mosaicsgrouping</th>\n",
              "      <th>new_mover_flag</th>\n",
              "      <th>motorcycle_indicator</th>\n",
              "      <th>sc_vehicle_manufacturer_name</th>\n",
              "      <th>sc_vehicle_model_name</th>\n",
              "      <th>target</th>\n",
              "    </tr>\n",
              "  </thead>\n",
              "  <tbody>\n",
              "    <tr>\n",
              "      <th>0</th>\n",
              "      <td>20247887</td>\n",
              "      <td>2886</td>\n",
              "      <td>9</td>\n",
              "      <td>50-59,999</td>\n",
              "      <td>Yes</td>\n",
              "      <td>Tough Times</td>\n",
              "      <td>Low Income Elders</td>\n",
              "      <td>Economic Challenges</td>\n",
              "      <td>N</td>\n",
              "      <td>N</td>\n",
              "      <td>HONDA</td>\n",
              "      <td>CIVIC</td>\n",
              "      <td>0</td>\n",
              "    </tr>\n",
              "    <tr>\n",
              "      <th>1</th>\n",
              "      <td>100065197</td>\n",
              "      <td>2823</td>\n",
              "      <td>0</td>\n",
              "      <td>0</td>\n",
              "      <td>No</td>\n",
              "      <td>Town Elders</td>\n",
              "      <td>Comfortable Retirement</td>\n",
              "      <td>Golden Year Guardians</td>\n",
              "      <td>N</td>\n",
              "      <td>N</td>\n",
              "      <td>Unknown</td>\n",
              "      <td>Unknown</td>\n",
              "      <td>0</td>\n",
              "    </tr>\n",
              "    <tr>\n",
              "      <th>2</th>\n",
              "      <td>18235123</td>\n",
              "      <td>2828</td>\n",
              "      <td>0</td>\n",
              "      <td>0</td>\n",
              "      <td>No</td>\n",
              "      <td>Unspoiled Splendor</td>\n",
              "      <td>Bourgeois Prosperity</td>\n",
              "      <td>Thriving Boomers</td>\n",
              "      <td>N</td>\n",
              "      <td>N</td>\n",
              "      <td>Unknown</td>\n",
              "      <td>Unknown</td>\n",
              "      <td>0</td>\n",
              "    </tr>\n",
              "    <tr>\n",
              "      <th>3</th>\n",
              "      <td>9215501</td>\n",
              "      <td>2840</td>\n",
              "      <td>0</td>\n",
              "      <td>0</td>\n",
              "      <td>No</td>\n",
              "      <td>Full Pockets  Empty Nests</td>\n",
              "      <td>Bourgeois Prosperity</td>\n",
              "      <td>Thriving Boomers</td>\n",
              "      <td>N</td>\n",
              "      <td>N</td>\n",
              "      <td>Unknown</td>\n",
              "      <td>Unknown</td>\n",
              "      <td>0</td>\n",
              "    </tr>\n",
              "    <tr>\n",
              "      <th>4</th>\n",
              "      <td>37831311</td>\n",
              "      <td>6040</td>\n",
              "      <td>0</td>\n",
              "      <td>0</td>\n",
              "      <td>No</td>\n",
              "      <td>Unknown</td>\n",
              "      <td>Unknown</td>\n",
              "      <td>Unknown</td>\n",
              "      <td>N</td>\n",
              "      <td>N</td>\n",
              "      <td>CHRYSLER</td>\n",
              "      <td>CONCORDE</td>\n",
              "      <td>0</td>\n",
              "    </tr>\n",
              "  </tbody>\n",
              "</table>\n",
              "</div>"
            ],
            "text/plain": [
              "   household_key  zip5  ...  sc_vehicle_model_name target\n",
              "0       20247887  2886  ...                  CIVIC      0\n",
              "1      100065197  2823  ...                Unknown      0\n",
              "2       18235123  2828  ...                Unknown      0\n",
              "3        9215501  2840  ...                Unknown      0\n",
              "4       37831311  6040  ...               CONCORDE      0\n",
              "\n",
              "[5 rows x 13 columns]"
            ]
          },
          "metadata": {
            "tags": []
          },
          "execution_count": 24
        }
      ]
    },
    {
      "cell_type": "markdown",
      "metadata": {
        "id": "jWZCQWtT2Lea",
        "colab_type": "text"
      },
      "source": [
        "### Data exploration"
      ]
    },
    {
      "cell_type": "code",
      "metadata": {
        "id": "hcAc2NKO2Leb",
        "colab_type": "code",
        "colab": {
          "base_uri": "https://localhost:8080/",
          "height": 68
        },
        "outputId": "e48c8f29-90a8-4d47-c806-cc8f2db8a5db"
      },
      "source": [
        "data['target'].value_counts()"
      ],
      "execution_count": 25,
      "outputs": [
        {
          "output_type": "execute_result",
          "data": {
            "text/plain": [
              "0    8368\n",
              "1    2151\n",
              "Name: target, dtype: int64"
            ]
          },
          "metadata": {
            "tags": []
          },
          "execution_count": 25
        }
      ]
    },
    {
      "cell_type": "code",
      "metadata": {
        "id": "F5dlEj8r2Lef",
        "colab_type": "code",
        "colab": {
          "base_uri": "https://localhost:8080/",
          "height": 302
        },
        "outputId": "12d455dc-d085-41c5-dd00-5e18847f76b3"
      },
      "source": [
        "sns.countplot(x='target',data=data, palette='hls')\n",
        "plt.show()\n",
        "plt.savefig('count_plot')"
      ],
      "execution_count": 26,
      "outputs": [
        {
          "output_type": "display_data",
          "data": {
            "image/png": "[encoded data removed]",
            "text/plain": [
              "<Figure size 432x288 with 1 Axes>"
            ]
          },
          "metadata": {
            "tags": []
          }
        },
        {
          "output_type": "display_data",
          "data": {
            "text/plain": [
              "<Figure size 432x288 with 0 Axes>"
            ]
          },
          "metadata": {
            "tags": []
          }
        }
      ]
    },
    {
      "cell_type": "markdown",
      "metadata": {
        "id": "dLnPft922Lel",
        "colab_type": "text"
      },
      "source": [
        "Let's get a sense of the numbers across the two classes"
      ]
    },
    {
      "cell_type": "code",
      "metadata": {
        "id": "psKgNdSK2Lem",
        "colab_type": "code",
        "colab": {
          "base_uri": "https://localhost:8080/",
          "height": 142
        },
        "outputId": "bc3a903b-ceb0-4776-b791-d2e643afd8d4"
      },
      "source": [
        "data.groupby('target').mean()"
      ],
      "execution_count": 27,
      "outputs": [
        {
          "output_type": "execute_result",
          "data": {
            "text/html": [
              "<div>\n",
              "<style scoped>\n",
              "    .dataframe tbody tr th:only-of-type {\n",
              "        vertical-align: middle;\n",
              "    }\n",
              "\n",
              "    .dataframe tbody tr th {\n",
              "        vertical-align: top;\n",
              "    }\n",
              "\n",
              "    .dataframe thead th {\n",
              "        text-align: right;\n",
              "    }\n",
              "</style>\n",
              "<table border=\"1\" class=\"dataframe\">\n",
              "  <thead>\n",
              "    <tr style=\"text-align: right;\">\n",
              "      <th></th>\n",
              "      <th>household_key</th>\n",
              "      <th>zip5</th>\n",
              "      <th>length_of_residence</th>\n",
              "    </tr>\n",
              "    <tr>\n",
              "      <th>target</th>\n",
              "      <th></th>\n",
              "      <th></th>\n",
              "      <th></th>\n",
              "    </tr>\n",
              "  </thead>\n",
              "  <tbody>\n",
              "    <tr>\n",
              "      <th>0</th>\n",
              "      <td>1.499780e+07</td>\n",
              "      <td>2962.866276</td>\n",
              "      <td>6.841181</td>\n",
              "    </tr>\n",
              "    <tr>\n",
              "      <th>1</th>\n",
              "      <td>1.583735e+07</td>\n",
              "      <td>2901.525802</td>\n",
              "      <td>8.649000</td>\n",
              "    </tr>\n",
              "  </tbody>\n",
              "</table>\n",
              "</div>"
            ],
            "text/plain": [
              "        household_key         zip5  length_of_residence\n",
              "target                                                 \n",
              "0        1.499780e+07  2962.866276             6.841181\n",
              "1        1.583735e+07  2901.525802             8.649000"
            ]
          },
          "metadata": {
            "tags": []
          },
          "execution_count": 27
        }
      ]
    },
    {
      "cell_type": "markdown",
      "metadata": {
        "id": "REOfrUq22Leq",
        "colab_type": "text"
      },
      "source": [
        "We can calculate categorical means for other categorical variables such as education and marital status to get a more detailed sense of our data."
      ]
    },
    {
      "cell_type": "code",
      "metadata": {
        "id": "I5lalGaA2Ler",
        "colab_type": "code",
        "colab": {
          "base_uri": "https://localhost:8080/",
          "height": 576
        },
        "outputId": "be9f5d86-2225-408f-aaa1-e38f4bd4c8d0"
      },
      "source": [
        "data.groupby('income').mean()"
      ],
      "execution_count": 28,
      "outputs": [
        {
          "output_type": "execute_result",
          "data": {
            "text/html": [
              "<div>\n",
              "<style scoped>\n",
              "    .dataframe tbody tr th:only-of-type {\n",
              "        vertical-align: middle;\n",
              "    }\n",
              "\n",
              "    .dataframe tbody tr th {\n",
              "        vertical-align: top;\n",
              "    }\n",
              "\n",
              "    .dataframe thead th {\n",
              "        text-align: right;\n",
              "    }\n",
              "</style>\n",
              "<table border=\"1\" class=\"dataframe\">\n",
              "  <thead>\n",
              "    <tr style=\"text-align: right;\">\n",
              "      <th></th>\n",
              "      <th>household_key</th>\n",
              "      <th>zip5</th>\n",
              "      <th>length_of_residence</th>\n",
              "      <th>target</th>\n",
              "    </tr>\n",
              "    <tr>\n",
              "      <th>income</th>\n",
              "      <th></th>\n",
              "      <th></th>\n",
              "      <th></th>\n",
              "      <th></th>\n",
              "    </tr>\n",
              "  </thead>\n",
              "  <tbody>\n",
              "    <tr>\n",
              "      <th>0</th>\n",
              "      <td>1.629914e+07</td>\n",
              "      <td>3025.096182</td>\n",
              "      <td>0.032474</td>\n",
              "      <td>0.139812</td>\n",
              "    </tr>\n",
              "    <tr>\n",
              "      <th>10-19,999</th>\n",
              "      <td>1.422413e+07</td>\n",
              "      <td>2895.827988</td>\n",
              "      <td>9.743440</td>\n",
              "      <td>0.311953</td>\n",
              "    </tr>\n",
              "    <tr>\n",
              "      <th>100-149,999</th>\n",
              "      <td>1.415988e+07</td>\n",
              "      <td>2907.156863</td>\n",
              "      <td>12.225490</td>\n",
              "      <td>0.224790</td>\n",
              "    </tr>\n",
              "    <tr>\n",
              "      <th>150 - 174,999</th>\n",
              "      <td>2.040161e+07</td>\n",
              "      <td>2909.629167</td>\n",
              "      <td>13.220833</td>\n",
              "      <td>0.216667</td>\n",
              "    </tr>\n",
              "    <tr>\n",
              "      <th>175 - 199,999</th>\n",
              "      <td>1.446594e+07</td>\n",
              "      <td>2906.204611</td>\n",
              "      <td>11.536023</td>\n",
              "      <td>0.198847</td>\n",
              "    </tr>\n",
              "    <tr>\n",
              "      <th>20-29,999</th>\n",
              "      <td>1.729301e+07</td>\n",
              "      <td>2921.746544</td>\n",
              "      <td>11.668203</td>\n",
              "      <td>0.225806</td>\n",
              "    </tr>\n",
              "    <tr>\n",
              "      <th>200 - 249,999</th>\n",
              "      <td>1.766330e+07</td>\n",
              "      <td>2865.625551</td>\n",
              "      <td>11.246696</td>\n",
              "      <td>0.180617</td>\n",
              "    </tr>\n",
              "    <tr>\n",
              "      <th>250K+</th>\n",
              "      <td>1.844213e+07</td>\n",
              "      <td>2984.306977</td>\n",
              "      <td>11.958140</td>\n",
              "      <td>0.144186</td>\n",
              "    </tr>\n",
              "    <tr>\n",
              "      <th>30-39,999</th>\n",
              "      <td>1.245112e+07</td>\n",
              "      <td>2901.684982</td>\n",
              "      <td>11.395604</td>\n",
              "      <td>0.285714</td>\n",
              "    </tr>\n",
              "    <tr>\n",
              "      <th>40-49,999</th>\n",
              "      <td>1.472445e+07</td>\n",
              "      <td>2904.468599</td>\n",
              "      <td>10.714976</td>\n",
              "      <td>0.299517</td>\n",
              "    </tr>\n",
              "    <tr>\n",
              "      <th>50-59,999</th>\n",
              "      <td>1.344512e+07</td>\n",
              "      <td>2885.364562</td>\n",
              "      <td>11.977597</td>\n",
              "      <td>0.287169</td>\n",
              "    </tr>\n",
              "    <tr>\n",
              "      <th>60-69,999</th>\n",
              "      <td>1.303044e+07</td>\n",
              "      <td>2877.886288</td>\n",
              "      <td>11.347826</td>\n",
              "      <td>0.260870</td>\n",
              "    </tr>\n",
              "    <tr>\n",
              "      <th>70-79,999</th>\n",
              "      <td>1.310099e+07</td>\n",
              "      <td>2895.631579</td>\n",
              "      <td>11.943739</td>\n",
              "      <td>0.277677</td>\n",
              "    </tr>\n",
              "    <tr>\n",
              "      <th>80-89,999</th>\n",
              "      <td>4.048957e+07</td>\n",
              "      <td>2850.875000</td>\n",
              "      <td>8.000000</td>\n",
              "      <td>0.125000</td>\n",
              "    </tr>\n",
              "    <tr>\n",
              "      <th>90-99,999</th>\n",
              "      <td>1.374766e+07</td>\n",
              "      <td>2908.926292</td>\n",
              "      <td>11.710486</td>\n",
              "      <td>0.239362</td>\n",
              "    </tr>\n",
              "    <tr>\n",
              "      <th>Under 10K</th>\n",
              "      <td>1.247712e+07</td>\n",
              "      <td>2890.991379</td>\n",
              "      <td>10.439655</td>\n",
              "      <td>0.232759</td>\n",
              "    </tr>\n",
              "  </tbody>\n",
              "</table>\n",
              "</div>"
            ],
            "text/plain": [
              "               household_key         zip5  length_of_residence    target\n",
              "income                                                                  \n",
              "0               1.629914e+07  3025.096182             0.032474  0.139812\n",
              "10-19,999       1.422413e+07  2895.827988             9.743440  0.311953\n",
              "100-149,999     1.415988e+07  2907.156863            12.225490  0.224790\n",
              "150 - 174,999   2.040161e+07  2909.629167            13.220833  0.216667\n",
              "175 - 199,999   1.446594e+07  2906.204611            11.536023  0.198847\n",
              "20-29,999       1.729301e+07  2921.746544            11.668203  0.225806\n",
              "200 - 249,999   1.766330e+07  2865.625551            11.246696  0.180617\n",
              "250K+           1.844213e+07  2984.306977            11.958140  0.144186\n",
              "30-39,999       1.245112e+07  2901.684982            11.395604  0.285714\n",
              "40-49,999       1.472445e+07  2904.468599            10.714976  0.299517\n",
              "50-59,999       1.344512e+07  2885.364562            11.977597  0.287169\n",
              "60-69,999       1.303044e+07  2877.886288            11.347826  0.260870\n",
              "70-79,999       1.310099e+07  2895.631579            11.943739  0.277677\n",
              "80-89,999       4.048957e+07  2850.875000             8.000000  0.125000\n",
              "90-99,999       1.374766e+07  2908.926292            11.710486  0.239362\n",
              "Under 10K       1.247712e+07  2890.991379            10.439655  0.232759"
            ]
          },
          "metadata": {
            "tags": []
          },
          "execution_count": 28
        }
      ]
    },
    {
      "cell_type": "code",
      "metadata": {
        "id": "aXWOVW6W2Leu",
        "colab_type": "code",
        "colab": {
          "base_uri": "https://localhost:8080/",
          "height": 450
        },
        "outputId": "47cfc38a-ec85-47ba-b5b0-f1045a33ea7c"
      },
      "source": [
        "data.groupby('sc_vehicle_manufacturer_name').mean()"
      ],
      "execution_count": 29,
      "outputs": [
        {
          "output_type": "execute_result",
          "data": {
            "text/html": [
              "<div>\n",
              "<style scoped>\n",
              "    .dataframe tbody tr th:only-of-type {\n",
              "        vertical-align: middle;\n",
              "    }\n",
              "\n",
              "    .dataframe tbody tr th {\n",
              "        vertical-align: top;\n",
              "    }\n",
              "\n",
              "    .dataframe thead th {\n",
              "        text-align: right;\n",
              "    }\n",
              "</style>\n",
              "<table border=\"1\" class=\"dataframe\">\n",
              "  <thead>\n",
              "    <tr style=\"text-align: right;\">\n",
              "      <th></th>\n",
              "      <th>household_key</th>\n",
              "      <th>zip5</th>\n",
              "      <th>length_of_residence</th>\n",
              "      <th>target</th>\n",
              "    </tr>\n",
              "    <tr>\n",
              "      <th>sc_vehicle_manufacturer_name</th>\n",
              "      <th></th>\n",
              "      <th></th>\n",
              "      <th></th>\n",
              "      <th></th>\n",
              "    </tr>\n",
              "  </thead>\n",
              "  <tbody>\n",
              "    <tr>\n",
              "      <th>ACURA</th>\n",
              "      <td>1.595214e+07</td>\n",
              "      <td>2949.396226</td>\n",
              "      <td>6.735849</td>\n",
              "      <td>0.301887</td>\n",
              "    </tr>\n",
              "    <tr>\n",
              "      <th>APRILIA</th>\n",
              "      <td>3.752326e+07</td>\n",
              "      <td>2910.000000</td>\n",
              "      <td>9.000000</td>\n",
              "      <td>1.000000</td>\n",
              "    </tr>\n",
              "    <tr>\n",
              "      <th>AUDI</th>\n",
              "      <td>2.175704e+07</td>\n",
              "      <td>2880.000000</td>\n",
              "      <td>7.142857</td>\n",
              "      <td>0.214286</td>\n",
              "    </tr>\n",
              "    <tr>\n",
              "      <th>AUSTIN HEALEY</th>\n",
              "      <td>6.232293e+07</td>\n",
              "      <td>2919.000000</td>\n",
              "      <td>0.000000</td>\n",
              "      <td>0.000000</td>\n",
              "    </tr>\n",
              "    <tr>\n",
              "      <th>BICYCLE</th>\n",
              "      <td>9.163999e+06</td>\n",
              "      <td>2901.500000</td>\n",
              "      <td>1.500000</td>\n",
              "      <td>0.500000</td>\n",
              "    </tr>\n",
              "    <tr>\n",
              "      <th>...</th>\n",
              "      <td>...</td>\n",
              "      <td>...</td>\n",
              "      <td>...</td>\n",
              "      <td>...</td>\n",
              "    </tr>\n",
              "    <tr>\n",
              "      <th>Unknown</th>\n",
              "      <td>1.491864e+07</td>\n",
              "      <td>2995.790079</td>\n",
              "      <td>5.600527</td>\n",
              "      <td>0.169902</td>\n",
              "    </tr>\n",
              "    <tr>\n",
              "      <th>VOLKSWAGEN</th>\n",
              "      <td>1.509558e+07</td>\n",
              "      <td>2906.768182</td>\n",
              "      <td>8.622727</td>\n",
              "      <td>0.254545</td>\n",
              "    </tr>\n",
              "    <tr>\n",
              "      <th>VOLKSWAGON</th>\n",
              "      <td>5.726121e+06</td>\n",
              "      <td>2920.000000</td>\n",
              "      <td>15.000000</td>\n",
              "      <td>1.000000</td>\n",
              "    </tr>\n",
              "    <tr>\n",
              "      <th>VOLVO</th>\n",
              "      <td>1.580323e+07</td>\n",
              "      <td>3014.265537</td>\n",
              "      <td>8.271186</td>\n",
              "      <td>0.186441</td>\n",
              "    </tr>\n",
              "    <tr>\n",
              "      <th>Volvo</th>\n",
              "      <td>5.404734e+06</td>\n",
              "      <td>2908.000000</td>\n",
              "      <td>15.000000</td>\n",
              "      <td>0.000000</td>\n",
              "    </tr>\n",
              "  </tbody>\n",
              "</table>\n",
              "<p>75 rows × 4 columns</p>\n",
              "</div>"
            ],
            "text/plain": [
              "                              household_key  ...    target\n",
              "sc_vehicle_manufacturer_name                 ...          \n",
              "ACURA                          1.595214e+07  ...  0.301887\n",
              "APRILIA                        3.752326e+07  ...  1.000000\n",
              "AUDI                           2.175704e+07  ...  0.214286\n",
              "AUSTIN HEALEY                  6.232293e+07  ...  0.000000\n",
              "BICYCLE                        9.163999e+06  ...  0.500000\n",
              "...                                     ...  ...       ...\n",
              "Unknown                        1.491864e+07  ...  0.169902\n",
              "VOLKSWAGEN                     1.509558e+07  ...  0.254545\n",
              "VOLKSWAGON                     5.726121e+06  ...  1.000000\n",
              "VOLVO                          1.580323e+07  ...  0.186441\n",
              "Volvo                          5.404734e+06  ...  0.000000\n",
              "\n",
              "[75 rows x 4 columns]"
            ]
          },
          "metadata": {
            "tags": []
          },
          "execution_count": 29
        }
      ]
    },
    {
      "cell_type": "code",
      "metadata": {
        "id": "Fw1pD3Lh2Lex",
        "colab_type": "code",
        "colab": {
          "base_uri": "https://localhost:8080/",
          "height": 142
        },
        "outputId": "9d250e74-6a72-46e3-9b7c-ff25aa866fa8"
      },
      "source": [
        "data.groupby('motorcycle_indicator').mean()"
      ],
      "execution_count": 30,
      "outputs": [
        {
          "output_type": "execute_result",
          "data": {
            "text/html": [
              "<div>\n",
              "<style scoped>\n",
              "    .dataframe tbody tr th:only-of-type {\n",
              "        vertical-align: middle;\n",
              "    }\n",
              "\n",
              "    .dataframe tbody tr th {\n",
              "        vertical-align: top;\n",
              "    }\n",
              "\n",
              "    .dataframe thead th {\n",
              "        text-align: right;\n",
              "    }\n",
              "</style>\n",
              "<table border=\"1\" class=\"dataframe\">\n",
              "  <thead>\n",
              "    <tr style=\"text-align: right;\">\n",
              "      <th></th>\n",
              "      <th>household_key</th>\n",
              "      <th>zip5</th>\n",
              "      <th>length_of_residence</th>\n",
              "      <th>target</th>\n",
              "    </tr>\n",
              "    <tr>\n",
              "      <th>motorcycle_indicator</th>\n",
              "      <th></th>\n",
              "      <th></th>\n",
              "      <th></th>\n",
              "      <th></th>\n",
              "    </tr>\n",
              "  </thead>\n",
              "  <tbody>\n",
              "    <tr>\n",
              "      <th>N</th>\n",
              "      <td>1.487662e+07</td>\n",
              "      <td>2961.655734</td>\n",
              "      <td>6.734772</td>\n",
              "      <td>0.190629</td>\n",
              "    </tr>\n",
              "    <tr>\n",
              "      <th>Y</th>\n",
              "      <td>1.615542e+07</td>\n",
              "      <td>2912.170610</td>\n",
              "      <td>8.813616</td>\n",
              "      <td>0.251142</td>\n",
              "    </tr>\n",
              "  </tbody>\n",
              "</table>\n",
              "</div>"
            ],
            "text/plain": [
              "                      household_key         zip5  length_of_residence    target\n",
              "motorcycle_indicator                                                           \n",
              "N                      1.487662e+07  2961.655734             6.734772  0.190629\n",
              "Y                      1.615542e+07  2912.170610             8.813616  0.251142"
            ]
          },
          "metadata": {
            "tags": []
          },
          "execution_count": 30
        }
      ]
    },
    {
      "cell_type": "markdown",
      "metadata": {
        "id": "MpZ07jSH2Le2",
        "colab_type": "text"
      },
      "source": [
        "Visualizations"
      ]
    },
    {
      "cell_type": "code",
      "metadata": {
        "id": "KNoqbqEf2Le3",
        "colab_type": "code",
        "colab": {
          "base_uri": "https://localhost:8080/",
          "height": 368
        },
        "outputId": "7054ac7d-38bd-49f0-fbd6-9943c55a65ab"
      },
      "source": [
        "%matplotlib inline\n",
        "pd.crosstab(data.income,data.target).plot(kind='bar')\n",
        "plt.title('Purchase Frequency for income')\n",
        "plt.xlabel('Income')\n",
        "plt.ylabel('Frequency of Purchase')\n",
        "plt.savefig('purchase_fre_income')"
      ],
      "execution_count": 32,
      "outputs": [
        {
          "output_type": "display_data",
          "data": {
            "image/png": "[encoded data removed]",
            "text/plain": [
              "<Figure size 432x288 with 1 Axes>"
            ]
          },
          "metadata": {
            "tags": []
          }
        }
      ]
    },
    {
      "cell_type": "markdown",
      "metadata": {
        "id": "uQ3JB5wF2Le6",
        "colab_type": "text"
      },
      "source": [
        "The frequency of purchase of the product depends a great deal on the income. Thus, the income can be a good predictor of the outcome variable."
      ]
    },
    {
      "cell_type": "code",
      "metadata": {
        "id": "cr54Tg0d2Le7",
        "colab_type": "code",
        "colab": {
          "base_uri": "https://localhost:8080/",
          "height": 299
        },
        "outputId": "1f0ebfcd-02a1-4d1a-bec3-04c0a26188f5"
      },
      "source": [
        "table=pd.crosstab(data.motorcycle_indicator,data.target)\n",
        "table.div(table.sum(1).astype(float), axis=0).plot(kind='bar', stacked=True)\n",
        "plt.title('Stacked Bar Chart of motorcycle_indicator vs target')\n",
        "plt.xlabel('motorcycle_indicator')\n",
        "plt.ylabel('Proportion of Customers')\n",
        "plt.savefig('motorcycle_indicator_vs_pur_stack')"
      ],
      "execution_count": 33,
      "outputs": [
        {
          "output_type": "display_data",
          "data": {
            "image/png": "[encoded data removed]",
            "text/plain": [
              "<Figure size 432x288 with 1 Axes>"
            ]
          },
          "metadata": {
            "tags": []
          }
        }
      ]
    },
    {
      "cell_type": "markdown",
      "metadata": {
        "id": "7deksTyA2Le-",
        "colab_type": "text"
      },
      "source": [
        "Hard to see, but the marital status does not seem a strong predictor for the outcome variable."
      ]
    },
    {
      "cell_type": "code",
      "metadata": {
        "id": "gY_U7Pwi2Le_",
        "colab_type": "code",
        "colab": {
          "base_uri": "https://localhost:8080/",
          "height": 299
        },
        "outputId": "0687c4bb-b87f-4adb-fbec-0b089bea913a"
      },
      "source": [
        "table=pd.crosstab(data.new_mover_flag,data.target)\n",
        "table.div(table.sum(1).astype(float), axis=0).plot(kind='bar', stacked=True)\n",
        "plt.title('Stacked Bar Chart of new_mover_flag vs Purchase')\n",
        "plt.xlabel('new_mover_flag')\n",
        "plt.ylabel('Proportion of Customers')\n",
        "plt.savefig('new_mover_flag_vs_pur_stack')"
      ],
      "execution_count": 34,
      "outputs": [
        {
          "output_type": "display_data",
          "data": {
            "image/png": "[encoded data removed]",
            "text/plain": [
              "<Figure size 432x288 with 1 Axes>"
            ]
          },
          "metadata": {
            "tags": []
          }
        }
      ]
    },
    {
      "cell_type": "markdown",
      "metadata": {
        "id": "fCZTwN4Q2LfD",
        "colab_type": "text"
      },
      "source": [
        "new_mover_flag seems a good predictor of the outcome variable."
      ]
    },
    {
      "cell_type": "code",
      "metadata": {
        "id": "jCXlsULF2LfE",
        "colab_type": "code",
        "colab": {
          "base_uri": "https://localhost:8080/",
          "height": 310
        },
        "outputId": "75113a62-f559-446a-f75a-0809f13f31b7"
      },
      "source": [
        "pd.crosstab(data.children,data.target).plot(kind='bar')\n",
        "plt.title('Purchase Frequency for children')\n",
        "plt.xlabel('children')\n",
        "plt.ylabel('Frequency of Purchase')\n",
        "plt.savefig('pur_children_bar')"
      ],
      "execution_count": 35,
      "outputs": [
        {
          "output_type": "display_data",
          "data": {
            "image/png": "[encoded data removed]",
            "text/plain": [
              "<Figure size 432x288 with 1 Axes>"
            ]
          },
          "metadata": {
            "tags": []
          }
        }
      ]
    },
    {
      "cell_type": "markdown",
      "metadata": {
        "id": "9b0IPy_u2LfR",
        "colab_type": "text"
      },
      "source": [
        "Month might be a good predictor of the outcome variable"
      ]
    },
    {
      "cell_type": "markdown",
      "metadata": {
        "id": "imyrgglA2LfV",
        "colab_type": "text"
      },
      "source": [
        "The most of the customers of the bank in this dataset are in the age range of 30-40."
      ]
    },
    {
      "cell_type": "markdown",
      "metadata": {
        "id": "NHosVxXH2Lfb",
        "colab_type": "text"
      },
      "source": [
        "### Create dummy variables"
      ]
    },
    {
      "cell_type": "code",
      "metadata": {
        "id": "9QwhlzWE2Lfb",
        "colab_type": "code",
        "colab": {}
      },
      "source": [
        "cat_vars=['income', 'children', 'mosaic_household', 'mosaic_global_household', 'kcl_b_ind_mosaicsgrouping', 'new_mover_flag', 'motorcycle_indicator', 'sc_vehicle_manufacturer_name', 'sc_vehicle_model_name']\n",
        "for var in cat_vars:\n",
        "    cat_list='var'+'_'+var\n",
        "    cat_list = pd.get_dummies(data[var], prefix=var)\n",
        "    data1=data.join(cat_list)\n",
        "    data=data1"
      ],
      "execution_count": 0,
      "outputs": []
    },
    {
      "cell_type": "code",
      "metadata": {
        "id": "bbUdXTfx2Lfe",
        "colab_type": "code",
        "colab": {}
      },
      "source": [
        "cat_vars=['income', 'children', 'mosaic_household', 'mosaic_global_household', 'kcl_b_ind_mosaicsgrouping', 'new_mover_flag', 'motorcycle_indicator', 'sc_vehicle_manufacturer_name', 'sc_vehicle_model_name']\n",
        "data_vars=data.columns.values.tolist()\n",
        "to_keep=[i for i in data_vars if i not in cat_vars]"
      ],
      "execution_count": 0,
      "outputs": []
    },
    {
      "cell_type": "code",
      "metadata": {
        "id": "oS8lG6FC2Lfj",
        "colab_type": "code",
        "colab": {
          "base_uri": "https://localhost:8080/",
          "height": 1000
        },
        "outputId": "c6126578-2505-4d02-826e-e73a2c3e6259"
      },
      "source": [
        "data_final=data[to_keep]\n",
        "data_final.columns.values"
      ],
      "execution_count": 38,
      "outputs": [
        {
          "output_type": "execute_result",
          "data": {
            "text/plain": [
              "array(['household_key', 'zip5', 'length_of_residence', 'target',\n",
              "       'income_0', 'income_10-19,999', 'income_100-149,999',\n",
              "       'income_150 - 174,999', 'income_175 - 199,999', 'income_20-29,999',\n",
              "       'income_200 - 249,999', 'income_250K+', 'income_30-39,999',\n",
              "       'income_40-49,999', 'income_50-59,999', 'income_60-69,999',\n",
              "       'income_70-79,999', 'income_80-89,999', 'income_90-99,999',\n",
              "       'income_Under 10K', 'children_No', 'children_Yes',\n",
              "       'mosaic_household_Aging in Place',\n",
              "       'mosaic_household_Aging of Aquarius',\n",
              "       'mosaic_household_American Royalty',\n",
              "       'mosaic_household_Babies and Bliss',\n",
              "       'mosaic_household_Balance and Harmony',\n",
              "       'mosaic_household_Birkenstocks and Beemers',\n",
              "       'mosaic_household_Blue Collar Comfort',\n",
              "       'mosaic_household_Bohemian Groove',\n",
              "       'mosaic_household_Boomers and Boomerangs',\n",
              "       'mosaic_household_Booming and Consuming',\n",
              "       'mosaic_household_Colleges and Cafes',\n",
              "       'mosaic_household_Cosmopolitan Achievers',\n",
              "       'mosaic_household_Countrified Pragmatics',\n",
              "       'mosaic_household_Couples with Clout',\n",
              "       'mosaic_household_Cul de Sac Diversity',\n",
              "       'mosaic_household_Dare to Dream',\n",
              "       'mosaic_household_Destination Recreation',\n",
              "       'mosaic_household_Diapers and Debit Cards',\n",
              "       'mosaic_household_Digital Dependents',\n",
              "       'mosaic_household_Everyday Moderates',\n",
              "       'mosaic_household_Expanding Horizons',\n",
              "       'mosaic_household_Families Matter Most',\n",
              "       'mosaic_household_Family Fun-tastic',\n",
              "       'mosaic_household_Family Troopers',\n",
              "       'mosaic_household_Fast Track Couples',\n",
              "       'mosaic_household_Footloose and Family Free',\n",
              "       'mosaic_household_Full Pockets  Empty Nests',\n",
              "       'mosaic_household_Full Steam Ahead',\n",
              "       'mosaic_household_Generational Soup',\n",
              "       'mosaic_household_Golf Carts and Gourmets',\n",
              "       'mosaic_household_Gotham Blend',\n",
              "       'mosaic_household_Heritage Heights',\n",
              "       'mosaic_household_Hope for Tomorrow',\n",
              "       'mosaic_household_Jet Set Urbanites',\n",
              "       'mosaic_household_Kids and Cabernet',\n",
              "       'mosaic_household_Metro Fusion',\n",
              "       'mosaic_household_Mid-scale Medley',\n",
              "       'mosaic_household_Modest Metro Means',\n",
              "       'mosaic_household_No Place Like Home',\n",
              "       'mosaic_household_Picture Perfect Families',\n",
              "       'mosaic_household_Platinum Prosperity',\n",
              "       'mosaic_household_Progressive Potpourri',\n",
              "       'mosaic_household_Reaping Rewards', 'mosaic_household_Red',\n",
              "       'mosaic_household_Rooted Flower Power',\n",
              "       'mosaic_household_Rural Escape',\n",
              "       'mosaic_household_Senior Discounts',\n",
              "       'mosaic_household_Settled and Sensible',\n",
              "       'mosaic_household_Settled in Suburbia',\n",
              "       'mosaic_household_Silver Sophisticates',\n",
              "       'mosaic_household_Small Town Shallow Pockets',\n",
              "       'mosaic_household_Sports Utility Families',\n",
              "       'mosaic_household_Status Seeking Singles',\n",
              "       'mosaic_household_Steadfast Conventionalists',\n",
              "       'mosaic_household_Stockcars and State Parks',\n",
              "       'mosaic_household_Striving Forward',\n",
              "       'mosaic_household_Striving Single Scene',\n",
              "       'mosaic_household_Suburban Attainment',\n",
              "       'mosaic_household_Tough Times', 'mosaic_household_Town Elders',\n",
              "       'mosaic_household_True Grit Americans', 'mosaic_household_Unknown',\n",
              "       'mosaic_household_Unspoiled Splendor',\n",
              "       'mosaic_household_Urban Ambition', 'mosaic_household_Urban Edge',\n",
              "       'mosaic_household_Urban Survivors',\n",
              "       'mosaic_household_Wired for Success',\n",
              "       'mosaic_global_household_Bourgeois Prosperity',\n",
              "       'mosaic_global_household_Career and Family',\n",
              "       'mosaic_global_household_Comfortable Retirement',\n",
              "       'mosaic_global_household_Hard Working Blue Collar',\n",
              "       'mosaic_global_household_Low Income Elders',\n",
              "       'mosaic_global_household_Metropolitan Strugglers',\n",
              "       'mosaic_global_household_Post Industrial Survivors',\n",
              "       'mosaic_global_household_Routine Service Workers',\n",
              "       'mosaic_global_household_Rural Inheritance',\n",
              "       'mosaic_global_household_Sophisticated Singles',\n",
              "       'mosaic_global_household_Unknown',\n",
              "       'kcl_b_ind_mosaicsgrouping_Aspirational Fusion',\n",
              "       'kcl_b_ind_mosaicsgrouping_Autumn Years',\n",
              "       'kcl_b_ind_mosaicsgrouping_Blue Sky Boomers',\n",
              "       'kcl_b_ind_mosaicsgrouping_Booming with Confidence',\n",
              "       'kcl_b_ind_mosaicsgrouping_Cultural Connections',\n",
              "       'kcl_b_ind_mosaicsgrouping_Economic Challenges',\n",
              "       'kcl_b_ind_mosaicsgrouping_Families in Motion',\n",
              "       'kcl_b_ind_mosaicsgrouping_Family Union',\n",
              "       'kcl_b_ind_mosaicsgrouping_Flourishing Families',\n",
              "       'kcl_b_ind_mosaicsgrouping_Golden Year Guardians',\n",
              "       'kcl_b_ind_mosaicsgrouping_Middle Class Melting Pot',\n",
              "       'kcl_b_ind_mosaicsgrouping_Pastoral Pride',\n",
              "       'kcl_b_ind_mosaicsgrouping_Power Elite',\n",
              "       'kcl_b_ind_mosaicsgrouping_Promising Families',\n",
              "       'kcl_b_ind_mosaicsgrouping_Significant Singles',\n",
              "       'kcl_b_ind_mosaicsgrouping_Singles and Starters',\n",
              "       'kcl_b_ind_mosaicsgrouping_Surburban Style',\n",
              "       'kcl_b_ind_mosaicsgrouping_Thriving Boomers',\n",
              "       'kcl_b_ind_mosaicsgrouping_Unknown',\n",
              "       'kcl_b_ind_mosaicsgrouping_Young City Solos', 'new_mover_flag_N',\n",
              "       'new_mover_flag_Y', 'motorcycle_indicator_N',\n",
              "       'motorcycle_indicator_Y', 'sc_vehicle_manufacturer_name_ACURA',\n",
              "       'sc_vehicle_manufacturer_name_APRILIA',\n",
              "       'sc_vehicle_manufacturer_name_AUDI',\n",
              "       'sc_vehicle_manufacturer_name_AUSTIN HEALEY',\n",
              "       'sc_vehicle_manufacturer_name_BICYCLE',\n",
              "       'sc_vehicle_manufacturer_name_BMW',\n",
              "       'sc_vehicle_manufacturer_name_BUICK',\n",
              "       'sc_vehicle_manufacturer_name_CADILLAC',\n",
              "       'sc_vehicle_manufacturer_name_CHEVROLET',\n",
              "       'sc_vehicle_manufacturer_name_CHEVY',\n",
              "       'sc_vehicle_manufacturer_name_CHRYSLER',\n",
              "       'sc_vehicle_manufacturer_name_CRYSLER',\n",
              "       'sc_vehicle_manufacturer_name_Chevrolet',\n",
              "       'sc_vehicle_manufacturer_name_Chrysler',\n",
              "       'sc_vehicle_manufacturer_name_DODGE',\n",
              "       'sc_vehicle_manufacturer_name_FERRARI',\n",
              "       'sc_vehicle_manufacturer_name_FIAT',\n",
              "       'sc_vehicle_manufacturer_name_FORD',\n",
              "       'sc_vehicle_manufacturer_name_FWD CORPORATION',\n",
              "       'sc_vehicle_manufacturer_name_Ford',\n",
              "       'sc_vehicle_manufacturer_name_GENESIS',\n",
              "       'sc_vehicle_manufacturer_name_GEO',\n",
              "       'sc_vehicle_manufacturer_name_GMC',\n",
              "       'sc_vehicle_manufacturer_name_HINO',\n",
              "       'sc_vehicle_manufacturer_name_HONDA',\n",
              "       'sc_vehicle_manufacturer_name_HUMMER',\n",
              "       'sc_vehicle_manufacturer_name_HUNDAI',\n",
              "       'sc_vehicle_manufacturer_name_HYUNDAI',\n",
              "       'sc_vehicle_manufacturer_name_Honda',\n",
              "       'sc_vehicle_manufacturer_name_Hyundai',\n",
              "       'sc_vehicle_manufacturer_name_INFINITI',\n",
              "       'sc_vehicle_manufacturer_name_ISO',\n",
              "       'sc_vehicle_manufacturer_name_ISUZU',\n",
              "       'sc_vehicle_manufacturer_name_JAGUAR',\n",
              "       'sc_vehicle_manufacturer_name_JEEP',\n",
              "       'sc_vehicle_manufacturer_name_KAWASAKI',\n",
              "       'sc_vehicle_manufacturer_name_KIA',\n",
              "       'sc_vehicle_manufacturer_name_Kia',\n",
              "       'sc_vehicle_manufacturer_name_LAND ROVER',\n",
              "       'sc_vehicle_manufacturer_name_LEXUS',\n",
              "       'sc_vehicle_manufacturer_name_LINCOLN',\n",
              "       'sc_vehicle_manufacturer_name_MASERATI',\n",
              "       'sc_vehicle_manufacturer_name_MAZDA',\n",
              "       'sc_vehicle_manufacturer_name_MERCEDES-BENZ',\n",
              "       'sc_vehicle_manufacturer_name_MERCURY',\n",
              "       'sc_vehicle_manufacturer_name_MG',\n",
              "       'sc_vehicle_manufacturer_name_MINI',\n",
              "       'sc_vehicle_manufacturer_name_MITSUBISHI',\n",
              "       'sc_vehicle_manufacturer_name_NISSAN',\n",
              "       'sc_vehicle_manufacturer_name_Nissan',\n",
              "       'sc_vehicle_manufacturer_name_OLDSMOBILE',\n",
              "       'sc_vehicle_manufacturer_name_PATHFINDER',\n",
              "       'sc_vehicle_manufacturer_name_PLYMOUTH',\n",
              "       'sc_vehicle_manufacturer_name_PONTIAC',\n",
              "       'sc_vehicle_manufacturer_name_PORSCHE',\n",
              "       'sc_vehicle_manufacturer_name_Pontiac',\n",
              "       'sc_vehicle_manufacturer_name_RAM',\n",
              "       'sc_vehicle_manufacturer_name_ROLLS ROYCE',\n",
              "       'sc_vehicle_manufacturer_name_SAAB',\n",
              "       'sc_vehicle_manufacturer_name_SATURN',\n",
              "       'sc_vehicle_manufacturer_name_SCION',\n",
              "       'sc_vehicle_manufacturer_name_SEMI',\n",
              "       'sc_vehicle_manufacturer_name_SMART',\n",
              "       'sc_vehicle_manufacturer_name_SUBARU',\n",
              "       'sc_vehicle_manufacturer_name_SUZUKI',\n",
              "       'sc_vehicle_manufacturer_name_Subaru',\n",
              "       'sc_vehicle_manufacturer_name_TOYOTA',\n",
              "       'sc_vehicle_manufacturer_name_TRIUMPH',\n",
              "       'sc_vehicle_manufacturer_name_Toyota',\n",
              "       'sc_vehicle_manufacturer_name_UNK',\n",
              "       'sc_vehicle_manufacturer_name_Unknown',\n",
              "       'sc_vehicle_manufacturer_name_VOLKSWAGEN',\n",
              "       'sc_vehicle_manufacturer_name_VOLKSWAGON',\n",
              "       'sc_vehicle_manufacturer_name_VOLVO',\n",
              "       'sc_vehicle_manufacturer_name_Volvo', 'sc_vehicle_model_name_135I',\n",
              "       'sc_vehicle_model_name_150', 'sc_vehicle_model_name_1500',\n",
              "       'sc_vehicle_model_name_190D', 'sc_vehicle_model_name_2',\n",
              "       'sc_vehicle_model_name_200', 'sc_vehicle_model_name_23',\n",
              "       'sc_vehicle_model_name_230I', 'sc_vehicle_model_name_240',\n",
              "       'sc_vehicle_model_name_245', 'sc_vehicle_model_name_3',\n",
              "       'sc_vehicle_model_name_300', 'sc_vehicle_model_name_3000',\n",
              "       'sc_vehicle_model_name_300M', 'sc_vehicle_model_name_300ZX',\n",
              "       'sc_vehicle_model_name_308 GTB',\n",
              "       'sc_vehicle_model_name_320I XDRIVE', 'sc_vehicle_model_name_323I',\n",
              "       'sc_vehicle_model_name_325CI', 'sc_vehicle_model_name_325I',\n",
              "       'sc_vehicle_model_name_325XI', 'sc_vehicle_model_name_326XI',\n",
              "       'sc_vehicle_model_name_328I', 'sc_vehicle_model_name_328I XDRIVE',\n",
              "       'sc_vehicle_model_name_328XI', 'sc_vehicle_model_name_330I',\n",
              "       'sc_vehicle_model_name_330XI', 'sc_vehicle_model_name_335I',\n",
              "       'sc_vehicle_model_name_3500', 'sc_vehicle_model_name_380SL',\n",
              "       'sc_vehicle_model_name_420SEL', 'sc_vehicle_model_name_450SL',\n",
              "       'sc_vehicle_model_name_4RUNNER', 'sc_vehicle_model_name_5',\n",
              "       'sc_vehicle_model_name_500', 'sc_vehicle_model_name_528I',\n",
              "       'sc_vehicle_model_name_528I XDRIVE', 'sc_vehicle_model_name_528XI',\n",
              "       'sc_vehicle_model_name_52I', 'sc_vehicle_model_name_530I',\n",
              "       'sc_vehicle_model_name_535I', 'sc_vehicle_model_name_535I GT',\n",
              "       'sc_vehicle_model_name_535I XDRIVE', 'sc_vehicle_model_name_535XI',\n",
              "       'sc_vehicle_model_name_560SL', 'sc_vehicle_model_name_590',\n",
              "       'sc_vehicle_model_name_6', 'sc_vehicle_model_name_626',\n",
              "       'sc_vehicle_model_name_740', 'sc_vehicle_model_name_740I',\n",
              "       'sc_vehicle_model_name_750LI', 'sc_vehicle_model_name_760LI',\n",
              "       'sc_vehicle_model_name_850', 'sc_vehicle_model_name_88',\n",
              "       'sc_vehicle_model_name_9/3/19 0:00',\n",
              "       'sc_vehicle_model_name_9/5/19 0:00', 'sc_vehicle_model_name_900',\n",
              "       'sc_vehicle_model_name_9000', 'sc_vehicle_model_name_911',\n",
              "       'sc_vehicle_model_name_914', 'sc_vehicle_model_name_93',\n",
              "       'sc_vehicle_model_name_940', 'sc_vehicle_model_name_95',\n",
              "       'sc_vehicle_model_name_950R', 'sc_vehicle_model_name_960',\n",
              "       'sc_vehicle_model_name_A200', 'sc_vehicle_model_name_A3',\n",
              "       'sc_vehicle_model_name_A4', 'sc_vehicle_model_name_A4 QUATTRO',\n",
              "       'sc_vehicle_model_name_A6', 'sc_vehicle_model_name_A7',\n",
              "       'sc_vehicle_model_name_A8 QUATTRO', 'sc_vehicle_model_name_ACADIA',\n",
              "       'sc_vehicle_model_name_ACCENT', 'sc_vehicle_model_name_ACCLAIM',\n",
              "       'sc_vehicle_model_name_ACCORD',\n",
              "       'sc_vehicle_model_name_ACCORD CROSSTOUR',\n",
              "       'sc_vehicle_model_name_ACCORD/FWD', 'sc_vehicle_model_name_ALERO',\n",
              "       'sc_vehicle_model_name_ALMERA', 'sc_vehicle_model_name_ALT',\n",
              "       'sc_vehicle_model_name_ALTIMA', 'sc_vehicle_model_name_AMANTI',\n",
              "       'sc_vehicle_model_name_ARMONTI', 'sc_vehicle_model_name_ASTRO',\n",
              "       'sc_vehicle_model_name_ATS', 'sc_vehicle_model_name_AURA',\n",
              "       'sc_vehicle_model_name_AURORA', 'sc_vehicle_model_name_AVALANCHE',\n",
              "       'sc_vehicle_model_name_AVALANCHE 1500',\n",
              "       'sc_vehicle_model_name_AVALON', 'sc_vehicle_model_name_AVENGER',\n",
              "       'sc_vehicle_model_name_AVEO', 'sc_vehicle_model_name_AVIATOR',\n",
              "       'sc_vehicle_model_name_AXIOM', 'sc_vehicle_model_name_AZERA',\n",
              "       'sc_vehicle_model_name_B1500', 'sc_vehicle_model_name_B200',\n",
              "       'sc_vehicle_model_name_B2000', 'sc_vehicle_model_name_B2300',\n",
              "       'sc_vehicle_model_name_B2500', 'sc_vehicle_model_name_BAJA',\n",
              "       'sc_vehicle_model_name_BEETLE', 'sc_vehicle_model_name_BEL AIR',\n",
              "       'sc_vehicle_model_name_BELAIR', 'sc_vehicle_model_name_BICYCLE',\n",
              "       'sc_vehicle_model_name_BLAZER', 'sc_vehicle_model_name_BONNEVILLE',\n",
              "       'sc_vehicle_model_name_BOXSTER', 'sc_vehicle_model_name_BREEZE',\n",
              "       'sc_vehicle_model_name_BROUGHAM', 'sc_vehicle_model_name_BUG',\n",
              "       'sc_vehicle_model_name_C', 'sc_vehicle_model_name_C10',\n",
              "       'sc_vehicle_model_name_C1500',\n",
              "       'sc_vehicle_model_name_C1500 SUBURBAN',\n",
              "       'sc_vehicle_model_name_C20', 'sc_vehicle_model_name_C220',\n",
              "       'sc_vehicle_model_name_C240',\n",
              "       'sc_vehicle_model_name_C2500 SUBURBAN',\n",
              "       'sc_vehicle_model_name_C280', 'sc_vehicle_model_name_C30',\n",
              "       'sc_vehicle_model_name_C300', 'sc_vehicle_model_name_C320',\n",
              "       'sc_vehicle_model_name_C350', 'sc_vehicle_model_name_C3500',\n",
              "       'sc_vehicle_model_name_C70', 'sc_vehicle_model_name_CABRIO',\n",
              "       'sc_vehicle_model_name_CALAIS', 'sc_vehicle_model_name_CALIBER',\n",
              "       'sc_vehicle_model_name_CAMARO', 'sc_vehicle_model_name_CAMRY',\n",
              "       'sc_vehicle_model_name_CANYON', 'sc_vehicle_model_name_CAPRICE',\n",
              "       'sc_vehicle_model_name_CAPTIVA SPORT',\n",
              "       'sc_vehicle_model_name_CARAVAN', 'sc_vehicle_model_name_CAVALIER',\n",
              "       'sc_vehicle_model_name_CAYENNE', 'sc_vehicle_model_name_CC',\n",
              "       'sc_vehicle_model_name_CELEBRITY', 'sc_vehicle_model_name_CELICA',\n",
              "       'sc_vehicle_model_name_CENTURY', 'sc_vehicle_model_name_CHARGER',\n",
              "       'sc_vehicle_model_name_CHEROKEE', 'sc_vehicle_model_name_CHEVY',\n",
              "       'sc_vehicle_model_name_CHEVY PICKUP',\n",
              "       'sc_vehicle_model_name_CIRRUS', 'sc_vehicle_model_name_CIVIC',\n",
              "       'sc_vehicle_model_name_CJ5', 'sc_vehicle_model_name_CL',\n",
              "       'sc_vehicle_model_name_CL500', 'sc_vehicle_model_name_CL550',\n",
              "       'sc_vehicle_model_name_CL600', 'sc_vehicle_model_name_CLA250',\n",
              "       'sc_vehicle_model_name_CLASSIC', 'sc_vehicle_model_name_CLK320',\n",
              "       'sc_vehicle_model_name_CLK350', 'sc_vehicle_model_name_CLS500',\n",
              "       'sc_vehicle_model_name_COBALT', 'sc_vehicle_model_name_COLORADO',\n",
              "       'sc_vehicle_model_name_COMMANDER', 'sc_vehicle_model_name_COMPASS',\n",
              "       'sc_vehicle_model_name_CONCORDE',\n",
              "       'sc_vehicle_model_name_CONTINENTAL',\n",
              "       'sc_vehicle_model_name_CONTOUR', 'sc_vehicle_model_name_COOPER',\n",
              "       'sc_vehicle_model_name_COOPER COUNTRYMAN',\n",
              "       'sc_vehicle_model_name_CORO', 'sc_vehicle_model_name_COROLLA',\n",
              "       'sc_vehicle_model_name_CORRADO', 'sc_vehicle_model_name_CORSICA',\n",
              "       'sc_vehicle_model_name_CORVETTE', 'sc_vehicle_model_name_COUGAR',\n",
              "       'sc_vehicle_model_name_CR-V',\n",
              "       'sc_vehicle_model_name_CROSS COUNTRY',\n",
              "       'sc_vehicle_model_name_CROSSFIRE',\n",
              "       'sc_vehicle_model_name_CROSSTREK',\n",
              "       'sc_vehicle_model_name_CROWN VICTORIA',\n",
              "       'sc_vehicle_model_name_CRUZE', 'sc_vehicle_model_name_CRV',\n",
              "       'sc_vehicle_model_name_CT200H', 'sc_vehicle_model_name_CTS',\n",
              "       'sc_vehicle_model_name_CUBE',\n",
              "       'sc_vehicle_model_name_CUSTOM CRUISER',\n",
              "       'sc_vehicle_model_name_CUTLASS',\n",
              "       'sc_vehicle_model_name_CUTLASS CIERA',\n",
              "       'sc_vehicle_model_name_CUTLASS SUPREME',\n",
              "       'sc_vehicle_model_name_CX-5', 'sc_vehicle_model_name_CX-7',\n",
              "       'sc_vehicle_model_name_CX-9', 'sc_vehicle_model_name_DAKOTA',\n",
              "       'sc_vehicle_model_name_DART', 'sc_vehicle_model_name_DELTA 88',\n",
              "       'sc_vehicle_model_name_DEVILLE', 'sc_vehicle_model_name_DISCOVERY',\n",
              "       'sc_vehicle_model_name_DTS', 'sc_vehicle_model_name_DURANGO',\n",
              "       'sc_vehicle_model_name_E-150 ECONOLINE',\n",
              "       'sc_vehicle_model_name_E-250',\n",
              "       'sc_vehicle_model_name_E-350 ECONOLINE',\n",
              "       'sc_vehicle_model_name_E-350 SUPER DUTY',\n",
              "       'sc_vehicle_model_name_E300', 'sc_vehicle_model_name_E320',\n",
              "       'sc_vehicle_model_name_E350', 'sc_vehicle_model_name_E430',\n",
              "       'sc_vehicle_model_name_E550', 'sc_vehicle_model_name_ECHO',\n",
              "       'sc_vehicle_model_name_ECLIPSE', 'sc_vehicle_model_name_ECONOLINE',\n",
              "       'sc_vehicle_model_name_ECONOLINE VAN',\n",
              "       'sc_vehicle_model_name_EDGE', 'sc_vehicle_model_name_EL',\n",
              "       'sc_vehicle_model_name_ELANTRA',\n",
              "       'sc_vehicle_model_name_ELANTRA GT',\n",
              "       'sc_vehicle_model_name_ELDORADO', 'sc_vehicle_model_name_ELECTRA',\n",
              "       'sc_vehicle_model_name_ELEMENT',\n",
              "       'sc_vehicle_model_name_EN500C VULCAN 500',\n",
              "       'sc_vehicle_model_name_ENCLAVE', 'sc_vehicle_model_name_ENCORE',\n",
              "       'sc_vehicle_model_name_ENDEAVOR',\n",
              "       'sc_vehicle_model_name_ENTOURAGE', 'sc_vehicle_model_name_ENVOY',\n",
              "       'sc_vehicle_model_name_EOS', 'sc_vehicle_model_name_EQUINOX',\n",
              "       'sc_vehicle_model_name_EQUUS', 'sc_vehicle_model_name_ES300',\n",
              "       'sc_vehicle_model_name_ES330', 'sc_vehicle_model_name_ES350',\n",
              "       'sc_vehicle_model_name_ESCALADE', 'sc_vehicle_model_name_ESCAPE',\n",
              "       'sc_vehicle_model_name_ESCORT', 'sc_vehicle_model_name_ETS',\n",
              "       'sc_vehicle_model_name_EXCURSION',\n",
              "       'sc_vehicle_model_name_EXPEDITION',\n",
              "       'sc_vehicle_model_name_EXPLORER',\n",
              "       'sc_vehicle_model_name_EXPLORER SPORT TR',\n",
              "       'sc_vehicle_model_name_EXPRESS 1500',\n",
              "       'sc_vehicle_model_name_EXPRESS 2500',\n",
              "       'sc_vehicle_model_name_EXPRESS 3500',\n",
              "       'sc_vehicle_model_name_Equinox', 'sc_vehicle_model_name_Escape',\n",
              "       'sc_vehicle_model_name_F-150', 'sc_vehicle_model_name_F-250',\n",
              "       'sc_vehicle_model_name_F-250 HD',\n",
              "       'sc_vehicle_model_name_F-250 SUPER DUTY',\n",
              "       'sc_vehicle_model_name_F-350',\n",
              "       'sc_vehicle_model_name_F-350 SUPER DUTY',\n",
              "       'sc_vehicle_model_name_F-450 SUPER DUTY',\n",
              "       'sc_vehicle_model_name_F-550 SUPER DUTY',\n",
              "       'sc_vehicle_model_name_F-TYPE', 'sc_vehicle_model_name_F150',\n",
              "       'sc_vehicle_model_name_F650', 'sc_vehicle_model_name_FAIRLANE',\n",
              "       'sc_vehicle_model_name_FIESTA', 'sc_vehicle_model_name_FIREBIRD',\n",
              "       'sc_vehicle_model_name_FIT', 'sc_vehicle_model_name_FIVE HUNDRED',\n",
              "       'sc_vehicle_model_name_FLEETWOOD', 'sc_vehicle_model_name_FLEX',\n",
              "       'sc_vehicle_model_name_FOCUS', 'sc_vehicle_model_name_FORESTER',\n",
              "       'sc_vehicle_model_name_FORTE', 'sc_vehicle_model_name_FR-S',\n",
              "       'sc_vehicle_model_name_FREELANDER',\n",
              "       'sc_vehicle_model_name_FREESTAR',\n",
              "       'sc_vehicle_model_name_FREESTYLE',\n",
              "       'sc_vehicle_model_name_FRONTIER', 'sc_vehicle_model_name_FUSION',\n",
              "       'sc_vehicle_model_name_FX35', 'sc_vehicle_model_name_Forester',\n",
              "       'sc_vehicle_model_name_G20', 'sc_vehicle_model_name_G25',\n",
              "       'sc_vehicle_model_name_G35', 'sc_vehicle_model_name_G37',\n",
              "       'sc_vehicle_model_name_G5', 'sc_vehicle_model_name_G6',\n",
              "       'sc_vehicle_model_name_G80', 'sc_vehicle_model_name_GALANT',\n",
              "       'sc_vehicle_model_name_GALAXIE',\n",
              "       'sc_vehicle_model_name_GALAXIE 500',\n",
              "       'sc_vehicle_model_name_GENESIS', 'sc_vehicle_model_name_GIULIETTA',\n",
              "       'sc_vehicle_model_name_GL63 AMG',\n",
              "       'sc_vehicle_model_name_GLADIATOR', 'sc_vehicle_model_name_GLE350',\n",
              "       'sc_vehicle_model_name_GLK350', 'sc_vehicle_model_name_GOLF',\n",
              "       'sc_vehicle_model_name_GRAND AM',\n",
              "       'sc_vehicle_model_name_GRAND CARAVAN',\n",
              "       'sc_vehicle_model_name_GRAND CHEROKEE',\n",
              "       'sc_vehicle_model_name_GRAND MARQUIS',\n",
              "       'sc_vehicle_model_name_GRAND PRIX',\n",
              "       'sc_vehicle_model_name_GRAND VITARA',\n",
              "       'sc_vehicle_model_name_GRAND VOYAGER',\n",
              "       'sc_vehicle_model_name_GS300', 'sc_vehicle_model_name_GS330',\n",
              "       'sc_vehicle_model_name_GS350', 'sc_vehicle_model_name_GT-R',\n",
              "       'sc_vehicle_model_name_GTI', 'sc_vehicle_model_name_GX460',\n",
              "       'sc_vehicle_model_name_GX470', 'sc_vehicle_model_name_H2',\n",
              "       'sc_vehicle_model_name_HHR', 'sc_vehicle_model_name_HIGHLANDER',\n",
              "       'sc_vehicle_model_name_HORIZON', 'sc_vehicle_model_name_HR-V',\n",
              "       'sc_vehicle_model_name_I30', 'sc_vehicle_model_name_I35',\n",
              "       'sc_vehicle_model_name_IMPALA',\n",
              "       'sc_vehicle_model_name_IMPALA LIMITED',\n",
              "       'sc_vehicle_model_name_IMPREZA', 'sc_vehicle_model_name_INSIGHT',\n",
              "       'sc_vehicle_model_name_INTREPID', 'sc_vehicle_model_name_INTRIGUE',\n",
              "       'sc_vehicle_model_name_ION', 'sc_vehicle_model_name_IS250',\n",
              "       'sc_vehicle_model_name_IS350', 'sc_vehicle_model_name_JETTA',\n",
              "       'sc_vehicle_model_name_JIMMY', 'sc_vehicle_model_name_JOURNEY',\n",
              "       'sc_vehicle_model_name_JUKE', 'sc_vehicle_model_name_JUNIOR',\n",
              "       'sc_vehicle_model_name_K1500', 'sc_vehicle_model_name_K2500',\n",
              "       'sc_vehicle_model_name_K30', 'sc_vehicle_model_name_KONA',\n",
              "       'sc_vehicle_model_name_L200', 'sc_vehicle_model_name_L300',\n",
              "       'sc_vehicle_model_name_LACROSSE', 'sc_vehicle_model_name_LANCER',\n",
              "       'sc_vehicle_model_name_LAND CRUISER',\n",
              "       'sc_vehicle_model_name_LEBARON', 'sc_vehicle_model_name_LEGACY',\n",
              "       'sc_vehicle_model_name_LESABRE', 'sc_vehicle_model_name_LHS',\n",
              "       'sc_vehicle_model_name_LIBERTY', 'sc_vehicle_model_name_LIMITED',\n",
              "       'sc_vehicle_model_name_LOYALE', 'sc_vehicle_model_name_LR3',\n",
              "       'sc_vehicle_model_name_LS', 'sc_vehicle_model_name_LS1',\n",
              "       'sc_vehicle_model_name_LS400', 'sc_vehicle_model_name_LS430',\n",
              "       'sc_vehicle_model_name_LS460',\n",
              "       'sc_vehicle_model_name_LTD CROWN VICTORI',\n",
              "       'sc_vehicle_model_name_LUCERNE', 'sc_vehicle_model_name_LUMINA',\n",
              "       'sc_vehicle_model_name_LX450', 'sc_vehicle_model_name_LX470',\n",
              "       'sc_vehicle_model_name_LX570', 'sc_vehicle_model_name_M35',\n",
              "       'sc_vehicle_model_name_M37', 'sc_vehicle_model_name_M37X',\n",
              "       'sc_vehicle_model_name_M45', 'sc_vehicle_model_name_M50 BOULEVARD',\n",
              "       'sc_vehicle_model_name_MAGNUM', 'sc_vehicle_model_name_MALIBU',\n",
              "       'sc_vehicle_model_name_MARAUDER', 'sc_vehicle_model_name_MARINER',\n",
              "       'sc_vehicle_model_name_MARK VII', 'sc_vehicle_model_name_MARQUIS',\n",
              "       'sc_vehicle_model_name_MATRIX', 'sc_vehicle_model_name_MAXIMA',\n",
              "       'sc_vehicle_model_name_MDX', 'sc_vehicle_model_name_MGB',\n",
              "       'sc_vehicle_model_name_MIATA', 'sc_vehicle_model_name_MIDGET',\n",
              "       'sc_vehicle_model_name_MILAN', 'sc_vehicle_model_name_MILLENIA',\n",
              "       'sc_vehicle_model_name_MIRAGE', 'sc_vehicle_model_name_MKC',\n",
              "       'sc_vehicle_model_name_MKS', 'sc_vehicle_model_name_MKX',\n",
              "       'sc_vehicle_model_name_MKZ', 'sc_vehicle_model_name_ML320',\n",
              "       'sc_vehicle_model_name_ML350', 'sc_vehicle_model_name_ML450',\n",
              "       'sc_vehicle_model_name_MODEL A',\n",
              "       'sc_vehicle_model_name_MONSTER DIESEL',\n",
              "       'sc_vehicle_model_name_MONTANA',\n",
              "       'sc_vehicle_model_name_MONTE CARLO',\n",
              "       'sc_vehicle_model_name_MONTEGO', 'sc_vehicle_model_name_MONTEREY',\n",
              "       'sc_vehicle_model_name_MONTERO',\n",
              "       'sc_vehicle_model_name_MOUNTAINEER', 'sc_vehicle_model_name_MPV',\n",
              "       'sc_vehicle_model_name_MURANO', 'sc_vehicle_model_name_MUSTANG',\n",
              "       'sc_vehicle_model_name_MX-5', 'sc_vehicle_model_name_MX-5 MIATA',\n",
              "       'sc_vehicle_model_name_MX05', 'sc_vehicle_model_name_MYSTIQUE',\n",
              "       'sc_vehicle_model_name_Mustang', 'sc_vehicle_model_name_NAVIGATOR',\n",
              "       'sc_vehicle_model_name_NEON', 'sc_vehicle_model_name_NOVA',\n",
              "       'sc_vehicle_model_name_ODYSSEY', 'sc_vehicle_model_name_OPTIMA',\n",
              "       'sc_vehicle_model_name_OUTBACK',\n",
              "       'sc_vehicle_model_name_OUTLANDER SPORT',\n",
              "       'sc_vehicle_model_name_OUTLOOK', 'sc_vehicle_model_name_PACIFICA',\n",
              "       'sc_vehicle_model_name_PARK AVENUE',\n",
              "       'sc_vehicle_model_name_PARK LANE', 'sc_vehicle_model_name_PASEO',\n",
              "       'sc_vehicle_model_name_PASSAT', 'sc_vehicle_model_name_PASSPORT',\n",
              "       'sc_vehicle_model_name_PATHFINDER',\n",
              "       'sc_vehicle_model_name_PATRIOT', 'sc_vehicle_model_name_PICKUP',\n",
              "       'sc_vehicle_model_name_PILOT', 'sc_vehicle_model_name_PRIUS',\n",
              "       'sc_vehicle_model_name_PRIUS PRIME', 'sc_vehicle_model_name_PRIZM',\n",
              "       'sc_vehicle_model_name_PROBE', 'sc_vehicle_model_name_PROTEGE',\n",
              "       'sc_vehicle_model_name_PT CRUISER', 'sc_vehicle_model_name_Pilot',\n",
              "       'sc_vehicle_model_name_Q3', 'sc_vehicle_model_name_Q3 QUATTRO',\n",
              "       'sc_vehicle_model_name_Q45', 'sc_vehicle_model_name_Q50',\n",
              "       'sc_vehicle_model_name_Q7', 'sc_vehicle_model_name_Q70',\n",
              "       'sc_vehicle_model_name_QUATTROPORTE',\n",
              "       'sc_vehicle_model_name_QUEST', 'sc_vehicle_model_name_QX4',\n",
              "       'sc_vehicle_model_name_QX56', 'sc_vehicle_model_name_R350',\n",
              "       'sc_vehicle_model_name_RABBIT', 'sc_vehicle_model_name_RAM',\n",
              "       'sc_vehicle_model_name_RAM 1500',\n",
              "       'sc_vehicle_model_name_RAM 1500 VAN',\n",
              "       'sc_vehicle_model_name_RAM 2500',\n",
              "       'sc_vehicle_model_name_RAM 3500 VAN',\n",
              "       'sc_vehicle_model_name_RAM 50', 'sc_vehicle_model_name_RAM 5500',\n",
              "       'sc_vehicle_model_name_RAMBLER',\n",
              "       'sc_vehicle_model_name_RANGE ROVER',\n",
              "       'sc_vehicle_model_name_RANGE ROVER EVOQU',\n",
              "       'sc_vehicle_model_name_RANGE ROVER SPORT',\n",
              "       'sc_vehicle_model_name_RANGER', 'sc_vehicle_model_name_RAV 4',\n",
              "       'sc_vehicle_model_name_RAV4', 'sc_vehicle_model_name_RDX',\n",
              "       'sc_vehicle_model_name_REGAL', 'sc_vehicle_model_name_RENDEZVOUS',\n",
              "       'sc_vehicle_model_name_RENEGADE',\n",
              "       'sc_vehicle_model_name_RIDGELINE', 'sc_vehicle_model_name_RIO',\n",
              "       'sc_vehicle_model_name_RIVIERA', 'sc_vehicle_model_name_RIVOLTA',\n",
              "       'sc_vehicle_model_name_RL', 'sc_vehicle_model_name_RLX',\n",
              "       'sc_vehicle_model_name_ROADMASTER', 'sc_vehicle_model_name_RODEO',\n",
              "       'sc_vehicle_model_name_ROGUE', 'sc_vehicle_model_name_RONDO',\n",
              "       'sc_vehicle_model_name_ROUGE', 'sc_vehicle_model_name_RSX',\n",
              "       'sc_vehicle_model_name_RX-7', 'sc_vehicle_model_name_RX-8',\n",
              "       'sc_vehicle_model_name_RX300', 'sc_vehicle_model_name_RX330',\n",
              "       'sc_vehicle_model_name_RX350', 'sc_vehicle_model_name_RX400H',\n",
              "       'sc_vehicle_model_name_RX450H', 'sc_vehicle_model_name_Regal',\n",
              "       'sc_vehicle_model_name_Rogue', 'sc_vehicle_model_name_S-10',\n",
              "       'sc_vehicle_model_name_S-TYPE', 'sc_vehicle_model_name_S10',\n",
              "       'sc_vehicle_model_name_S320', 'sc_vehicle_model_name_S4',\n",
              "       'sc_vehicle_model_name_S40', 'sc_vehicle_model_name_S420',\n",
              "       'sc_vehicle_model_name_S500', 'sc_vehicle_model_name_S550',\n",
              "       'sc_vehicle_model_name_S60', 'sc_vehicle_model_name_S600',\n",
              "       'sc_vehicle_model_name_S70', 'sc_vehicle_model_name_S80',\n",
              "       'sc_vehicle_model_name_S90', 'sc_vehicle_model_name_SABLE',\n",
              "       'sc_vehicle_model_name_SAFARI', 'sc_vehicle_model_name_SANTA FE',\n",
              "       'sc_vehicle_model_name_SATA FEY',\n",
              "       'sc_vehicle_model_name_SAVANA 1500',\n",
              "       'sc_vehicle_model_name_SAVANA 2500',\n",
              "       'sc_vehicle_model_name_SAVANA 3500', 'sc_vehicle_model_name_SC1',\n",
              "       'sc_vehicle_model_name_SC2', 'sc_vehicle_model_name_SC430',\n",
              "       'sc_vehicle_model_name_SCION XD', 'sc_vehicle_model_name_SEBRING',\n",
              "       'sc_vehicle_model_name_SEDAN', 'sc_vehicle_model_name_SEDONA',\n",
              "       'sc_vehicle_model_name_SENATA', 'sc_vehicle_model_name_SENTRA',\n",
              "       'sc_vehicle_model_name_SENTRE', 'sc_vehicle_model_name_SEPHIA',\n",
              "       'sc_vehicle_model_name_SEQUOIA', 'sc_vehicle_model_name_SERIES 60',\n",
              "       'sc_vehicle_model_name_SEVILLE', 'sc_vehicle_model_name_SHADOW',\n",
              "       'sc_vehicle_model_name_SIDEKICK', 'sc_vehicle_model_name_SIENNA',\n",
              "       'sc_vehicle_model_name_SIERRA',\n",
              "       'sc_vehicle_model_name_SIERRA 1500',\n",
              "       'sc_vehicle_model_name_SIERRA 1500 HD',\n",
              "       'sc_vehicle_model_name_SIERRA 2500',\n",
              "       'sc_vehicle_model_name_SIERRA 2500 HD',\n",
              "       'sc_vehicle_model_name_SIERRA 3500 HD',\n",
              "       'sc_vehicle_model_name_SILHOUETTE',\n",
              "       'sc_vehicle_model_name_SILVERADO',\n",
              "       'sc_vehicle_model_name_SILVERADO 1500',\n",
              "       'sc_vehicle_model_name_SILVERADO 1500 HD',\n",
              "       'sc_vehicle_model_name_SILVERADO 1500 LE',\n",
              "       'sc_vehicle_model_name_SILVERADO 2500',\n",
              "       'sc_vehicle_model_name_SILVERADO 2500 HD',\n",
              "       'sc_vehicle_model_name_SILVERADO 3500',\n",
              "       'sc_vehicle_model_name_SKYLARK', 'sc_vehicle_model_name_SL',\n",
              "       'sc_vehicle_model_name_SL1', 'sc_vehicle_model_name_SL2',\n",
              "       'sc_vehicle_model_name_SL500', 'sc_vehicle_model_name_SL550',\n",
              "       'sc_vehicle_model_name_SLK230', 'sc_vehicle_model_name_SLK280',\n",
              "       'sc_vehicle_model_name_SLK320', 'sc_vehicle_model_name_SLK350',\n",
              "       'sc_vehicle_model_name_SMART', 'sc_vehicle_model_name_SOLARA',\n",
              "       'sc_vehicle_model_name_SOLSTICE', 'sc_vehicle_model_name_SOMERSET',\n",
              "       'sc_vehicle_model_name_SONATA', 'sc_vehicle_model_name_SONIC',\n",
              "       'sc_vehicle_model_name_SONOMA', 'sc_vehicle_model_name_SORENTO',\n",
              "       'sc_vehicle_model_name_SOUL', 'sc_vehicle_model_name_SPECTRA',\n",
              "       'sc_vehicle_model_name_SPORTAGE',\n",
              "       'sc_vehicle_model_name_SPRINTER 2500', 'sc_vehicle_model_name_SRX',\n",
              "       'sc_vehicle_model_name_STATION WAGON',\n",
              "       'sc_vehicle_model_name_STRADA', 'sc_vehicle_model_name_STRATUS',\n",
              "       'sc_vehicle_model_name_STS', 'sc_vehicle_model_name_SUBURBAN',\n",
              "       'sc_vehicle_model_name_SUBURBAN 1500',\n",
              "       'sc_vehicle_model_name_SUBURBAN 2500',\n",
              "       'sc_vehicle_model_name_SUNBIRD', 'sc_vehicle_model_name_SUNFIRE',\n",
              "       'sc_vehicle_model_name_SW1', 'sc_vehicle_model_name_SW2',\n",
              "       'sc_vehicle_model_name_SX4 CROSSOVER',\n",
              "       'sc_vehicle_model_name_Savana 3500',\n",
              "       'sc_vehicle_model_name_Sebring', 'sc_vehicle_model_name_Sorento',\n",
              "       'sc_vehicle_model_name_T100', 'sc_vehicle_model_name_TACOMA',\n",
              "       'sc_vehicle_model_name_TAHOE', 'sc_vehicle_model_name_TAURUS',\n",
              "       'sc_vehicle_model_name_TC', 'sc_vehicle_model_name_TEMPO',\n",
              "       'sc_vehicle_model_name_TERCEL', 'sc_vehicle_model_name_TERRAIN',\n",
              "       'sc_vehicle_model_name_TF', 'sc_vehicle_model_name_THUNDERBIRD',\n",
              "       'sc_vehicle_model_name_TIBURON', 'sc_vehicle_model_name_TIGUAN',\n",
              "       'sc_vehicle_model_name_TITAN', 'sc_vehicle_model_name_TL',\n",
              "       'sc_vehicle_model_name_TLX', 'sc_vehicle_model_name_TOPAZ',\n",
              "       'sc_vehicle_model_name_TORRENT', 'sc_vehicle_model_name_TOUAREG',\n",
              "       'sc_vehicle_model_name_TOWN & COUNTRY',\n",
              "       'sc_vehicle_model_name_TOWN CAR', 'sc_vehicle_model_name_TR6',\n",
              "       'sc_vehicle_model_name_TRACER', 'sc_vehicle_model_name_TRACKER',\n",
              "       'sc_vehicle_model_name_TRAILBLAZER',\n",
              "       'sc_vehicle_model_name_TRAILBLAZER EXT',\n",
              "       'sc_vehicle_model_name_TRANSIT',\n",
              "       'sc_vehicle_model_name_TRANSIT CONNECT',\n",
              "       'sc_vehicle_model_name_TRAVERSE', 'sc_vehicle_model_name_TRAX',\n",
              "       'sc_vehicle_model_name_TRIBECA', 'sc_vehicle_model_name_TRIBUTE',\n",
              "       'sc_vehicle_model_name_TROOPER', 'sc_vehicle_model_name_TRUCK',\n",
              "       'sc_vehicle_model_name_TSX', 'sc_vehicle_model_name_TT',\n",
              "       'sc_vehicle_model_name_TUCSON', 'sc_vehicle_model_name_TUNDRA',\n",
              "       'sc_vehicle_model_name_TUONO FIGHTER 100',\n",
              "       'sc_vehicle_model_name_Tucson', 'sc_vehicle_model_name_Tundra',\n",
              "       'sc_vehicle_model_name_ULTIMA', 'sc_vehicle_model_name_UNK',\n",
              "       'sc_vehicle_model_name_UNK???', 'sc_vehicle_model_name_UPLANDER',\n",
              "       'sc_vehicle_model_name_UTILITY WAGON',\n",
              "       'sc_vehicle_model_name_Unknown', 'sc_vehicle_model_name_V60',\n",
              "       'sc_vehicle_model_name_V70', 'sc_vehicle_model_name_VAN',\n",
              "       'sc_vehicle_model_name_VANDEN PLAS',\n",
              "       'sc_vehicle_model_name_VELOSTER', 'sc_vehicle_model_name_VENTURE',\n",
              "       'sc_vehicle_model_name_VENZA', 'sc_vehicle_model_name_VERACRUZ',\n",
              "       'sc_vehicle_model_name_VERANO', 'sc_vehicle_model_name_VERONA',\n",
              "       'sc_vehicle_model_name_VERSA', 'sc_vehicle_model_name_VERSA NOTE',\n",
              "       'sc_vehicle_model_name_VIBE', 'sc_vehicle_model_name_VILLAGER',\n",
              "       'sc_vehicle_model_name_VITARA', 'sc_vehicle_model_name_VOLT',\n",
              "       'sc_vehicle_model_name_VOYAGER', 'sc_vehicle_model_name_VUE',\n",
              "       'sc_vehicle_model_name_W3500 TILTMASTER',\n",
              "       'sc_vehicle_model_name_WAGON', 'sc_vehicle_model_name_WINDSTAR',\n",
              "       'sc_vehicle_model_name_WRANGLER', 'sc_vehicle_model_name_WRX',\n",
              "       'sc_vehicle_model_name_X-90', 'sc_vehicle_model_name_X-TYPE',\n",
              "       'sc_vehicle_model_name_X3', 'sc_vehicle_model_name_X5',\n",
              "       'sc_vehicle_model_name_XA', 'sc_vehicle_model_name_XB',\n",
              "       'sc_vehicle_model_name_XC60', 'sc_vehicle_model_name_XC70',\n",
              "       'sc_vehicle_model_name_XC90', 'sc_vehicle_model_name_XD',\n",
              "       'sc_vehicle_model_name_XF', 'sc_vehicle_model_name_XG300',\n",
              "       'sc_vehicle_model_name_XG350', 'sc_vehicle_model_name_XJ',\n",
              "       'sc_vehicle_model_name_XJ12', 'sc_vehicle_model_name_XJ8',\n",
              "       'sc_vehicle_model_name_XJS', 'sc_vehicle_model_name_XK',\n",
              "       'sc_vehicle_model_name_XK8', 'sc_vehicle_model_name_XL-7',\n",
              "       'sc_vehicle_model_name_XTERRA', 'sc_vehicle_model_name_XTS',\n",
              "       'sc_vehicle_model_name_XV', 'sc_vehicle_model_name_XV CROSSTREK',\n",
              "       'sc_vehicle_model_name_YARIS', 'sc_vehicle_model_name_YUKON',\n",
              "       'sc_vehicle_model_name_YUKON XL',\n",
              "       'sc_vehicle_model_name_YUKON XL 1500',\n",
              "       'sc_vehicle_model_name_YUKON XL 2500',\n",
              "       'sc_vehicle_model_name_Yukon XL 1500', 'sc_vehicle_model_name_Z3',\n",
              "       'sc_vehicle_model_name_Z4', 'sc_vehicle_model_name_ZEPHYR'],\n",
              "      dtype=object)"
            ]
          },
          "metadata": {
            "tags": []
          },
          "execution_count": 38
        }
      ]
    },
    {
      "cell_type": "code",
      "metadata": {
        "id": "mZfQQ4A6dkFx",
        "colab_type": "code",
        "colab": {}
      },
      "source": [
        "\n",
        "X = data_final.loc[:, data_final.columns != 'target']\n",
        "y = data_final.loc[:, data_final.columns == 'target']"
      ],
      "execution_count": 0,
      "outputs": []
    },
    {
      "cell_type": "code",
      "metadata": {
        "id": "r80WVFq-fOGc",
        "colab_type": "code",
        "colab": {
          "base_uri": "https://localhost:8080/",
          "height": 190
        },
        "outputId": "28c3e60b-8bc3-43d6-dc41-7a31ddf153ad"
      },
      "source": [
        "from imblearn.over_sampling import SMOTE\n",
        "\n",
        "os = SMOTE(random_state=0)\n",
        "X_train, X_test, y_train, y_test = train_test_split(X, y, test_size=0.3, random_state=0)\n",
        "columns = X_train.columns\n",
        "\n",
        "os_data_X,os_data_y=os.fit_sample(X_train, y_train)\n",
        "os_data_X = pd.DataFrame(data=os_data_X,columns=columns )\n",
        "os_data_y= pd.DataFrame(data=os_data_y,columns=['target'])\n",
        "# we can Check the numbers of our data\n",
        "print(\"length of oversampled data is \",len(os_data_X))\n",
        "print(\"Number of no subscription in oversampled data\",len(os_data_y[os_data_y['target']==0]))\n",
        "print(\"Number of subscription\",len(os_data_y[os_data_y['target']==1]))\n",
        "print(\"Proportion of no subscription data in oversampled data is \",len(os_data_y[os_data_y['target']==0])/len(os_data_X))\n",
        "print(\"Proportion of subscription data in oversampled data is \",len(os_data_y[os_data_y['target']==1])/len(os_data_X))"
      ],
      "execution_count": 40,
      "outputs": [
        {
          "output_type": "stream",
          "text": [
            "/usr/local/lib/python3.6/dist-packages/sklearn/externals/six.py:31: DeprecationWarning: The module is deprecated in version 0.21 and will be removed in version 0.23 since we've dropped support for Python 2.7. Please rely on the official version of six (https://pypi.org/project/six/).\n",
            "  \"(https://pypi.org/project/six/).\", DeprecationWarning)\n",
            "/usr/local/lib/python3.6/dist-packages/sklearn/utils/validation.py:724: DataConversionWarning: A column-vector y was passed when a 1d array was expected. Please change the shape of y to (n_samples, ), for example using ravel().\n",
            "  y = column_or_1d(y, warn=True)\n"
          ],
          "name": "stderr"
        },
        {
          "output_type": "stream",
          "text": [
            "length of oversampled data is  11726\n",
            "Number of no subscription in oversampled data 5863\n",
            "Number of subscription 5863\n",
            "Proportion of no subscription data in oversampled data is  0.5\n",
            "Proportion of subscription data in oversampled data is  0.5\n"
          ],
          "name": "stdout"
        }
      ]
    },
    {
      "cell_type": "code",
      "metadata": {
        "id": "vFL9bN6ufivj",
        "colab_type": "code",
        "colab": {}
      },
      "source": [
        "data_final_vars=data_final.columns.values.tolist()\n",
        "y=['target']\n",
        "X=[i for i in data_final_vars if i not in y]"
      ],
      "execution_count": 0,
      "outputs": []
    },
    {
      "cell_type": "code",
      "metadata": {
        "id": "l7LReQuEfwt2",
        "colab_type": "code",
        "colab": {
          "base_uri": "https://localhost:8080/",
          "height": 1000
        },
        "outputId": "305279fd-3757-4307-a713-8893662bcbf3"
      },
      "source": [
        "# from sklearn import datasets\n",
        "# from sklearn.feature_selection import RFE\n",
        "# from sklearn.linear_model import LogisticRegression\n",
        "\n",
        "# logreg = LogisticRegression(solver='lbfgs')\n",
        "\n",
        "# rfe = RFE(logreg, 20)\n",
        "# rfe = rfe.fit(os_data_X, os_data_y.values.ravel())\n",
        "# print(rfe.support_)\n",
        "# print(rfe.ranking_)"
      ],
      "execution_count": 43,
      "outputs": [
        {
          "output_type": "stream",
          "text": [
            "[ True  True  True  True False  True False False False False False False\n",
            " False False False False False False False  True False  True False False\n",
            " False False False False False False False False False False False False\n",
            " False False False False False False False False False False False False\n",
            " False False False False False False False False False False False False\n",
            " False False False False False False False False False False False False\n",
            " False False False False False False False False False False  True False\n",
            " False False False False  True False  True False False False False False\n",
            " False False  True False  True False  True False False False False False\n",
            " False False False False False False False False False  True False  True\n",
            " False  True  True False False False False False False False False False\n",
            " False False False False False False False False False False False False\n",
            " False False False False False False False False False False False False\n",
            " False False False False False False False False False False False False\n",
            " False False False False False False False False False False False False\n",
            " False False False False False False False False False  True False False\n",
            " False  True False False False False False False False False False False\n",
            " False False False False False False False False False False False False\n",
            " False False False False False False False False False False False False\n",
            " False False False False False False False False False False False False\n",
            " False False False False False False False False False False False False\n",
            " False False False False False False False False False False False False\n",
            " False False False False False False False False False False False False\n",
            " False False False False False False False False False False False False\n",
            " False False False False False False False False False False False False\n",
            " False False False False False False False False False False False False\n",
            " False False False False False False False False False False False False\n",
            " False False False False False False False False False False False False\n",
            " False False False False False False False False False False False False\n",
            " False False False False False False False False False False False False\n",
            " False False False False False False False False False False False False\n",
            " False False False False False False False False False False False False\n",
            " False False False False False False False False False False False False\n",
            " False False False False False False False False False False False False\n",
            " False False False False False False False False False False False False\n",
            " False False False False False False False False False False False False\n",
            " False False False False False False False False False False False False\n",
            " False False False False False False False False False False False False\n",
            " False False False False False False False False False False False False\n",
            " False False False False False False False False False False False False\n",
            " False False False False False False False False False False False False\n",
            " False False False False False False False False False False False False\n",
            " False False False False False False False False False False False False\n",
            " False False False False False False False False False False False False\n",
            " False False False False False False False False False False False False\n",
            " False False False False False False False False False False False False\n",
            " False False False False False False False False False False False False\n",
            " False False False False False False False False False False False False\n",
            " False False False False False False False False False False False False\n",
            " False False False False False False False False False False False False\n",
            " False False False False False False False False False False False False\n",
            " False False False False False False False False False False False False\n",
            " False False False False False False False False False False False False\n",
            " False False False False False False False False False False False False\n",
            " False False False False False False False False False False False False\n",
            " False False False False False False False False False False False False\n",
            " False False False False False False False False False False False False\n",
            " False False False False False False False False False False False False\n",
            " False False False False False False False False False False False False\n",
            " False False False False False False False False False False False False\n",
            " False False False False False False False False False False False False\n",
            " False False False False False False False False False False False False\n",
            " False False False False False False False False False False False False\n",
            " False False False False False False False False False False False False\n",
            " False False False False False False False False False False False False\n",
            " False False False False False False False False False False False False\n",
            " False False False False False False False False False False False  True\n",
            " False False False False False False False False False False False False\n",
            " False False False False False False False False False False False False\n",
            " False False False False False False False False False False False False\n",
            " False False False False False False False False False False False False\n",
            " False False False False False False False False]\n",
            "[  1   1   1   1  52   1  23  17  45  43  25  53  44  21  24  26 220   2\n",
            "  83   1   6   1  16  42 152 213  71  89  78  67 140 134 589 635  68 283\n",
            " 153 126 217  59 316 793 138  41 241  61 612  63 238  99 103 342 460 386\n",
            " 520 321 296  96 654  12  73  46  88  13 312  33 212  29 139  69   5 835\n",
            "  81 101 120 142 257 130 270 317  47 289   1  64 408 265 229 182   1   9\n",
            "   1  19  20  35  30   4 215  82   1 129   1  27   1  85 411 166  49  18\n",
            "   3  31 256   8  77  58  38  34   7   1  91   1  65   1   1 118 691 147\n",
            " 823 736  70  66  94  14 594  60 828 656 461  54 774 304  11 766 754 539\n",
            " 301  97 526  10 810 651  22 757 536 148 796 385 245  36 427  90 668 194\n",
            "  48  98 615  56  55  50 298 145 202  32 600 110 839 165 102 250 426 171\n",
            " 547  93 121 191 800 640  39 319 477   1 806 555 803   1  40 770  51 597\n",
            " 432 510 247 759 716 725 478 566 467 818 200 223 779 240 792 783 444 802\n",
            " 650 474 315 645 464 544 286 568 821 627 829 610 470 577 233 294 303 281\n",
            " 563 395 782 499 356 790 562 391 585 534 187 266 567 675 667 576 231 258\n",
            " 150 159 508 606 537 400 468 236 507 497 372 624 366 237 438 425 840 741\n",
            " 328 155 552  37 469 573 423 775 487  79 390 581 299 502 338 737 622 451\n",
            " 106 232 421 709 819 715 490 812 587 533 361 579 160 596 647 735 282 831\n",
            " 684 551 445 443 761 816 358 503 429 410 287 665 441 399 255 801 740 807\n",
            " 436 350 773 604 198  15 771 798 309 203 235 371 561 643 519 141 335 175\n",
            " 707 734 422  57 607 580 795 500 767 794 516 634 731 769 268 295 832 201\n",
            " 718 280 721 161 504 595  28 655 571 272 393  62 825 407 529 279 157 248\n",
            " 473 151 603 817 359 346 797 253 472 392 183 700 553 190 559 711 228 543\n",
            " 708 437 285 343 449 173 511 488 733 699 465 609 196 772 115 332 789 485\n",
            " 225 428 453 701 677 394 324 380 271 763 167 199 117 288 100 434 838 259\n",
            " 417 158 352 340 297 584 657 765 104 178 540 703 284 435 572 484 813 433\n",
            " 370 820 494 360 413 560 679 658  80  76 172 522 349 357 710 326 113 532\n",
            " 476 530 661 455 302 674 329 538 327 746 598 542 320 799 619 376 666 209\n",
            " 186 412  84 107 409 277 557 261 457 290 431 424 574 755 663 724 119 815\n",
            " 325 688 751 124 505 149 697 308 252 180 336 785  75 514 323 644 527 365\n",
            " 570 659 575 382 743 169 381 545 726 162 156 402 132 482 678 521 723 623\n",
            " 374 452 641 692 276 348 586 367 630 742 322 439 642 836 454  92 541 599\n",
            " 493 364 188 127 195 611 189 486 204 565 419 311 313 224 192 387 239 583\n",
            " 591 750 480 404 492 717 481 362 375 184 221 331 629 685 388 696 275 174\n",
            " 347 131 179 111 834 695 693 269 632 593 219 805 291 414 214 163 112 518\n",
            " 230 442 318 154 683 833 762 398 569 548 456 616 739 756 389 809 403 621\n",
            " 133 489 714 827 525 837 804 689 479 618 109 531  72 686 164 729 670 246\n",
            " 310 401 841 333 720 745 384 135 722 506 776 440 638 243 273 137 337 752\n",
            " 430 601 778 788 208 648 786 249 764 307 660 205 582 306 242 267 108 377\n",
            " 105 760 578 681 602 345 608 662 558 114 334 369 590 218 808 617 355 517\n",
            " 550 830 676 136 420 206 768 292 450 653 787 811 122 664 791 216 397 682\n",
            " 592 339 515 234 227 501 354 475 628 620 639 143 528 523  74 698 300 181\n",
            " 705 713 702 672 244 633 680 177 211 341 254 637 753 226 524 673 826 458\n",
            " 462 669 824  95 185  87 263 448 712 222 564 471 822 447 512 116 498 814\n",
            " 780 314  86 704 747 459 727 210 732 496 466 383 649 373 260 588 491 416\n",
            " 613 123 274 690 535 554 509 418 614 495 636   1 781 168 305 344 396 730\n",
            " 706 378 278 687 330 652 207 406 483 353 176 170 605 784 146 128 626 556\n",
            " 293 197 125 694 262 446 144 463 738 368 625 744 546 549 363 719 405 758\n",
            " 671 251 351 513 631 193 415 748 728 749 646 264 777 379]\n"
          ],
          "name": "stdout"
        }
      ]
    },
    {
      "cell_type": "code",
      "metadata": {
        "id": "pYmk7Zxz2Lfm",
        "colab_type": "code",
        "colab": {}
      },
      "source": [
        "# data_final_vars=data_final.columns.values.tolist()\n",
        "# y=['ins_client_flag_Y']\n",
        "# X=[i for i in data_final_vars if i not in y]"
      ],
      "execution_count": 0,
      "outputs": []
    },
    {
      "cell_type": "markdown",
      "metadata": {
        "id": "jPtJ4JNv2Lfp",
        "colab_type": "text"
      },
      "source": [
        "### Feature Selection"
      ]
    },
    {
      "cell_type": "code",
      "metadata": {
        "id": "5AhgEZle2Lfq",
        "colab_type": "code",
        "colab": {}
      },
      "source": [
        "# from sklearn import datasets\n",
        "# from sklearn.feature_selection import RFE\n",
        "# from sklearn.linear_model import LogisticRegression\n",
        "\n",
        "# logreg = LogisticRegression()\n",
        "\n",
        "# rfe = RFE(logreg, 18)\n",
        "# rfe = rfe.fit(data_final[X], data_final[y] )\n",
        "# print(rfe.support_)\n",
        "# print(rfe.ranking_)\n",
        "from sklearn import datasets\n",
        "from sklearn.feature_selection import RFE\n",
        "from sklearn.linear_model import LogisticRegression\n",
        "\n",
        "logreg = LogisticRegression(solver='lbfgs')\n",
        "\n",
        "rfe = RFE(logreg, 20)\n",
        "rfe = rfe.fit(os_data_X, os_data_y.values.ravel())\n",
        "print(rfe.support_)\n",
        "print(rfe.ranking_)\n",
        "#################### OUTPUT ############\n",
        "# 'zip5',\n",
        "# 'length_of_residence',\n",
        "# 'income_100-149,999',\n",
        "# 'children_No',\n",
        "# 'mosaic_household_AginginPlace',\n",
        "# 'mosaic_global_household_BourgeoisProsperity',\n",
        "# 'mosaic_global_household_ComfortableRetirement',\n",
        "# 'kcl_b_ind_mosaicsgrouping_AutumnYears',\n",
        "# 'kcl_b_ind_mosaicsgrouping_BoomingwithConfidence',\n",
        "# 'new_mover_flag_N',\n",
        "# 'new_mover_flag_Y',\n",
        "# 'motorcycle_indicator_N',\n",
        "# 'motorcycle_indicator_Y',\n",
        "# 'sc_vehicle_manufacturer_name_TOYOTA',\n"
      ],
      "execution_count": 0,
      "outputs": []
    },
    {
      "cell_type": "code",
      "metadata": {
        "id": "CKbalidC2Lfv",
        "colab_type": "code",
        "colab": {}
      },
      "source": [
        "cols=['zip5',\n",
        "'length_of_residence',\n",
        "'income_100-149,999',\n",
        "'children_No',\n",
        "'mosaic_household_Aging in Place',\n",
        "'mosaic_global_household_Bourgeois Prosperity',\n",
        "'mosaic_global_household_Comfortable Retirement',\n",
        "'kcl_b_ind_mosaicsgrouping_Autumn Years',\n",
        "'kcl_b_ind_mosaicsgrouping_Booming with Confidence',\n",
        "'new_mover_flag_N',\n",
        "'new_mover_flag_Y',\n",
        "'motorcycle_indicator_N',\n",
        "'motorcycle_indicator_Y',\n",
        "'sc_vehicle_manufacturer_name_TOYOTA'\n",
        "] \n",
        "X=data_final[cols]\n",
        "y=data_final['target']"
      ],
      "execution_count": 0,
      "outputs": []
    },
    {
      "cell_type": "markdown",
      "metadata": {
        "id": "9o0prgOQ2Lfx",
        "colab_type": "text"
      },
      "source": [
        "### Implementing the model"
      ]
    },
    {
      "cell_type": "code",
      "metadata": {
        "id": "mQS4Ng-C2Lfy",
        "colab_type": "code",
        "colab": {
          "base_uri": "https://localhost:8080/",
          "height": 527
        },
        "outputId": "a4730c4b-e879-4c05-b67e-6a7313383743"
      },
      "source": [
        "import statsmodels.api as sm\n",
        "logit_model=sm.Logit(y,X)\n",
        "result=logit_model.fit()\n",
        "print(result.summary())"
      ],
      "execution_count": 59,
      "outputs": [
        {
          "output_type": "stream",
          "text": [
            "Optimization terminated successfully.\n",
            "         Current function value: 0.496160\n",
            "         Iterations 7\n",
            "                           Logit Regression Results                           \n",
            "==============================================================================\n",
            "Dep. Variable:                 target   No. Observations:                10519\n",
            "Model:                          Logit   Df Residuals:                    10506\n",
            "Method:                           MLE   Df Model:                           12\n",
            "Date:                Tue, 17 Dec 2019   Pseudo R-squ.:                 0.02053\n",
            "Time:                        16:22:08   Log-Likelihood:                -5219.1\n",
            "converged:                       True   LL-Null:                       -5328.5\n",
            "Covariance Type:            nonrobust   LLR p-value:                 4.196e-40\n",
            "=====================================================================================================================\n",
            "                                                        coef    std err          z      P>|z|      [0.025      0.975]\n",
            "---------------------------------------------------------------------------------------------------------------------\n",
            "zip5                                                 -0.0003    7.9e-05     -3.913      0.000      -0.000      -0.000\n",
            "length_of_residence                                   0.0277      0.004      7.124      0.000       0.020       0.035\n",
            "income_100-149,999                                   -0.0637      0.072     -0.880      0.379      -0.206       0.078\n",
            "children_No                                          -0.2165      0.056     -3.870      0.000      -0.326      -0.107\n",
            "mosaic_household_Aging in Place                      -0.4970      0.283     -1.757      0.079      -1.052       0.057\n",
            "mosaic_global_household_Bourgeois Prosperity         -0.3382      0.107     -3.171      0.002      -0.547      -0.129\n",
            "mosaic_global_household_Comfortable Retirement        0.0869      0.088      0.991      0.322      -0.085       0.259\n",
            "kcl_b_ind_mosaicsgrouping_Autumn Years                0.4015      0.263      1.528      0.127      -0.114       0.917\n",
            "kcl_b_ind_mosaicsgrouping_Booming with Confidence     0.0224      0.122      0.184      0.854      -0.216       0.261\n",
            "new_mover_flag_N                                     -0.3134   1.07e+06  -2.93e-07      1.000   -2.09e+06    2.09e+06\n",
            "new_mover_flag_Y                                      0.0931   1.07e+06   8.72e-08      1.000   -2.09e+06    2.09e+06\n",
            "motorcycle_indicator_N                               -0.2525   1.07e+06  -2.36e-07      1.000   -2.09e+06    2.09e+06\n",
            "motorcycle_indicator_Y                                0.0322   1.07e+06   3.01e-08      1.000   -2.09e+06    2.09e+06\n",
            "sc_vehicle_manufacturer_name_TOYOTA                  -0.0624      0.076     -0.826      0.409      -0.210       0.086\n",
            "=====================================================================================================================\n"
          ],
          "name": "stdout"
        }
      ]
    },
    {
      "cell_type": "markdown",
      "metadata": {
        "id": "y2qIi0Kh2Lf5",
        "colab_type": "text"
      },
      "source": [
        "The p-values for most of the variables are very small, therefore, most of them are significant to the model."
      ]
    },
    {
      "cell_type": "markdown",
      "metadata": {
        "id": "2TGGC-cyrlM4",
        "colab_type": "text"
      },
      "source": [
        "Optimization based on removing higer P values"
      ]
    },
    {
      "cell_type": "code",
      "metadata": {
        "id": "VTHdn1Verov8",
        "colab_type": "code",
        "colab": {
          "base_uri": "https://localhost:8080/",
          "height": 391
        },
        "outputId": "4ce04d8d-9490-4412-ef78-af35b3a53a00"
      },
      "source": [
        "cols=['zip5',\n",
        "'length_of_residence',\n",
        "'children_No',\n",
        "'mosaic_global_household_Bourgeois Prosperity'\n",
        "] \n",
        "X=data_final[cols]\n",
        "y=data_final['target']\n",
        "\n",
        "logit_model=sm.Logit(y,X)\n",
        "result=logit_model.fit()\n",
        "print(result.summary2())"
      ],
      "execution_count": 60,
      "outputs": [
        {
          "output_type": "stream",
          "text": [
            "Optimization terminated successfully.\n",
            "         Current function value: 0.498458\n",
            "         Iterations 6\n",
            "                                       Results: Logit\n",
            "=============================================================================================\n",
            "Model:                        Logit                     Pseudo R-squared:          0.016     \n",
            "Dependent Variable:           target                    AIC:                       10494.5601\n",
            "Date:                         2019-12-17 16:28          BIC:                       10523.6038\n",
            "No. Observations:             10519                     Log-Likelihood:            -5243.3   \n",
            "Df Model:                     3                         LL-Null:                   -5328.5   \n",
            "Df Residuals:                 10515                     LLR p-value:               1.0145e-36\n",
            "Converged:                    1.0000                    Scale:                     1.0000    \n",
            "No. Iterations:               6.0000                                                         \n",
            "---------------------------------------------------------------------------------------------\n",
            "                                              Coef.  Std.Err.    z     P>|z|   [0.025  0.975]\n",
            "---------------------------------------------------------------------------------------------\n",
            "zip5                                         -0.0005   0.0000 -22.7764 0.0000 -0.0005 -0.0004\n",
            "length_of_residence                           0.0264   0.0037   7.1852 0.0000  0.0192  0.0336\n",
            "children_No                                  -0.2460   0.0544  -4.5242 0.0000 -0.3526 -0.1395\n",
            "mosaic_global_household_Bourgeois Prosperity -0.3475   0.0696  -4.9958 0.0000 -0.4839 -0.2112\n",
            "=============================================================================================\n",
            "\n"
          ],
          "name": "stdout"
        }
      ]
    },
    {
      "cell_type": "markdown",
      "metadata": {
        "id": "pJUS0KNR2Lf6",
        "colab_type": "text"
      },
      "source": [
        "### Logistic Regression Model Fitting"
      ]
    },
    {
      "cell_type": "code",
      "metadata": {
        "id": "fu3XiHd-2Lf6",
        "colab_type": "code",
        "colab": {
          "base_uri": "https://localhost:8080/",
          "height": 136
        },
        "outputId": "04dffc1e-fa12-48df-9631-7d741d974516"
      },
      "source": [
        "X_train, X_test, y_train, y_test = train_test_split(X, y, test_size=0.3, random_state=0)\n",
        "from sklearn.linear_model import LogisticRegression\n",
        "from sklearn import metrics\n",
        "logreg = LogisticRegression()\n",
        "logreg.fit(X_train, y_train)"
      ],
      "execution_count": 61,
      "outputs": [
        {
          "output_type": "stream",
          "text": [
            "/usr/local/lib/python3.6/dist-packages/sklearn/linear_model/logistic.py:432: FutureWarning: Default solver will be changed to 'lbfgs' in 0.22. Specify a solver to silence this warning.\n",
            "  FutureWarning)\n"
          ],
          "name": "stderr"
        },
        {
          "output_type": "execute_result",
          "data": {
            "text/plain": [
              "LogisticRegression(C=1.0, class_weight=None, dual=False, fit_intercept=True,\n",
              "                   intercept_scaling=1, l1_ratio=None, max_iter=100,\n",
              "                   multi_class='warn', n_jobs=None, penalty='l2',\n",
              "                   random_state=None, solver='warn', tol=0.0001, verbose=0,\n",
              "                   warm_start=False)"
            ]
          },
          "metadata": {
            "tags": []
          },
          "execution_count": 61
        }
      ]
    },
    {
      "cell_type": "markdown",
      "metadata": {
        "id": "UajlI2hl2Lf9",
        "colab_type": "text"
      },
      "source": [
        "#### Predicting the test set results and caculating the accuracy"
      ]
    },
    {
      "cell_type": "code",
      "metadata": {
        "id": "xmTDed0Y2Lf-",
        "colab_type": "code",
        "colab": {}
      },
      "source": [
        "y_pred = logreg.predict(X_test)"
      ],
      "execution_count": 0,
      "outputs": []
    },
    {
      "cell_type": "code",
      "metadata": {
        "id": "oSLPnfgk2LgD",
        "colab_type": "code",
        "colab": {
          "base_uri": "https://localhost:8080/",
          "height": 34
        },
        "outputId": "8795081c-65f0-4c86-e9f5-1ecbd921a176"
      },
      "source": [
        "print('Accuracy of logistic regression classifier on test set: {:.2f}'.format(logreg.score(X_test, y_test)))"
      ],
      "execution_count": 63,
      "outputs": [
        {
          "output_type": "stream",
          "text": [
            "Accuracy of logistic regression classifier on test set: 0.79\n"
          ],
          "name": "stdout"
        }
      ]
    },
    {
      "cell_type": "markdown",
      "metadata": {
        "id": "roP1lQKO2LgI",
        "colab_type": "text"
      },
      "source": [
        "### Cross Validation"
      ]
    },
    {
      "cell_type": "code",
      "metadata": {
        "id": "JTVKhUCh2LgJ",
        "colab_type": "code",
        "colab": {
          "base_uri": "https://localhost:8080/",
          "height": 34
        },
        "outputId": "e8303299-ae75-4172-c5b0-1aabfb77a0dc"
      },
      "source": [
        "from sklearn import model_selection\n",
        "from sklearn.model_selection import cross_val_score\n",
        "kfold = model_selection.KFold(n_splits=10, random_state=7)\n",
        "modelCV = LogisticRegression(solver=\"lbfgs\")\n",
        "scoring = 'accuracy'\n",
        "results = model_selection.cross_val_score(modelCV, X_train, y_train, cv=kfold, scoring=scoring)\n",
        "print(\"10-fold cross validation average accuracy: %.3f\" % (results.mean()))"
      ],
      "execution_count": 66,
      "outputs": [
        {
          "output_type": "stream",
          "text": [
            "10-fold cross validation average accuracy: 0.796\n"
          ],
          "name": "stdout"
        }
      ]
    },
    {
      "cell_type": "markdown",
      "metadata": {
        "id": "jiAllYTT2LgM",
        "colab_type": "text"
      },
      "source": [
        "### Confusion Matrix"
      ]
    },
    {
      "cell_type": "code",
      "metadata": {
        "id": "nHCeglS02LgN",
        "colab_type": "code",
        "colab": {
          "base_uri": "https://localhost:8080/",
          "height": 51
        },
        "outputId": "8dff87ff-93c8-4f20-c963-b5704c95a321"
      },
      "source": [
        "from sklearn.metrics import confusion_matrix\n",
        "confusion_matrix = confusion_matrix(y_test, y_pred)\n",
        "print(confusion_matrix)"
      ],
      "execution_count": 67,
      "outputs": [
        {
          "output_type": "stream",
          "text": [
            "[[2505    0]\n",
            " [ 651    0]]\n"
          ],
          "name": "stdout"
        }
      ]
    },
    {
      "cell_type": "markdown",
      "metadata": {
        "id": "3978SBhN2LgP",
        "colab_type": "text"
      },
      "source": [
        "The result is telling us that we have 2505 correct predictions and 651 incorrect predictions."
      ]
    },
    {
      "cell_type": "markdown",
      "metadata": {
        "id": "lD2q2WAg2LgQ",
        "colab_type": "text"
      },
      "source": [
        "#### Accuracy"
      ]
    },
    {
      "cell_type": "code",
      "metadata": {
        "id": "Ho-emKUK2LgR",
        "colab_type": "code",
        "colab": {
          "base_uri": "https://localhost:8080/",
          "height": 34
        },
        "outputId": "414c898c-7be0-4b76-c667-b00c07145312"
      },
      "source": [
        "print('Accuracy of logistic regression classifier on test set: {:.2f}'.format(logreg.score(X_test, y_test)))"
      ],
      "execution_count": 70,
      "outputs": [
        {
          "output_type": "stream",
          "text": [
            "Accuracy of logistic regression classifier on test set: 0.79\n"
          ],
          "name": "stdout"
        }
      ]
    },
    {
      "cell_type": "markdown",
      "metadata": {
        "id": "FlPa-CbJ2LgU",
        "colab_type": "text"
      },
      "source": [
        "#### Compute precision, recall, F-measure and support\n",
        "\n",
        "The precision is the ratio tp / (tp + fp) where tp is the number of true positives and fp the number of false positives. The precision is intuitively the ability of the classifier not to label as positive a sample that is negative.\n",
        "\n",
        "The recall is the ratio tp / (tp + fn) where tp is the number of true positives and fn the number of false negatives. The recall is intuitively the ability of the classifier to find all the positive samples.\n",
        "\n",
        "The F-beta score can be interpreted as a weighted harmonic mean of the precision and recall, where an F-beta score reaches its best value at 1 and worst score at 0.\n",
        "\n",
        "The F-beta score weights recall more than precision by a factor of beta. beta == 1.0 means recall and precision are equally important.\n",
        "\n",
        "The support is the number of occurrences of each class in y_test."
      ]
    },
    {
      "cell_type": "code",
      "metadata": {
        "id": "jQ8L14o12LgW",
        "colab_type": "code",
        "colab": {
          "base_uri": "https://localhost:8080/",
          "height": 204
        },
        "outputId": "6eefe46b-f5cf-462c-9973-01f13afb39f3"
      },
      "source": [
        "from sklearn.metrics import classification_report\n",
        "print(classification_report(y_test, y_pred))"
      ],
      "execution_count": 71,
      "outputs": [
        {
          "output_type": "stream",
          "text": [
            "              precision    recall  f1-score   support\n",
            "\n",
            "           0       0.79      1.00      0.89      2505\n",
            "           1       0.00      0.00      0.00       651\n",
            "\n",
            "    accuracy                           0.79      3156\n",
            "   macro avg       0.40      0.50      0.44      3156\n",
            "weighted avg       0.63      0.79      0.70      3156\n",
            "\n"
          ],
          "name": "stdout"
        },
        {
          "output_type": "stream",
          "text": [
            "/usr/local/lib/python3.6/dist-packages/sklearn/metrics/classification.py:1437: UndefinedMetricWarning: Precision and F-score are ill-defined and being set to 0.0 in labels with no predicted samples.\n",
            "  'precision', 'predicted', average, warn_for)\n"
          ],
          "name": "stderr"
        }
      ]
    },
    {
      "cell_type": "markdown",
      "metadata": {
        "id": "qe1woTxx2Lga",
        "colab_type": "text"
      },
      "source": [
        "#### Interpretation: \n",
        "\n",
        "Of the entire test set, 88% of the promoted term deposit were the term deposit that the customers liked. Of the entire test set, 90% of the customer's preferred term deposit were promoted."
      ]
    },
    {
      "cell_type": "markdown",
      "metadata": {
        "id": "zC5OYvwi2Lgd",
        "colab_type": "text"
      },
      "source": [
        "### ROC Curvefrom sklearn import metrics\n",
        "from ggplot import *\n",
        "\n",
        "prob = clf1.predict_proba(X_test)[:,1]\n",
        "fpr, sensitivity, _ = metrics.roc_curve(Y_test, prob)\n",
        "\n",
        "df = pd.DataFrame(dict(fpr=fpr, sensitivity=sensitivity))\n",
        "ggplot(df, aes(x='fpr', y='sensitivity')) +\\\n",
        "    geom_line() +\\\n",
        "    geom_abline(linetype='dashed')"
      ]
    },
    {
      "cell_type": "code",
      "metadata": {
        "id": "1JPJsnsb2Lge",
        "colab_type": "code",
        "colab": {
          "base_uri": "https://localhost:8080/",
          "height": 301
        },
        "outputId": "3e6b9d64-7e9f-4711-9df3-257b459d8c3b"
      },
      "source": [
        "from sklearn.metrics import roc_auc_score\n",
        "from sklearn.metrics import roc_curve\n",
        "logit_roc_auc = roc_auc_score(y_test, logreg.predict(X_test))\n",
        "fpr, tpr, thresholds = roc_curve(y_test, logreg.predict_proba(X_test)[:,1])\n",
        "plt.figure()\n",
        "plt.plot(fpr, tpr, label='Logistic Regression (area = %0.2f)' % logit_roc_auc)\n",
        "plt.plot([0, 1], [0, 1],'r--')\n",
        "plt.xlim([0.0, 1.0])\n",
        "plt.ylim([0.0, 1.05])\n",
        "plt.xlabel('False Positive Rate')\n",
        "plt.ylabel('True Positive Rate')\n",
        "plt.title('Receiver operating characteristic')\n",
        "plt.legend(loc=\"lower right\")\n",
        "plt.savefig('Log_ROC')\n",
        "plt.show()"
      ],
      "execution_count": 72,
      "outputs": [
        {
          "output_type": "display_data",
          "data": {
            "image/png": "[encoded data removed]",
            "text/plain": [
              "<Figure size 432x288 with 1 Axes>"
            ]
          },
          "metadata": {
            "tags": []
          }
        }
      ]
    }
  ]
}