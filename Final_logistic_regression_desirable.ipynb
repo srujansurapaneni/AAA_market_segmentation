{
  "nbformat": 4,
  "nbformat_minor": 0,
  "metadata": {
    "kernelspec": {
      "display_name": "Python 3",
      "language": "python",
      "name": "python3"
    },
    "language_info": {
      "codemirror_mode": {
        "name": "ipython",
        "version": 3
      },
      "file_extension": ".py",
      "mimetype": "text/x-python",
      "name": "python",
      "nbconvert_exporter": "python",
      "pygments_lexer": "ipython3",
      "version": "3.6.1"
    },
    "colab": {
      "name": "Final_logistic_regression.ipynb",
      "provenance": [],
      "collapsed_sections": [
        "qe1woTxx2Lga"
      ]
    }
  },
  "cells": [
    {
      "cell_type": "code",
      "metadata": {
        "id": "1unzyoO62Ldz",
        "colab_type": "code",
        "colab": {}
      },
      "source": [
        "import pandas as pd\n",
        "import numpy as np\n",
        "from sklearn import preprocessing\n",
        "import matplotlib.pyplot as plt \n",
        "plt.rc(\"font\", size=14)\n",
        "from sklearn.linear_model import LogisticRegression\n",
        "from sklearn.model_selection import train_test_split\n",
        "import seaborn as sns\n",
        "sns.set(style=\"white\")\n",
        "sns.set(style=\"whitegrid\", color_codes=True)"
      ],
      "execution_count": 0,
      "outputs": []
    },
    {
      "cell_type": "markdown",
      "metadata": {
        "id": "ztWi4qkx2Ld_",
        "colab_type": "text"
      },
      "source": [
        "## Data\n",
        "\n",
        "The data is related with direct marketing campaigns (phone calls) of a Portuguese banking institution. The classification goal is to predict if the client will subscribe (1/0) a term deposit (variable y)."
      ]
    },
    {
      "cell_type": "markdown",
      "metadata": {
        "id": "hyqNmsfN2LeA",
        "colab_type": "text"
      },
      "source": [
        "This dataset provides the customer information. It includes 41188 records and 21 fields."
      ]
    },
    {
      "cell_type": "code",
      "metadata": {
        "id": "5LXe6Civ2LeB",
        "colab_type": "code",
        "outputId": "a3dfdbb9-9238-4258-e1b6-526719f46fd2",
        "colab": {
          "base_uri": "https://localhost:8080/",
          "height": 71
        }
      },
      "source": [
        "data = pd.read_csv('https://aaa-pgdmlai.s3.amazonaws.com/logistic_desirable_prob.csv')\n",
        "data = data.dropna()\n",
        "print(data.shape)\n",
        "print(list(data.columns))"
      ],
      "execution_count": 2,
      "outputs": [
        {
          "output_type": "stream",
          "text": [
            "(11351, 15)\n",
            "['household_key', 'zip5', 'length_of_residence', 'income', 'children', 'mosaic_household', 'mosaic_global_household', 'kcl_b_ind_mosaicsgrouping', 'new_mover_flag', 'breakdown_city', 'motorcycle_indicator', 'prob1_code_description', 'sc_vehicle_manufacturer_name', 'sc_vehicle_model_name', 'desirable_customer']\n"
          ],
          "name": "stdout"
        }
      ]
    },
    {
      "cell_type": "code",
      "metadata": {
        "id": "j231hPGq2LeF",
        "colab_type": "code",
        "outputId": "10d18e23-e91a-4629-a895-2f2c377559fb",
        "colab": {
          "base_uri": "https://localhost:8080/",
          "height": 224
        }
      },
      "source": [
        "data.head()"
      ],
      "execution_count": 3,
      "outputs": [
        {
          "output_type": "execute_result",
          "data": {
            "text/html": [
              "<div>\n",
              "<style scoped>\n",
              "    .dataframe tbody tr th:only-of-type {\n",
              "        vertical-align: middle;\n",
              "    }\n",
              "\n",
              "    .dataframe tbody tr th {\n",
              "        vertical-align: top;\n",
              "    }\n",
              "\n",
              "    .dataframe thead th {\n",
              "        text-align: right;\n",
              "    }\n",
              "</style>\n",
              "<table border=\"1\" class=\"dataframe\">\n",
              "  <thead>\n",
              "    <tr style=\"text-align: right;\">\n",
              "      <th></th>\n",
              "      <th>household_key</th>\n",
              "      <th>zip5</th>\n",
              "      <th>length_of_residence</th>\n",
              "      <th>income</th>\n",
              "      <th>children</th>\n",
              "      <th>mosaic_household</th>\n",
              "      <th>mosaic_global_household</th>\n",
              "      <th>kcl_b_ind_mosaicsgrouping</th>\n",
              "      <th>new_mover_flag</th>\n",
              "      <th>breakdown_city</th>\n",
              "      <th>motorcycle_indicator</th>\n",
              "      <th>prob1_code_description</th>\n",
              "      <th>sc_vehicle_manufacturer_name</th>\n",
              "      <th>sc_vehicle_model_name</th>\n",
              "      <th>desirable_customer</th>\n",
              "    </tr>\n",
              "  </thead>\n",
              "  <tbody>\n",
              "    <tr>\n",
              "      <th>0</th>\n",
              "      <td>875</td>\n",
              "      <td>2920</td>\n",
              "      <td>0</td>\n",
              "      <td>0</td>\n",
              "      <td>No</td>\n",
              "      <td>Digital Dependents</td>\n",
              "      <td>Hard Working Blue Collar</td>\n",
              "      <td>Singles and Starters</td>\n",
              "      <td>N</td>\n",
              "      <td>Unknwon</td>\n",
              "      <td>N</td>\n",
              "      <td>Unknown</td>\n",
              "      <td>Unknown</td>\n",
              "      <td>Unknown</td>\n",
              "      <td>1</td>\n",
              "    </tr>\n",
              "    <tr>\n",
              "      <th>1</th>\n",
              "      <td>875</td>\n",
              "      <td>2921</td>\n",
              "      <td>0</td>\n",
              "      <td>0</td>\n",
              "      <td>No</td>\n",
              "      <td>Couples with Clout</td>\n",
              "      <td>Bourgeois Prosperity</td>\n",
              "      <td>Power Elite</td>\n",
              "      <td>N</td>\n",
              "      <td>Attleboro</td>\n",
              "      <td>N</td>\n",
              "      <td>Tow</td>\n",
              "      <td>CHRYSLER</td>\n",
              "      <td>TOWN &amp; COUNTRY</td>\n",
              "      <td>1</td>\n",
              "    </tr>\n",
              "    <tr>\n",
              "      <th>2</th>\n",
              "      <td>875</td>\n",
              "      <td>2921</td>\n",
              "      <td>0</td>\n",
              "      <td>0</td>\n",
              "      <td>No</td>\n",
              "      <td>Couples with Clout</td>\n",
              "      <td>Bourgeois Prosperity</td>\n",
              "      <td>Power Elite</td>\n",
              "      <td>N</td>\n",
              "      <td>Charlestown</td>\n",
              "      <td>N</td>\n",
              "      <td>Tow</td>\n",
              "      <td>NISSAN</td>\n",
              "      <td>MAXIMA</td>\n",
              "      <td>0</td>\n",
              "    </tr>\n",
              "    <tr>\n",
              "      <th>3</th>\n",
              "      <td>875</td>\n",
              "      <td>2921</td>\n",
              "      <td>0</td>\n",
              "      <td>0</td>\n",
              "      <td>No</td>\n",
              "      <td>Couples with Clout</td>\n",
              "      <td>Bourgeois Prosperity</td>\n",
              "      <td>Power Elite</td>\n",
              "      <td>N</td>\n",
              "      <td>Cranston</td>\n",
              "      <td>Y</td>\n",
              "      <td>Tow</td>\n",
              "      <td>TOYOTA</td>\n",
              "      <td>TOWN &amp; COUNTRY</td>\n",
              "      <td>0</td>\n",
              "    </tr>\n",
              "    <tr>\n",
              "      <th>4</th>\n",
              "      <td>875</td>\n",
              "      <td>2921</td>\n",
              "      <td>0</td>\n",
              "      <td>0</td>\n",
              "      <td>No</td>\n",
              "      <td>Couples with Clout</td>\n",
              "      <td>Bourgeois Prosperity</td>\n",
              "      <td>Power Elite</td>\n",
              "      <td>Y</td>\n",
              "      <td>North Attleboro</td>\n",
              "      <td>N</td>\n",
              "      <td>Tow</td>\n",
              "      <td>TOYOTA</td>\n",
              "      <td>COROLLA</td>\n",
              "      <td>1</td>\n",
              "    </tr>\n",
              "  </tbody>\n",
              "</table>\n",
              "</div>"
            ],
            "text/plain": [
              "   household_key  zip5  ...  sc_vehicle_model_name desirable_customer\n",
              "0            875  2920  ...                Unknown                  1\n",
              "1            875  2921  ...         TOWN & COUNTRY                  1\n",
              "2            875  2921  ...                 MAXIMA                  0\n",
              "3            875  2921  ...         TOWN & COUNTRY                  0\n",
              "4            875  2921  ...                COROLLA                  1\n",
              "\n",
              "[5 rows x 15 columns]"
            ]
          },
          "metadata": {
            "tags": []
          },
          "execution_count": 3
        }
      ]
    },
    {
      "cell_type": "markdown",
      "metadata": {
        "id": "jWZCQWtT2Lea",
        "colab_type": "text"
      },
      "source": [
        "### Data exploration"
      ]
    },
    {
      "cell_type": "code",
      "metadata": {
        "id": "hcAc2NKO2Leb",
        "colab_type": "code",
        "outputId": "6003effa-eea5-442d-f4b9-d807fc430db6",
        "colab": {
          "base_uri": "https://localhost:8080/",
          "height": 68
        }
      },
      "source": [
        "data['desirable_customer'].value_counts()"
      ],
      "execution_count": 4,
      "outputs": [
        {
          "output_type": "execute_result",
          "data": {
            "text/plain": [
              "1    10020\n",
              "0     1331\n",
              "Name: desirable_customer, dtype: int64"
            ]
          },
          "metadata": {
            "tags": []
          },
          "execution_count": 4
        }
      ]
    },
    {
      "cell_type": "code",
      "metadata": {
        "id": "F5dlEj8r2Lef",
        "colab_type": "code",
        "outputId": "256268fc-b7a4-4956-bf3a-1de57f06d016",
        "colab": {
          "base_uri": "https://localhost:8080/",
          "height": 302
        }
      },
      "source": [
        "sns.countplot(x='desirable_customer',data=data, palette='hls')\n",
        "plt.show()\n",
        "plt.savefig('count_plot')"
      ],
      "execution_count": 5,
      "outputs": [
        {
          "output_type": "display_data",
          "data": {
            "image/png": "[encoded data removed]",
            "text/plain": [
              "<Figure size 432x288 with 1 Axes>"
            ]
          },
          "metadata": {
            "tags": []
          }
        },
        {
          "output_type": "display_data",
          "data": {
            "text/plain": [
              "<Figure size 432x288 with 0 Axes>"
            ]
          },
          "metadata": {
            "tags": []
          }
        }
      ]
    },
    {
      "cell_type": "markdown",
      "metadata": {
        "id": "dLnPft922Lel",
        "colab_type": "text"
      },
      "source": [
        "Let's get a sense of the numbers across the two classes"
      ]
    },
    {
      "cell_type": "code",
      "metadata": {
        "id": "psKgNdSK2Lem",
        "colab_type": "code",
        "outputId": "3194cd00-ceea-4dc7-a7fe-b0c026178d60",
        "colab": {
          "base_uri": "https://localhost:8080/",
          "height": 142
        }
      },
      "source": [
        "data.groupby('desirable_customer').mean()"
      ],
      "execution_count": 6,
      "outputs": [
        {
          "output_type": "execute_result",
          "data": {
            "text/html": [
              "<div>\n",
              "<style scoped>\n",
              "    .dataframe tbody tr th:only-of-type {\n",
              "        vertical-align: middle;\n",
              "    }\n",
              "\n",
              "    .dataframe tbody tr th {\n",
              "        vertical-align: top;\n",
              "    }\n",
              "\n",
              "    .dataframe thead th {\n",
              "        text-align: right;\n",
              "    }\n",
              "</style>\n",
              "<table border=\"1\" class=\"dataframe\">\n",
              "  <thead>\n",
              "    <tr style=\"text-align: right;\">\n",
              "      <th></th>\n",
              "      <th>household_key</th>\n",
              "      <th>zip5</th>\n",
              "      <th>length_of_residence</th>\n",
              "    </tr>\n",
              "    <tr>\n",
              "      <th>desirable_customer</th>\n",
              "      <th></th>\n",
              "      <th></th>\n",
              "      <th></th>\n",
              "    </tr>\n",
              "  </thead>\n",
              "  <tbody>\n",
              "    <tr>\n",
              "      <th>0</th>\n",
              "      <td>1.529985e+07</td>\n",
              "      <td>2923.025545</td>\n",
              "      <td>9.339594</td>\n",
              "    </tr>\n",
              "    <tr>\n",
              "      <th>1</th>\n",
              "      <td>1.512195e+07</td>\n",
              "      <td>2951.917665</td>\n",
              "      <td>6.990020</td>\n",
              "    </tr>\n",
              "  </tbody>\n",
              "</table>\n",
              "</div>"
            ],
            "text/plain": [
              "                    household_key         zip5  length_of_residence\n",
              "desirable_customer                                                 \n",
              "0                    1.529985e+07  2923.025545             9.339594\n",
              "1                    1.512195e+07  2951.917665             6.990020"
            ]
          },
          "metadata": {
            "tags": []
          },
          "execution_count": 6
        }
      ]
    },
    {
      "cell_type": "markdown",
      "metadata": {
        "id": "REOfrUq22Leq",
        "colab_type": "text"
      },
      "source": [
        "We can calculate categorical means for other categorical variables such as education and marital status to get a more detailed sense of our data."
      ]
    },
    {
      "cell_type": "code",
      "metadata": {
        "id": "I5lalGaA2Ler",
        "colab_type": "code",
        "outputId": "9b177e04-d79d-42e9-b8d4-89335dd72e39",
        "colab": {
          "base_uri": "https://localhost:8080/",
          "height": 576
        }
      },
      "source": [
        "data.groupby('income').mean()"
      ],
      "execution_count": 7,
      "outputs": [
        {
          "output_type": "execute_result",
          "data": {
            "text/html": [
              "<div>\n",
              "<style scoped>\n",
              "    .dataframe tbody tr th:only-of-type {\n",
              "        vertical-align: middle;\n",
              "    }\n",
              "\n",
              "    .dataframe tbody tr th {\n",
              "        vertical-align: top;\n",
              "    }\n",
              "\n",
              "    .dataframe thead th {\n",
              "        text-align: right;\n",
              "    }\n",
              "</style>\n",
              "<table border=\"1\" class=\"dataframe\">\n",
              "  <thead>\n",
              "    <tr style=\"text-align: right;\">\n",
              "      <th></th>\n",
              "      <th>household_key</th>\n",
              "      <th>zip5</th>\n",
              "      <th>length_of_residence</th>\n",
              "      <th>desirable_customer</th>\n",
              "    </tr>\n",
              "    <tr>\n",
              "      <th>income</th>\n",
              "      <th></th>\n",
              "      <th></th>\n",
              "      <th></th>\n",
              "      <th></th>\n",
              "    </tr>\n",
              "  </thead>\n",
              "  <tbody>\n",
              "    <tr>\n",
              "      <th>0</th>\n",
              "      <td>1.646664e+07</td>\n",
              "      <td>3024.277030</td>\n",
              "      <td>0.030394</td>\n",
              "      <td>0.931323</td>\n",
              "    </tr>\n",
              "    <tr>\n",
              "      <th>10-19,999</th>\n",
              "      <td>1.396907e+07</td>\n",
              "      <td>2894.938667</td>\n",
              "      <td>9.733333</td>\n",
              "      <td>0.856000</td>\n",
              "    </tr>\n",
              "    <tr>\n",
              "      <th>100-149,999</th>\n",
              "      <td>1.402151e+07</td>\n",
              "      <td>2903.951768</td>\n",
              "      <td>12.261736</td>\n",
              "      <td>0.865595</td>\n",
              "    </tr>\n",
              "    <tr>\n",
              "      <th>150 - 174,999</th>\n",
              "      <td>2.001262e+07</td>\n",
              "      <td>2904.905303</td>\n",
              "      <td>13.484848</td>\n",
              "      <td>0.871212</td>\n",
              "    </tr>\n",
              "    <tr>\n",
              "      <th>175 - 199,999</th>\n",
              "      <td>1.450521e+07</td>\n",
              "      <td>2904.211957</td>\n",
              "      <td>11.483696</td>\n",
              "      <td>0.866848</td>\n",
              "    </tr>\n",
              "    <tr>\n",
              "      <th>20-29,999</th>\n",
              "      <td>1.752893e+07</td>\n",
              "      <td>2919.461207</td>\n",
              "      <td>11.586207</td>\n",
              "      <td>0.844828</td>\n",
              "    </tr>\n",
              "    <tr>\n",
              "      <th>200 - 249,999</th>\n",
              "      <td>1.748836e+07</td>\n",
              "      <td>2865.954167</td>\n",
              "      <td>11.333333</td>\n",
              "      <td>0.850000</td>\n",
              "    </tr>\n",
              "    <tr>\n",
              "      <th>250K+</th>\n",
              "      <td>1.865978e+07</td>\n",
              "      <td>2972.811715</td>\n",
              "      <td>12.008368</td>\n",
              "      <td>0.882845</td>\n",
              "    </tr>\n",
              "    <tr>\n",
              "      <th>30-39,999</th>\n",
              "      <td>1.198132e+07</td>\n",
              "      <td>2900.254019</td>\n",
              "      <td>11.215434</td>\n",
              "      <td>0.832797</td>\n",
              "    </tr>\n",
              "    <tr>\n",
              "      <th>40-49,999</th>\n",
              "      <td>1.428386e+07</td>\n",
              "      <td>2902.792035</td>\n",
              "      <td>10.980088</td>\n",
              "      <td>0.845133</td>\n",
              "    </tr>\n",
              "    <tr>\n",
              "      <th>50-59,999</th>\n",
              "      <td>1.354838e+07</td>\n",
              "      <td>2885.389961</td>\n",
              "      <td>11.953668</td>\n",
              "      <td>0.845560</td>\n",
              "    </tr>\n",
              "    <tr>\n",
              "      <th>60-69,999</th>\n",
              "      <td>1.324858e+07</td>\n",
              "      <td>2876.987578</td>\n",
              "      <td>11.375776</td>\n",
              "      <td>0.838509</td>\n",
              "    </tr>\n",
              "    <tr>\n",
              "      <th>70-79,999</th>\n",
              "      <td>1.283958e+07</td>\n",
              "      <td>2894.409091</td>\n",
              "      <td>12.020202</td>\n",
              "      <td>0.850168</td>\n",
              "    </tr>\n",
              "    <tr>\n",
              "      <th>80-89,999</th>\n",
              "      <td>4.048957e+07</td>\n",
              "      <td>2850.875000</td>\n",
              "      <td>8.000000</td>\n",
              "      <td>0.750000</td>\n",
              "    </tr>\n",
              "    <tr>\n",
              "      <th>90-99,999</th>\n",
              "      <td>1.365176e+07</td>\n",
              "      <td>2909.070482</td>\n",
              "      <td>11.662247</td>\n",
              "      <td>0.846476</td>\n",
              "    </tr>\n",
              "    <tr>\n",
              "      <th>Under 10K</th>\n",
              "      <td>1.190738e+07</td>\n",
              "      <td>2890.330769</td>\n",
              "      <td>10.284615</td>\n",
              "      <td>0.815385</td>\n",
              "    </tr>\n",
              "  </tbody>\n",
              "</table>\n",
              "</div>"
            ],
            "text/plain": [
              "               household_key  ...  desirable_customer\n",
              "income                        ...                    \n",
              "0               1.646664e+07  ...            0.931323\n",
              "10-19,999       1.396907e+07  ...            0.856000\n",
              "100-149,999     1.402151e+07  ...            0.865595\n",
              "150 - 174,999   2.001262e+07  ...            0.871212\n",
              "175 - 199,999   1.450521e+07  ...            0.866848\n",
              "20-29,999       1.752893e+07  ...            0.844828\n",
              "200 - 249,999   1.748836e+07  ...            0.850000\n",
              "250K+           1.865978e+07  ...            0.882845\n",
              "30-39,999       1.198132e+07  ...            0.832797\n",
              "40-49,999       1.428386e+07  ...            0.845133\n",
              "50-59,999       1.354838e+07  ...            0.845560\n",
              "60-69,999       1.324858e+07  ...            0.838509\n",
              "70-79,999       1.283958e+07  ...            0.850168\n",
              "80-89,999       4.048957e+07  ...            0.750000\n",
              "90-99,999       1.365176e+07  ...            0.846476\n",
              "Under 10K       1.190738e+07  ...            0.815385\n",
              "\n",
              "[16 rows x 4 columns]"
            ]
          },
          "metadata": {
            "tags": []
          },
          "execution_count": 7
        }
      ]
    },
    {
      "cell_type": "code",
      "metadata": {
        "id": "aXWOVW6W2Leu",
        "colab_type": "code",
        "outputId": "b68a0c97-fa18-4d2e-f2ae-7ee17ce0a37f",
        "colab": {
          "base_uri": "https://localhost:8080/",
          "height": 450
        }
      },
      "source": [
        "data.groupby('sc_vehicle_manufacturer_name').mean()"
      ],
      "execution_count": 8,
      "outputs": [
        {
          "output_type": "execute_result",
          "data": {
            "text/html": [
              "<div>\n",
              "<style scoped>\n",
              "    .dataframe tbody tr th:only-of-type {\n",
              "        vertical-align: middle;\n",
              "    }\n",
              "\n",
              "    .dataframe tbody tr th {\n",
              "        vertical-align: top;\n",
              "    }\n",
              "\n",
              "    .dataframe thead th {\n",
              "        text-align: right;\n",
              "    }\n",
              "</style>\n",
              "<table border=\"1\" class=\"dataframe\">\n",
              "  <thead>\n",
              "    <tr style=\"text-align: right;\">\n",
              "      <th></th>\n",
              "      <th>household_key</th>\n",
              "      <th>zip5</th>\n",
              "      <th>length_of_residence</th>\n",
              "      <th>desirable_customer</th>\n",
              "    </tr>\n",
              "    <tr>\n",
              "      <th>sc_vehicle_manufacturer_name</th>\n",
              "      <th></th>\n",
              "      <th></th>\n",
              "      <th></th>\n",
              "      <th></th>\n",
              "    </tr>\n",
              "  </thead>\n",
              "  <tbody>\n",
              "    <tr>\n",
              "      <th>ACURA</th>\n",
              "      <td>1.576156e+07</td>\n",
              "      <td>2944.157895</td>\n",
              "      <td>6.842105</td>\n",
              "      <td>0.859649</td>\n",
              "    </tr>\n",
              "    <tr>\n",
              "      <th>APRILIA</th>\n",
              "      <td>3.752326e+07</td>\n",
              "      <td>2910.000000</td>\n",
              "      <td>9.000000</td>\n",
              "      <td>0.000000</td>\n",
              "    </tr>\n",
              "    <tr>\n",
              "      <th>AUDI</th>\n",
              "      <td>1.974131e+07</td>\n",
              "      <td>2880.968750</td>\n",
              "      <td>6.937500</td>\n",
              "      <td>0.875000</td>\n",
              "    </tr>\n",
              "    <tr>\n",
              "      <th>AUSTIN HEALEY</th>\n",
              "      <td>6.232293e+07</td>\n",
              "      <td>2919.000000</td>\n",
              "      <td>0.000000</td>\n",
              "      <td>0.000000</td>\n",
              "    </tr>\n",
              "    <tr>\n",
              "      <th>BICYCLE</th>\n",
              "      <td>9.163999e+06</td>\n",
              "      <td>2901.500000</td>\n",
              "      <td>1.500000</td>\n",
              "      <td>1.000000</td>\n",
              "    </tr>\n",
              "    <tr>\n",
              "      <th>...</th>\n",
              "      <td>...</td>\n",
              "      <td>...</td>\n",
              "      <td>...</td>\n",
              "      <td>...</td>\n",
              "    </tr>\n",
              "    <tr>\n",
              "      <th>Unknown</th>\n",
              "      <td>1.491829e+07</td>\n",
              "      <td>2995.771921</td>\n",
              "      <td>5.601581</td>\n",
              "      <td>0.999521</td>\n",
              "    </tr>\n",
              "    <tr>\n",
              "      <th>VOLKSWAGEN</th>\n",
              "      <td>1.444645e+07</td>\n",
              "      <td>2945.570850</td>\n",
              "      <td>8.716599</td>\n",
              "      <td>0.704453</td>\n",
              "    </tr>\n",
              "    <tr>\n",
              "      <th>VOLKSWAGON</th>\n",
              "      <td>5.726121e+06</td>\n",
              "      <td>2920.000000</td>\n",
              "      <td>15.000000</td>\n",
              "      <td>1.000000</td>\n",
              "    </tr>\n",
              "    <tr>\n",
              "      <th>VOLVO</th>\n",
              "      <td>1.576558e+07</td>\n",
              "      <td>3018.170103</td>\n",
              "      <td>8.262887</td>\n",
              "      <td>0.680412</td>\n",
              "    </tr>\n",
              "    <tr>\n",
              "      <th>Volvo</th>\n",
              "      <td>5.404734e+06</td>\n",
              "      <td>2908.000000</td>\n",
              "      <td>15.000000</td>\n",
              "      <td>1.000000</td>\n",
              "    </tr>\n",
              "  </tbody>\n",
              "</table>\n",
              "<p>75 rows × 4 columns</p>\n",
              "</div>"
            ],
            "text/plain": [
              "                              household_key  ...  desirable_customer\n",
              "sc_vehicle_manufacturer_name                 ...                    \n",
              "ACURA                          1.576156e+07  ...            0.859649\n",
              "APRILIA                        3.752326e+07  ...            0.000000\n",
              "AUDI                           1.974131e+07  ...            0.875000\n",
              "AUSTIN HEALEY                  6.232293e+07  ...            0.000000\n",
              "BICYCLE                        9.163999e+06  ...            1.000000\n",
              "...                                     ...  ...                 ...\n",
              "Unknown                        1.491829e+07  ...            0.999521\n",
              "VOLKSWAGEN                     1.444645e+07  ...            0.704453\n",
              "VOLKSWAGON                     5.726121e+06  ...            1.000000\n",
              "VOLVO                          1.576558e+07  ...            0.680412\n",
              "Volvo                          5.404734e+06  ...            1.000000\n",
              "\n",
              "[75 rows x 4 columns]"
            ]
          },
          "metadata": {
            "tags": []
          },
          "execution_count": 8
        }
      ]
    },
    {
      "cell_type": "code",
      "metadata": {
        "id": "Fw1pD3Lh2Lex",
        "colab_type": "code",
        "outputId": "585ddbd7-4cb4-40bb-853b-cec4c8ce1682",
        "colab": {
          "base_uri": "https://localhost:8080/",
          "height": 142
        }
      },
      "source": [
        "data.groupby('motorcycle_indicator').mean()"
      ],
      "execution_count": 9,
      "outputs": [
        {
          "output_type": "execute_result",
          "data": {
            "text/html": [
              "<div>\n",
              "<style scoped>\n",
              "    .dataframe tbody tr th:only-of-type {\n",
              "        vertical-align: middle;\n",
              "    }\n",
              "\n",
              "    .dataframe tbody tr th {\n",
              "        vertical-align: top;\n",
              "    }\n",
              "\n",
              "    .dataframe thead th {\n",
              "        text-align: right;\n",
              "    }\n",
              "</style>\n",
              "<table border=\"1\" class=\"dataframe\">\n",
              "  <thead>\n",
              "    <tr style=\"text-align: right;\">\n",
              "      <th></th>\n",
              "      <th>household_key</th>\n",
              "      <th>zip5</th>\n",
              "      <th>length_of_residence</th>\n",
              "      <th>desirable_customer</th>\n",
              "    </tr>\n",
              "    <tr>\n",
              "      <th>motorcycle_indicator</th>\n",
              "      <th></th>\n",
              "      <th></th>\n",
              "      <th></th>\n",
              "      <th></th>\n",
              "    </tr>\n",
              "  </thead>\n",
              "  <tbody>\n",
              "    <tr>\n",
              "      <th>N</th>\n",
              "      <td>1.489012e+07</td>\n",
              "      <td>2960.078469</td>\n",
              "      <td>6.810166</td>\n",
              "      <td>0.948715</td>\n",
              "    </tr>\n",
              "    <tr>\n",
              "      <th>Y</th>\n",
              "      <td>1.599503e+07</td>\n",
              "      <td>2909.582049</td>\n",
              "      <td>8.801233</td>\n",
              "      <td>0.660247</td>\n",
              "    </tr>\n",
              "  </tbody>\n",
              "</table>\n",
              "</div>"
            ],
            "text/plain": [
              "                      household_key  ...  desirable_customer\n",
              "motorcycle_indicator                 ...                    \n",
              "N                      1.489012e+07  ...            0.948715\n",
              "Y                      1.599503e+07  ...            0.660247\n",
              "\n",
              "[2 rows x 4 columns]"
            ]
          },
          "metadata": {
            "tags": []
          },
          "execution_count": 9
        }
      ]
    },
    {
      "cell_type": "markdown",
      "metadata": {
        "id": "MpZ07jSH2Le2",
        "colab_type": "text"
      },
      "source": [
        "Visualizations"
      ]
    },
    {
      "cell_type": "code",
      "metadata": {
        "id": "KNoqbqEf2Le3",
        "colab_type": "code",
        "outputId": "65cdc139-f5c7-4c1c-ec41-af53670c5e5d",
        "colab": {
          "base_uri": "https://localhost:8080/",
          "height": 368
        }
      },
      "source": [
        "%matplotlib inline\n",
        "pd.crosstab(data.income,data.desirable_customer).plot(kind='bar')\n",
        "plt.title('desirable_customer Frequency for income')\n",
        "plt.xlabel('Income')\n",
        "plt.ylabel('Frequency of desirable_customer')\n",
        "plt.savefig('desirable_customer_fre_income')"
      ],
      "execution_count": 10,
      "outputs": [
        {
          "output_type": "display_data",
          "data": {
            "image/png": "[encoded data removed]",
            "text/plain": [
              "<Figure size 432x288 with 1 Axes>"
            ]
          },
          "metadata": {
            "tags": []
          }
        }
      ]
    },
    {
      "cell_type": "markdown",
      "metadata": {
        "id": "uQ3JB5wF2Le6",
        "colab_type": "text"
      },
      "source": [
        "The frequency of purchase of the product depends a great deal on the income. Thus, the income can be a good predictor of the outcome variable."
      ]
    },
    {
      "cell_type": "code",
      "metadata": {
        "id": "cr54Tg0d2Le7",
        "colab_type": "code",
        "outputId": "720663e1-3939-4143-d291-da4570b992cd",
        "colab": {
          "base_uri": "https://localhost:8080/",
          "height": 299
        }
      },
      "source": [
        "table=pd.crosstab(data.motorcycle_indicator,data.desirable_customer)\n",
        "table.div(table.sum(1).astype(float), axis=0).plot(kind='bar', stacked=True)\n",
        "plt.title('Stacked Bar Chart of motorcycle_indicator vs desirable_customer')\n",
        "plt.xlabel('motorcycle_indicator')\n",
        "plt.ylabel('Proportion of Customers')\n",
        "plt.savefig('motorcycle_indicator_vs_desirable_customer')"
      ],
      "execution_count": 11,
      "outputs": [
        {
          "output_type": "display_data",
          "data": {
            "image/png": "[encoded data removed]",
            "text/plain": [
              "<Figure size 432x288 with 1 Axes>"
            ]
          },
          "metadata": {
            "tags": []
          }
        }
      ]
    },
    {
      "cell_type": "markdown",
      "metadata": {
        "id": "7deksTyA2Le-",
        "colab_type": "text"
      },
      "source": [
        "Hard to see, but the marital status does not seem a strong predictor for the outcome variable."
      ]
    },
    {
      "cell_type": "code",
      "metadata": {
        "id": "gY_U7Pwi2Le_",
        "colab_type": "code",
        "outputId": "ebfd52a6-43bb-4682-9764-e29f984629a2",
        "colab": {
          "base_uri": "https://localhost:8080/",
          "height": 299
        }
      },
      "source": [
        "table=pd.crosstab(data.new_mover_flag,data.desirable_customer)\n",
        "table.div(table.sum(1).astype(float), axis=0).plot(kind='bar', stacked=True)\n",
        "plt.title('Stacked Bar Chart of new_mover_flag vs desirable_customer')\n",
        "plt.xlabel('new_mover_flag')\n",
        "plt.ylabel('Proportion of Customers')\n",
        "plt.savefig('new_mover_flag_vs_desirable_customer')"
      ],
      "execution_count": 12,
      "outputs": [
        {
          "output_type": "display_data",
          "data": {
            "image/png": "[encoded data removed]",
            "text/plain": [
              "<Figure size 432x288 with 1 Axes>"
            ]
          },
          "metadata": {
            "tags": []
          }
        }
      ]
    },
    {
      "cell_type": "markdown",
      "metadata": {
        "id": "fCZTwN4Q2LfD",
        "colab_type": "text"
      },
      "source": [
        "new_mover_flag seems a good predictor of the outcome variable."
      ]
    },
    {
      "cell_type": "code",
      "metadata": {
        "id": "jCXlsULF2LfE",
        "colab_type": "code",
        "outputId": "ead50489-38d1-4ecc-b44a-581f84da1351",
        "colab": {
          "base_uri": "https://localhost:8080/",
          "height": 310
        }
      },
      "source": [
        "pd.crosstab(data.children,data.desirable_customer).plot(kind='bar')\n",
        "plt.title('desirable_customer Frequency for children')\n",
        "plt.xlabel('children')\n",
        "plt.ylabel('Frequency of desirable_customer')\n",
        "plt.savefig('pur_children_bar')"
      ],
      "execution_count": 13,
      "outputs": [
        {
          "output_type": "display_data",
          "data": {
            "image/png": "[encoded data removed]",
            "text/plain": [
              "<Figure size 432x288 with 1 Axes>"
            ]
          },
          "metadata": {
            "tags": []
          }
        }
      ]
    },
    {
      "cell_type": "markdown",
      "metadata": {
        "id": "9b0IPy_u2LfR",
        "colab_type": "text"
      },
      "source": [
        "Month might be a good predictor of the outcome variable"
      ]
    },
    {
      "cell_type": "markdown",
      "metadata": {
        "id": "imyrgglA2LfV",
        "colab_type": "text"
      },
      "source": [
        "The most of the customers of the bank in this dataset are in the age range of 30-40."
      ]
    },
    {
      "cell_type": "markdown",
      "metadata": {
        "id": "NHosVxXH2Lfb",
        "colab_type": "text"
      },
      "source": [
        "### Create dummy variables"
      ]
    },
    {
      "cell_type": "code",
      "metadata": {
        "id": "9QwhlzWE2Lfb",
        "colab_type": "code",
        "colab": {}
      },
      "source": [
        "cat_vars=['length_of_residence','income', 'children', 'mosaic_household', 'mosaic_global_household', 'kcl_b_ind_mosaicsgrouping', 'new_mover_flag', 'breakdown_city','motorcycle_indicator',  'prob1_code_description','sc_vehicle_manufacturer_name', 'sc_vehicle_model_name']\n",
        "for var in cat_vars:\n",
        "    cat_list='var'+'_'+var\n",
        "    cat_list = pd.get_dummies(data[var], prefix=var)\n",
        "    data1=data.join(cat_list)\n",
        "    data=data1"
      ],
      "execution_count": 0,
      "outputs": []
    },
    {
      "cell_type": "code",
      "metadata": {
        "id": "bbUdXTfx2Lfe",
        "colab_type": "code",
        "colab": {}
      },
      "source": [
        "cat_vars=['length_of_residence','income', 'children', 'mosaic_household', 'mosaic_global_household', 'kcl_b_ind_mosaicsgrouping', 'new_mover_flag', 'breakdown_city','motorcycle_indicator',  'prob1_code_description','sc_vehicle_manufacturer_name', 'sc_vehicle_model_name']\n",
        "data_vars=data.columns.values.tolist()\n",
        "to_keep=[i for i in data_vars if i not in cat_vars]"
      ],
      "execution_count": 0,
      "outputs": []
    },
    {
      "cell_type": "code",
      "metadata": {
        "id": "oS8lG6FC2Lfj",
        "colab_type": "code",
        "outputId": "77caf6f5-7c9a-4d0f-ffcf-b47534c655ab",
        "colab": {
          "base_uri": "https://localhost:8080/",
          "height": 68
        }
      },
      "source": [
        "data_final=data[to_keep]\n",
        "data_final.columns.values\n",
        "pp = data_final.columns.values\n",
        "print(pp)"
      ],
      "execution_count": 24,
      "outputs": [
        {
          "output_type": "stream",
          "text": [
            "['household_key' 'zip5' 'desirable_customer' ...\n",
            " 'sc_vehicle_model_name_Z3' 'sc_vehicle_model_name_Z4'\n",
            " 'sc_vehicle_model_name_ZEPHYR']\n"
          ],
          "name": "stdout"
        }
      ]
    },
    {
      "cell_type": "code",
      "metadata": {
        "id": "mZfQQ4A6dkFx",
        "colab_type": "code",
        "colab": {
          "base_uri": "https://localhost:8080/",
          "height": 255
        },
        "outputId": "1e17e2ec-9c48-4c8f-d136-2b75630e0ef8"
      },
      "source": [
        "\n",
        "X = data_final.loc[:, data_final.columns != 'desirable_customer']\n",
        "y = data_final.loc[:, data_final.columns == 'desirable_customer']"
      ],
      "execution_count": 25,
      "outputs": [
        {
          "output_type": "stream",
          "text": [
            "       desirable_customer\n",
            "0                       1\n",
            "1                       1\n",
            "2                       0\n",
            "3                       0\n",
            "4                       1\n",
            "...                   ...\n",
            "11346                   1\n",
            "11347                   1\n",
            "11348                   1\n",
            "11349                   0\n",
            "11350                   0\n",
            "\n",
            "[11351 rows x 1 columns]\n"
          ],
          "name": "stdout"
        }
      ]
    },
    {
      "cell_type": "code",
      "metadata": {
        "id": "r80WVFq-fOGc",
        "colab_type": "code",
        "outputId": "ce73cc4a-d607-45ba-c70b-ed467be35b0b",
        "colab": {
          "base_uri": "https://localhost:8080/",
          "height": 156
        }
      },
      "source": [
        "from imblearn.over_sampling import SMOTE\n",
        "\n",
        "os = SMOTE(random_state=0)\n",
        "X_train, X_test, y_train, y_test = train_test_split(X, y, test_size=0.3, random_state=0)\n",
        "columns = X_train.columns\n",
        "\n",
        "os_data_X,os_data_y=os.fit_sample(X_train, y_train)\n",
        "os_data_X = pd.DataFrame(data=os_data_X,columns=columns )\n",
        "os_data_y= pd.DataFrame(data=os_data_y,columns=['desirable_customer'])\n",
        "# we can Check the numbers of our data\n",
        "print(\"length of oversampled data is \",len(os_data_X))\n",
        "print(\"Number of no subscription in oversampled data\",len(os_data_y[os_data_y['desirable_customer']==0]))\n",
        "print(\"Number of subscription\",len(os_data_y[os_data_y['desirable_customer']==1]))\n",
        "print(\"Proportion of desirable data in oversampled data is \",len(os_data_y[os_data_y['desirable_customer']==0])/len(os_data_X))\n",
        "print(\"Proportion of desirable data in oversampled data is \",len(os_data_y[os_data_y['desirable_customer']==1])/len(os_data_X))"
      ],
      "execution_count": 19,
      "outputs": [
        {
          "output_type": "stream",
          "text": [
            "/usr/local/lib/python3.6/dist-packages/sklearn/utils/validation.py:724: DataConversionWarning: A column-vector y was passed when a 1d array was expected. Please change the shape of y to (n_samples, ), for example using ravel().\n",
            "  y = column_or_1d(y, warn=True)\n"
          ],
          "name": "stderr"
        },
        {
          "output_type": "stream",
          "text": [
            "length of oversampled data is  14016\n",
            "Number of no subscription in oversampled data 7008\n",
            "Number of subscription 7008\n",
            "Proportion of desirable data in oversampled data is  0.5\n",
            "Proportion of desirable data in oversampled data is  0.5\n"
          ],
          "name": "stdout"
        }
      ]
    },
    {
      "cell_type": "code",
      "metadata": {
        "id": "vFL9bN6ufivj",
        "colab_type": "code",
        "colab": {}
      },
      "source": [
        "data_final_vars=data_final.columns.values.tolist()\n",
        "y=['desirable_customer']\n",
        "X=[i for i in data_final_vars if i not in y]"
      ],
      "execution_count": 0,
      "outputs": []
    },
    {
      "cell_type": "code",
      "metadata": {
        "id": "l7LReQuEfwt2",
        "colab_type": "code",
        "colab": {}
      },
      "source": [
        "# from sklearn import datasets\n",
        "# from sklearn.feature_selection import RFE\n",
        "# from sklearn.linear_model import LogisticRegression\n",
        "\n",
        "# logreg = LogisticRegression(solver='lbfgs')\n",
        "\n",
        "# rfe = RFE(logreg, 20)\n",
        "# rfe = rfe.fit(os_data_X, os_data_y.values.ravel())\n",
        "# print(rfe.support_)\n",
        "# print(rfe.ranking_)"
      ],
      "execution_count": 0,
      "outputs": []
    },
    {
      "cell_type": "code",
      "metadata": {
        "id": "pYmk7Zxz2Lfm",
        "colab_type": "code",
        "colab": {}
      },
      "source": [
        "# data_final_vars=data_final.columns.values.tolist()\n",
        "# y=['ins_client_flag_Y']\n",
        "# X=[i for i in data_final_vars if i not in y]"
      ],
      "execution_count": 0,
      "outputs": []
    },
    {
      "cell_type": "markdown",
      "metadata": {
        "id": "jPtJ4JNv2Lfp",
        "colab_type": "text"
      },
      "source": [
        "### Feature Selection"
      ]
    },
    {
      "cell_type": "code",
      "metadata": {
        "id": "5AhgEZle2Lfq",
        "colab_type": "code",
        "colab": {
          "base_uri": "https://localhost:8080/",
          "height": 51
        },
        "outputId": "4e8a1e6e-8f6f-414e-af41-ab06a985ffd6"
      },
      "source": [
        "# from sklearn import datasets\n",
        "# from sklearn.feature_selection import RFE\n",
        "# from sklearn.linear_model import LogisticRegression\n",
        "\n",
        "# logreg = LogisticRegression()\n",
        "\n",
        "# rfe = RFE(logreg, 18)\n",
        "# rfe = rfe.fit(data_final[X], data_final[y] )\n",
        "# print(rfe.support_)\n",
        "# print(rfe.ranking_)\n",
        "from sklearn import datasets\n",
        "from sklearn.feature_selection import RFE\n",
        "from sklearn.linear_model import LogisticRegression\n",
        "\n",
        "logreg = LogisticRegression(solver='lbfgs')\n",
        "\n",
        "rfe = RFE(logreg, 20)\n",
        "rfe = rfe.fit(os_data_X, os_data_y.values.ravel())\n",
        "print(rfe.support_)\n",
        "print(rfe.ranking_)\n",
        "#################### OUTPUT ############\n",
        "# 'zip5',\n",
        "# 'length_of_residence',\n",
        "# 'income_100-149,999',\n",
        "# 'children_No',\n",
        "# 'mosaic_household_AginginPlace',\n",
        "# 'mosaic_global_household_BourgeoisProsperity',\n",
        "# 'mosaic_global_household_ComfortableRetirement',\n",
        "# 'kcl_b_ind_mosaicsgrouping_AutumnYears',\n",
        "# 'kcl_b_ind_mosaicsgrouping_BoomingwithConfidence',\n",
        "# 'new_mover_flag_N',\n",
        "# 'new_mover_flag_Y',\n",
        "# 'motorcycle_indicator_N',\n",
        "# 'motorcycle_indicator_Y',\n",
        "# 'sc_vehicle_manufacturer_name_TOYOTA',\n"
      ],
      "execution_count": 21,
      "outputs": [
        {
          "output_type": "stream",
          "text": [
            "[ True  True  True ... False False False]\n",
            "[  1   1   1 ... 673 636 726]\n"
          ],
          "name": "stdout"
        }
      ]
    },
    {
      "cell_type": "code",
      "metadata": {
        "id": "CKbalidC2Lfv",
        "colab_type": "code",
        "colab": {}
      },
      "source": [
        "cols=['zip5',\n",
        "'income_100-149,999',\n",
        "'children_No',\n",
        "'mosaic_household_Aging in Place',\n",
        "'mosaic_global_household_Bourgeois Prosperity',\n",
        "'mosaic_global_household_Comfortable Retirement',\n",
        "'kcl_b_ind_mosaicsgrouping_Autumn Years',\n",
        "'kcl_b_ind_mosaicsgrouping_Booming with Confidence',\n",
        "'new_mover_flag_N',\n",
        "'new_mover_flag_Y',\n",
        "'motorcycle_indicator_N',\n",
        "'motorcycle_indicator_Y',\n",
        "'sc_vehicle_manufacturer_name_TOYOTA'\n",
        "] \n",
        "X=data_final[cols]\n",
        "y=data_final['desirable_customer']"
      ],
      "execution_count": 0,
      "outputs": []
    },
    {
      "cell_type": "markdown",
      "metadata": {
        "id": "9o0prgOQ2Lfx",
        "colab_type": "text"
      },
      "source": [
        "### Implementing the model"
      ]
    },
    {
      "cell_type": "code",
      "metadata": {
        "id": "mQS4Ng-C2Lfy",
        "colab_type": "code",
        "outputId": "01191c94-1628-47f3-bb42-4f15b2f6b452",
        "colab": {
          "base_uri": "https://localhost:8080/",
          "height": 510
        }
      },
      "source": [
        "import statsmodels.api as sm\n",
        "logit_model=sm.Logit(y,X)\n",
        "result=logit_model.fit()\n",
        "print(result.summary())"
      ],
      "execution_count": 29,
      "outputs": [
        {
          "output_type": "stream",
          "text": [
            "Optimization terminated successfully.\n",
            "         Current function value: 0.297210\n",
            "         Iterations 7\n",
            "                           Logit Regression Results                           \n",
            "==============================================================================\n",
            "Dep. Variable:     desirable_customer   No. Observations:                11351\n",
            "Model:                          Logit   Df Residuals:                    11339\n",
            "Method:                           MLE   Df Model:                           11\n",
            "Date:                Tue, 17 Dec 2019   Pseudo R-squ.:                  0.1777\n",
            "Time:                        19:19:31   Log-Likelihood:                -3373.6\n",
            "converged:                       True   LL-Null:                       -4102.6\n",
            "Covariance Type:            nonrobust   LLR p-value:                3.955e-306\n",
            "=====================================================================================================================\n",
            "                                                        coef    std err          z      P>|z|      [0.025      0.975]\n",
            "---------------------------------------------------------------------------------------------------------------------\n",
            "zip5                                              -1.957e-05   7.79e-05     -0.251      0.802      -0.000       0.000\n",
            "income_100-149,999                                   -0.0142      0.091     -0.155      0.877      -0.193       0.165\n",
            "children_No                                           0.3786      0.067      5.681      0.000       0.248       0.509\n",
            "mosaic_household_Aging in Place                       0.3532      0.381      0.928      0.353      -0.393       1.099\n",
            "mosaic_global_household_Bourgeois Prosperity          0.1691      0.133      1.270      0.204      -0.092       0.430\n",
            "mosaic_global_household_Comfortable Retirement        0.0199      0.118      0.169      0.866      -0.211       0.251\n",
            "kcl_b_ind_mosaicsgrouping_Autumn Years               -0.4243      0.354     -1.198      0.231      -1.119       0.270\n",
            "kcl_b_ind_mosaicsgrouping_Booming with Confidence    -0.0353      0.151     -0.234      0.815      -0.331       0.261\n",
            "new_mover_flag_N                                      0.8312   1.45e+06   5.71e-07      1.000   -2.85e+06    2.85e+06\n",
            "new_mover_flag_Y                                      0.9717   1.45e+06   6.68e-07      1.000   -2.85e+06    2.85e+06\n",
            "motorcycle_indicator_N                                1.9805   1.45e+06   1.36e-06      1.000   -2.85e+06    2.85e+06\n",
            "motorcycle_indicator_Y                               -0.1776   1.45e+06  -1.22e-07      1.000   -2.85e+06    2.85e+06\n",
            "sc_vehicle_manufacturer_name_TOYOTA                  -0.7406      0.078     -9.544      0.000      -0.893      -0.588\n",
            "=====================================================================================================================\n"
          ],
          "name": "stdout"
        }
      ]
    },
    {
      "cell_type": "markdown",
      "metadata": {
        "id": "y2qIi0Kh2Lf5",
        "colab_type": "text"
      },
      "source": [
        "The p-values for most of the variables are very small, therefore, most of them are significant to the model."
      ]
    },
    {
      "cell_type": "markdown",
      "metadata": {
        "id": "2TGGC-cyrlM4",
        "colab_type": "text"
      },
      "source": [
        "Optimization based on removing higer P values"
      ]
    },
    {
      "cell_type": "code",
      "metadata": {
        "id": "VTHdn1Verov8",
        "colab_type": "code",
        "outputId": "056d1f31-d48b-4ac6-829f-fdf629f2cca8",
        "colab": {
          "base_uri": "https://localhost:8080/",
          "height": 357
        }
      },
      "source": [
        "cols=[\n",
        "'children_No',\n",
        "'sc_vehicle_manufacturer_name_TOYOTA'\n",
        "] \n",
        "X=data_final[cols]\n",
        "y=data_final['desirable_customer']\n",
        "\n",
        "logit_model=sm.Logit(y,X)\n",
        "result=logit_model.fit()\n",
        "print(result.summary2())"
      ],
      "execution_count": 51,
      "outputs": [
        {
          "output_type": "stream",
          "text": [
            "Optimization terminated successfully.\n",
            "         Current function value: 0.448833\n",
            "         Iterations 6\n",
            "                                  Results: Logit\n",
            "==================================================================================\n",
            "Model:                   Logit                   Pseudo R-squared:      -0.242    \n",
            "Dependent Variable:      desirable_customer      AIC:                   10193.4143\n",
            "Date:                    2019-12-17 19:25        BIC:                   10208.0884\n",
            "No. Observations:        11351                   Log-Likelihood:        -5094.7   \n",
            "Df Model:                1                       LL-Null:               -4102.6   \n",
            "Df Residuals:            11349                   LLR p-value:           1.0000    \n",
            "Converged:               1.0000                  Scale:                 1.0000    \n",
            "No. Iterations:          6.0000                                                   \n",
            "----------------------------------------------------------------------------------\n",
            "                                     Coef.  Std.Err.    z    P>|z|   [0.025 0.975]\n",
            "----------------------------------------------------------------------------------\n",
            "children_No                          2.2054   0.0395 55.8501 0.0000  2.1280 2.2828\n",
            "sc_vehicle_manufacturer_name_TOYOTA -0.0475   0.0706 -0.6732 0.5008 -0.1860 0.0909\n",
            "==================================================================================\n",
            "\n"
          ],
          "name": "stdout"
        }
      ]
    },
    {
      "cell_type": "markdown",
      "metadata": {
        "id": "pJUS0KNR2Lf6",
        "colab_type": "text"
      },
      "source": [
        "### Logistic Regression Model Fitting"
      ]
    },
    {
      "cell_type": "code",
      "metadata": {
        "id": "fu3XiHd-2Lf6",
        "colab_type": "code",
        "outputId": "fb56e661-aad3-4be6-9afe-6de8573cfab3",
        "colab": {
          "base_uri": "https://localhost:8080/",
          "height": 136
        }
      },
      "source": [
        "X_train, X_test, y_train, y_test = train_test_split(X, y, test_size=0.3, random_state=0)\n",
        "from sklearn.linear_model import LogisticRegression\n",
        "from sklearn import metrics\n",
        "logreg = LogisticRegression()\n",
        "logreg.fit(X_train, y_train)"
      ],
      "execution_count": 52,
      "outputs": [
        {
          "output_type": "stream",
          "text": [
            "/usr/local/lib/python3.6/dist-packages/sklearn/linear_model/logistic.py:432: FutureWarning: Default solver will be changed to 'lbfgs' in 0.22. Specify a solver to silence this warning.\n",
            "  FutureWarning)\n"
          ],
          "name": "stderr"
        },
        {
          "output_type": "execute_result",
          "data": {
            "text/plain": [
              "LogisticRegression(C=1.0, class_weight=None, dual=False, fit_intercept=True,\n",
              "                   intercept_scaling=1, l1_ratio=None, max_iter=100,\n",
              "                   multi_class='warn', n_jobs=None, penalty='l2',\n",
              "                   random_state=None, solver='warn', tol=0.0001, verbose=0,\n",
              "                   warm_start=False)"
            ]
          },
          "metadata": {
            "tags": []
          },
          "execution_count": 52
        }
      ]
    },
    {
      "cell_type": "markdown",
      "metadata": {
        "id": "UajlI2hl2Lf9",
        "colab_type": "text"
      },
      "source": [
        "#### Predicting the test set results and caculating the accuracy"
      ]
    },
    {
      "cell_type": "code",
      "metadata": {
        "id": "xmTDed0Y2Lf-",
        "colab_type": "code",
        "colab": {}
      },
      "source": [
        "y_pred = logreg.predict(X_test)"
      ],
      "execution_count": 0,
      "outputs": []
    },
    {
      "cell_type": "code",
      "metadata": {
        "id": "oSLPnfgk2LgD",
        "colab_type": "code",
        "outputId": "63cc88b2-f793-45e5-e545-6963cf86399b",
        "colab": {
          "base_uri": "https://localhost:8080/",
          "height": 34
        }
      },
      "source": [
        "print('Accuracy of logistic regression classifier on test set: {:.2f}'.format(logreg.score(X_test, y_test)))"
      ],
      "execution_count": 54,
      "outputs": [
        {
          "output_type": "stream",
          "text": [
            "Accuracy of logistic regression classifier on test set: 0.88\n"
          ],
          "name": "stdout"
        }
      ]
    },
    {
      "cell_type": "markdown",
      "metadata": {
        "id": "roP1lQKO2LgI",
        "colab_type": "text"
      },
      "source": [
        "### Cross Validation"
      ]
    },
    {
      "cell_type": "code",
      "metadata": {
        "id": "JTVKhUCh2LgJ",
        "colab_type": "code",
        "outputId": "10ebac1d-b95a-461e-caaf-9137c9eb35db",
        "colab": {
          "base_uri": "https://localhost:8080/",
          "height": 34
        }
      },
      "source": [
        "from sklearn import model_selection\n",
        "from sklearn.model_selection import cross_val_score\n",
        "kfold = model_selection.KFold(n_splits=10, random_state=7)\n",
        "modelCV = LogisticRegression(solver=\"lbfgs\")\n",
        "scoring = 'accuracy'\n",
        "results = model_selection.cross_val_score(modelCV, X_train, y_train, cv=kfold, scoring=scoring)\n",
        "print(\"10-fold cross validation average accuracy: %.3f\" % (results.mean()))"
      ],
      "execution_count": 55,
      "outputs": [
        {
          "output_type": "stream",
          "text": [
            "10-fold cross validation average accuracy: 0.882\n"
          ],
          "name": "stdout"
        }
      ]
    },
    {
      "cell_type": "markdown",
      "metadata": {
        "id": "jiAllYTT2LgM",
        "colab_type": "text"
      },
      "source": [
        "### Confusion Matrix"
      ]
    },
    {
      "cell_type": "code",
      "metadata": {
        "id": "nHCeglS02LgN",
        "colab_type": "code",
        "outputId": "b100d31e-4952-46fc-dd2c-b91d9901a6d9",
        "colab": {
          "base_uri": "https://localhost:8080/",
          "height": 51
        }
      },
      "source": [
        "from sklearn.metrics import confusion_matrix\n",
        "confusion_matrix = confusion_matrix(y_test, y_pred)\n",
        "print(confusion_matrix)"
      ],
      "execution_count": 56,
      "outputs": [
        {
          "output_type": "stream",
          "text": [
            "[[   0  394]\n",
            " [   0 3012]]\n"
          ],
          "name": "stdout"
        }
      ]
    },
    {
      "cell_type": "markdown",
      "metadata": {
        "id": "3978SBhN2LgP",
        "colab_type": "text"
      },
      "source": [
        "The result is telling us that we have 2505 correct predictions and 651 incorrect predictions."
      ]
    },
    {
      "cell_type": "markdown",
      "metadata": {
        "id": "lD2q2WAg2LgQ",
        "colab_type": "text"
      },
      "source": [
        "#### Accuracy"
      ]
    },
    {
      "cell_type": "code",
      "metadata": {
        "id": "Ho-emKUK2LgR",
        "colab_type": "code",
        "outputId": "d567261d-d5dd-4c65-d812-777952f1e67d",
        "colab": {
          "base_uri": "https://localhost:8080/",
          "height": 34
        }
      },
      "source": [
        "print('Accuracy of logistic regression classifier on test set: {:.2f}'.format(logreg.score(X_test, y_test)))"
      ],
      "execution_count": 57,
      "outputs": [
        {
          "output_type": "stream",
          "text": [
            "Accuracy of logistic regression classifier on test set: 0.88\n"
          ],
          "name": "stdout"
        }
      ]
    },
    {
      "cell_type": "markdown",
      "metadata": {
        "id": "FlPa-CbJ2LgU",
        "colab_type": "text"
      },
      "source": [
        "#### Compute precision, recall, F-measure and support\n",
        "\n",
        "The precision is the ratio tp / (tp + fp) where tp is the number of true positives and fp the number of false positives. The precision is intuitively the ability of the classifier not to label as positive a sample that is negative.\n",
        "\n",
        "The recall is the ratio tp / (tp + fn) where tp is the number of true positives and fn the number of false negatives. The recall is intuitively the ability of the classifier to find all the positive samples.\n",
        "\n",
        "The F-beta score can be interpreted as a weighted harmonic mean of the precision and recall, where an F-beta score reaches its best value at 1 and worst score at 0.\n",
        "\n",
        "The F-beta score weights recall more than precision by a factor of beta. beta == 1.0 means recall and precision are equally important.\n",
        "\n",
        "The support is the number of occurrences of each class in y_test."
      ]
    },
    {
      "cell_type": "code",
      "metadata": {
        "id": "jQ8L14o12LgW",
        "colab_type": "code",
        "outputId": "760e2781-9667-4040-8983-20bc955e6834",
        "colab": {
          "base_uri": "https://localhost:8080/",
          "height": 204
        }
      },
      "source": [
        "from sklearn.metrics import classification_report\n",
        "print(classification_report(y_test, y_pred))"
      ],
      "execution_count": 58,
      "outputs": [
        {
          "output_type": "stream",
          "text": [
            "              precision    recall  f1-score   support\n",
            "\n",
            "           0       0.00      0.00      0.00       394\n",
            "           1       0.88      1.00      0.94      3012\n",
            "\n",
            "    accuracy                           0.88      3406\n",
            "   macro avg       0.44      0.50      0.47      3406\n",
            "weighted avg       0.78      0.88      0.83      3406\n",
            "\n"
          ],
          "name": "stdout"
        },
        {
          "output_type": "stream",
          "text": [
            "/usr/local/lib/python3.6/dist-packages/sklearn/metrics/classification.py:1437: UndefinedMetricWarning: Precision and F-score are ill-defined and being set to 0.0 in labels with no predicted samples.\n",
            "  'precision', 'predicted', average, warn_for)\n"
          ],
          "name": "stderr"
        }
      ]
    },
    {
      "cell_type": "markdown",
      "metadata": {
        "id": "qe1woTxx2Lga",
        "colab_type": "text"
      },
      "source": [
        "#### Interpretation: \n",
        "\n",
        "Of the entire test set, 88% of the promoted term deposit were the term deposit that the customers liked. Of the entire test set, 90% of the customer's preferred term deposit were promoted."
      ]
    },
    {
      "cell_type": "markdown",
      "metadata": {
        "id": "zC5OYvwi2Lgd",
        "colab_type": "text"
      },
      "source": [
        "### ROC Curvefrom sklearn import metrics\n",
        "from ggplot import *\n",
        "\n",
        "prob = clf1.predict_proba(X_test)[:,1]\n",
        "fpr, sensitivity, _ = metrics.roc_curve(Y_test, prob)\n",
        "\n",
        "df = pd.DataFrame(dict(fpr=fpr, sensitivity=sensitivity))\n",
        "ggplot(df, aes(x='fpr', y='sensitivity')) +\\\n",
        "    geom_line() +\\\n",
        "    geom_abline(linetype='dashed')"
      ]
    },
    {
      "cell_type": "code",
      "metadata": {
        "id": "1JPJsnsb2Lge",
        "colab_type": "code",
        "outputId": "d2def60b-0293-4ead-f675-6e4693eaa6fd",
        "colab": {
          "base_uri": "https://localhost:8080/",
          "height": 301
        }
      },
      "source": [
        "from sklearn.metrics import roc_auc_score\n",
        "from sklearn.metrics import roc_curve\n",
        "logit_roc_auc = roc_auc_score(y_test, logreg.predict(X_test))\n",
        "fpr, tpr, thresholds = roc_curve(y_test, logreg.predict_proba(X_test)[:,1])\n",
        "plt.figure()\n",
        "plt.plot(fpr, tpr, label='Logistic Regression (area = %0.2f)' % logit_roc_auc)\n",
        "plt.plot([0, 1], [0, 1],'r--')\n",
        "plt.xlim([0.0, 1.0])\n",
        "plt.ylim([0.0, 1.05])\n",
        "plt.xlabel('False Positive Rate')\n",
        "plt.ylabel('True Positive Rate')\n",
        "plt.title('Receiver operating characteristic')\n",
        "plt.legend(loc=\"lower right\")\n",
        "plt.savefig('Log_ROC')\n",
        "plt.show()"
      ],
      "execution_count": 59,
      "outputs": [
        {
          "output_type": "display_data",
          "data": {
            "image/png": "[encoded data removed]",
            "text/plain": [
              "<Figure size 432x288 with 1 Axes>"
            ]
          },
          "metadata": {
            "tags": []
          }
        }
      ]
    }
  ]
}