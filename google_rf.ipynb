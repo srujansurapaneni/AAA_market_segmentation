{
 "cells": [
  {
   "cell_type": "code",
   "execution_count": 1,
   "metadata": {
    "colab": {},
    "colab_type": "code",
    "id": "ZupHYQk0f8je"
   },
   "outputs": [],
   "source": [
    "from mpl_toolkits.mplot3d import Axes3D\n",
    "from sklearn.preprocessing import StandardScaler\n",
    "import matplotlib.pyplot as plt # plotting\n",
    "import numpy as np # linear algebra\n",
    "import os # accessing directory structure\n",
    "import pandas as pd # data processing, CSV file I/O (e.g. pd.read_csv)\n",
    "from sklearn.model_selection import train_test_split\n",
    "from sklearn.ensemble import RandomForestRegressor\n",
    "from sklearn.impute import SimpleImputer\n",
    "from sklearn.model_selection import cross_val_score\n",
    "from sklearn.model_selection import GridSearchCV\n",
    "from sklearn.ensemble import RandomForestClassifier\n",
    "from sklearn.metrics import accuracy_score\n",
    "from sklearn.svm import SVC\n",
    "from subprocess import check_output\n"
   ]
  },
  {
   "cell_type": "code",
   "execution_count": 2,
   "metadata": {
    "colab": {
     "base_uri": "https://localhost:8080/",
     "height": 323
    },
    "colab_type": "code",
    "id": "BrzVbYzGgFUi",
    "outputId": "378b2272-7806-4f5e-d345-235ac6f89d6b",
    "scrolled": true
   },
   "outputs": [
    {
     "data": {
      "text/plain": [
       "Index(['Household_Key', 'ZIP5', 'FSV_CMSI_Flag', 'FSV_Credit_Card_Flag',\n",
       "       'FSV_Deposit_Program_Flag', 'FSV_Home_Equity_Flag', 'FSV_ID_Theft_Flag',\n",
       "       'FSV_Mortgage_Flag', 'INS_Client_Flag', 'TRV_Globalware_Flag',\n",
       "       'Length_Of_Residence', 'Income', 'Children',\n",
       "       'Do_Not_Direct_Mail_Solicit', 'Email_Available', 'ERS_ENT_Count_Year_1',\n",
       "       'ERS_ENT_Count_Year_2', 'ERS_ENT_Count_Year_3',\n",
       "       'ERS_Member_Cost_Year_1', 'ERS_Member_Cost_Year_2',\n",
       "       'ERS_Member_Cost_Year_3', 'Member_Tenure_Years', 'Opt_Out_Publication',\n",
       "       'Mosaic_Household', 'Mosaic_Global_Household',\n",
       "       'kcl_B_IND_MosaicsGrouping', 'New_Mover_Flag', 'Breakdown_City',\n",
       "       'Basic_Cost', 'Calculated_Tow_Miles', 'Call_Canceled', 'Call_Killed',\n",
       "       'Cash_Call', 'Clearing_Code_Last_Description', 'Fleet_Indicator',\n",
       "       'Is_Duplicate', 'Is_NSR', 'Member_Match_Flag', 'Motorcycle_Indicator',\n",
       "       'Plus_Cost', 'Premier_Cost', 'Prob1_Code_Description',\n",
       "       'SC_Vehicle_Manufacturer_Name', 'SC_Vehicle_Model_Name', 'Total_Cost',\n",
       "       'Was_Duplicated', 'Was_Towed_To_AAR_Referral'],\n",
       "      dtype='object')"
      ]
     },
     "execution_count": 2,
     "metadata": {},
     "output_type": "execute_result"
    }
   ],
   "source": [
    "data = pd.read_csv('https://aaa-pgdmlai.s3.amazonaws.com/member_refined.csv')\n",
    "data.columns"
   ]
  },
  {
   "cell_type": "code",
   "execution_count": 3,
   "metadata": {
    "colab": {
     "base_uri": "https://localhost:8080/",
     "height": 34
    },
    "colab_type": "code",
    "id": "fugsuyz0gZsm",
    "outputId": "d099ba49-7771-4783-bf89-3a71cdb8b8fd"
   },
   "outputs": [
    {
     "data": {
      "text/plain": [
       "(21344, 47)"
      ]
     },
     "execution_count": 3,
     "metadata": {},
     "output_type": "execute_result"
    }
   ],
   "source": [
    "data.shape"
   ]
  },
  {
   "cell_type": "code",
   "execution_count": 4,
   "metadata": {
    "colab": {
     "base_uri": "https://localhost:8080/",
     "height": 317
    },
    "colab_type": "code",
    "id": "2hGC-gObkfYv",
    "outputId": "d8fd6757-1182-483a-8a27-9c3daedff93b"
   },
   "outputs": [
    {
     "data": {
      "text/html": [
       "<div>\n",
       "<style scoped>\n",
       "    .dataframe tbody tr th:only-of-type {\n",
       "        vertical-align: middle;\n",
       "    }\n",
       "\n",
       "    .dataframe tbody tr th {\n",
       "        vertical-align: top;\n",
       "    }\n",
       "\n",
       "    .dataframe thead th {\n",
       "        text-align: right;\n",
       "    }\n",
       "</style>\n",
       "<table border=\"1\" class=\"dataframe\">\n",
       "  <thead>\n",
       "    <tr style=\"text-align: right;\">\n",
       "      <th></th>\n",
       "      <th>Household_Key</th>\n",
       "      <th>ZIP5</th>\n",
       "      <th>Length_Of_Residence</th>\n",
       "      <th>Do_Not_Direct_Mail_Solicit</th>\n",
       "      <th>Email_Available</th>\n",
       "      <th>ERS_ENT_Count_Year_1</th>\n",
       "      <th>ERS_ENT_Count_Year_2</th>\n",
       "      <th>ERS_ENT_Count_Year_3</th>\n",
       "      <th>ERS_Member_Cost_Year_1</th>\n",
       "      <th>ERS_Member_Cost_Year_2</th>\n",
       "      <th>...</th>\n",
       "      <th>Basic_Cost</th>\n",
       "      <th>Calculated_Tow_Miles</th>\n",
       "      <th>Is_Duplicate</th>\n",
       "      <th>Is_NSR</th>\n",
       "      <th>Member_Match_Flag</th>\n",
       "      <th>Plus_Cost</th>\n",
       "      <th>Premier_Cost</th>\n",
       "      <th>Total_Cost</th>\n",
       "      <th>Was_Duplicated</th>\n",
       "      <th>Was_Towed_To_AAR_Referral</th>\n",
       "    </tr>\n",
       "  </thead>\n",
       "  <tbody>\n",
       "    <tr>\n",
       "      <th>count</th>\n",
       "      <td>2.134400e+04</td>\n",
       "      <td>21344.000000</td>\n",
       "      <td>12010.000000</td>\n",
       "      <td>21343.000000</td>\n",
       "      <td>21343.000000</td>\n",
       "      <td>16675.000000</td>\n",
       "      <td>16675.000000</td>\n",
       "      <td>16675.000000</td>\n",
       "      <td>16675.000000</td>\n",
       "      <td>16675.000000</td>\n",
       "      <td>...</td>\n",
       "      <td>13944.000000</td>\n",
       "      <td>13861.000000</td>\n",
       "      <td>13997.0</td>\n",
       "      <td>13997.000000</td>\n",
       "      <td>13997.0</td>\n",
       "      <td>13944.000000</td>\n",
       "      <td>13911.000000</td>\n",
       "      <td>13944.000000</td>\n",
       "      <td>13997.000000</td>\n",
       "      <td>13997.000000</td>\n",
       "    </tr>\n",
       "    <tr>\n",
       "      <th>mean</th>\n",
       "      <td>1.597040e+07</td>\n",
       "      <td>2944.899831</td>\n",
       "      <td>11.524979</td>\n",
       "      <td>0.052851</td>\n",
       "      <td>0.536101</td>\n",
       "      <td>0.518561</td>\n",
       "      <td>0.936252</td>\n",
       "      <td>0.959760</td>\n",
       "      <td>28.068167</td>\n",
       "      <td>50.970628</td>\n",
       "      <td>...</td>\n",
       "      <td>42.629593</td>\n",
       "      <td>2.379071</td>\n",
       "      <td>0.0</td>\n",
       "      <td>0.059156</td>\n",
       "      <td>1.0</td>\n",
       "      <td>3.450947</td>\n",
       "      <td>0.006901</td>\n",
       "      <td>47.273696</td>\n",
       "      <td>0.065157</td>\n",
       "      <td>0.013646</td>\n",
       "    </tr>\n",
       "    <tr>\n",
       "      <th>std</th>\n",
       "      <td>2.138079e+07</td>\n",
       "      <td>478.757704</td>\n",
       "      <td>5.495280</td>\n",
       "      <td>0.223741</td>\n",
       "      <td>0.498707</td>\n",
       "      <td>0.985532</td>\n",
       "      <td>1.253213</td>\n",
       "      <td>1.322932</td>\n",
       "      <td>57.576978</td>\n",
       "      <td>78.213543</td>\n",
       "      <td>...</td>\n",
       "      <td>15.713987</td>\n",
       "      <td>7.030493</td>\n",
       "      <td>0.0</td>\n",
       "      <td>0.235924</td>\n",
       "      <td>0.0</td>\n",
       "      <td>18.213483</td>\n",
       "      <td>0.692848</td>\n",
       "      <td>86.869110</td>\n",
       "      <td>0.246811</td>\n",
       "      <td>0.116020</td>\n",
       "    </tr>\n",
       "    <tr>\n",
       "      <th>min</th>\n",
       "      <td>8.750000e+02</td>\n",
       "      <td>2801.000000</td>\n",
       "      <td>0.000000</td>\n",
       "      <td>0.000000</td>\n",
       "      <td>0.000000</td>\n",
       "      <td>0.000000</td>\n",
       "      <td>0.000000</td>\n",
       "      <td>0.000000</td>\n",
       "      <td>0.000000</td>\n",
       "      <td>0.000000</td>\n",
       "      <td>...</td>\n",
       "      <td>0.000000</td>\n",
       "      <td>0.000000</td>\n",
       "      <td>0.0</td>\n",
       "      <td>0.000000</td>\n",
       "      <td>1.0</td>\n",
       "      <td>0.000000</td>\n",
       "      <td>0.000000</td>\n",
       "      <td>0.000000</td>\n",
       "      <td>0.000000</td>\n",
       "      <td>0.000000</td>\n",
       "    </tr>\n",
       "    <tr>\n",
       "      <th>25%</th>\n",
       "      <td>4.350387e+06</td>\n",
       "      <td>2857.000000</td>\n",
       "      <td>8.000000</td>\n",
       "      <td>0.000000</td>\n",
       "      <td>0.000000</td>\n",
       "      <td>0.000000</td>\n",
       "      <td>0.000000</td>\n",
       "      <td>0.000000</td>\n",
       "      <td>0.000000</td>\n",
       "      <td>0.000000</td>\n",
       "      <td>...</td>\n",
       "      <td>30.000000</td>\n",
       "      <td>0.000000</td>\n",
       "      <td>0.0</td>\n",
       "      <td>0.000000</td>\n",
       "      <td>1.0</td>\n",
       "      <td>0.000000</td>\n",
       "      <td>0.000000</td>\n",
       "      <td>30.500000</td>\n",
       "      <td>0.000000</td>\n",
       "      <td>0.000000</td>\n",
       "    </tr>\n",
       "    <tr>\n",
       "      <th>50%</th>\n",
       "      <td>9.811235e+06</td>\n",
       "      <td>2888.000000</td>\n",
       "      <td>15.000000</td>\n",
       "      <td>0.000000</td>\n",
       "      <td>1.000000</td>\n",
       "      <td>0.000000</td>\n",
       "      <td>0.000000</td>\n",
       "      <td>0.000000</td>\n",
       "      <td>0.000000</td>\n",
       "      <td>0.000000</td>\n",
       "      <td>...</td>\n",
       "      <td>53.000000</td>\n",
       "      <td>0.000000</td>\n",
       "      <td>0.0</td>\n",
       "      <td>0.000000</td>\n",
       "      <td>1.0</td>\n",
       "      <td>0.000000</td>\n",
       "      <td>0.000000</td>\n",
       "      <td>53.000000</td>\n",
       "      <td>0.000000</td>\n",
       "      <td>0.000000</td>\n",
       "    </tr>\n",
       "    <tr>\n",
       "      <th>75%</th>\n",
       "      <td>1.654012e+07</td>\n",
       "      <td>2910.000000</td>\n",
       "      <td>15.000000</td>\n",
       "      <td>0.000000</td>\n",
       "      <td>1.000000</td>\n",
       "      <td>1.000000</td>\n",
       "      <td>2.000000</td>\n",
       "      <td>1.000000</td>\n",
       "      <td>36.000000</td>\n",
       "      <td>66.750000</td>\n",
       "      <td>...</td>\n",
       "      <td>53.000000</td>\n",
       "      <td>1.000000</td>\n",
       "      <td>0.0</td>\n",
       "      <td>0.000000</td>\n",
       "      <td>1.0</td>\n",
       "      <td>0.000000</td>\n",
       "      <td>0.000000</td>\n",
       "      <td>53.000000</td>\n",
       "      <td>0.000000</td>\n",
       "      <td>0.000000</td>\n",
       "    </tr>\n",
       "    <tr>\n",
       "      <th>max</th>\n",
       "      <td>1.000791e+08</td>\n",
       "      <td>6902.000000</td>\n",
       "      <td>49.000000</td>\n",
       "      <td>1.000000</td>\n",
       "      <td>1.000000</td>\n",
       "      <td>7.000000</td>\n",
       "      <td>10.000000</td>\n",
       "      <td>9.000000</td>\n",
       "      <td>560.740000</td>\n",
       "      <td>904.390000</td>\n",
       "      <td>...</td>\n",
       "      <td>106.390000</td>\n",
       "      <td>142.000000</td>\n",
       "      <td>0.0</td>\n",
       "      <td>1.000000</td>\n",
       "      <td>1.0</td>\n",
       "      <td>530.000000</td>\n",
       "      <td>81.000000</td>\n",
       "      <td>9869.000000</td>\n",
       "      <td>1.000000</td>\n",
       "      <td>1.000000</td>\n",
       "    </tr>\n",
       "  </tbody>\n",
       "</table>\n",
       "<p>8 rows × 22 columns</p>\n",
       "</div>"
      ],
      "text/plain": [
       "       Household_Key          ZIP5  Length_Of_Residence  \\\n",
       "count   2.134400e+04  21344.000000         12010.000000   \n",
       "mean    1.597040e+07   2944.899831            11.524979   \n",
       "std     2.138079e+07    478.757704             5.495280   \n",
       "min     8.750000e+02   2801.000000             0.000000   \n",
       "25%     4.350387e+06   2857.000000             8.000000   \n",
       "50%     9.811235e+06   2888.000000            15.000000   \n",
       "75%     1.654012e+07   2910.000000            15.000000   \n",
       "max     1.000791e+08   6902.000000            49.000000   \n",
       "\n",
       "       Do_Not_Direct_Mail_Solicit  Email_Available  ERS_ENT_Count_Year_1  \\\n",
       "count                21343.000000     21343.000000          16675.000000   \n",
       "mean                     0.052851         0.536101              0.518561   \n",
       "std                      0.223741         0.498707              0.985532   \n",
       "min                      0.000000         0.000000              0.000000   \n",
       "25%                      0.000000         0.000000              0.000000   \n",
       "50%                      0.000000         1.000000              0.000000   \n",
       "75%                      0.000000         1.000000              1.000000   \n",
       "max                      1.000000         1.000000              7.000000   \n",
       "\n",
       "       ERS_ENT_Count_Year_2  ERS_ENT_Count_Year_3  ERS_Member_Cost_Year_1  \\\n",
       "count          16675.000000          16675.000000            16675.000000   \n",
       "mean               0.936252              0.959760               28.068167   \n",
       "std                1.253213              1.322932               57.576978   \n",
       "min                0.000000              0.000000                0.000000   \n",
       "25%                0.000000              0.000000                0.000000   \n",
       "50%                0.000000              0.000000                0.000000   \n",
       "75%                2.000000              1.000000               36.000000   \n",
       "max               10.000000              9.000000              560.740000   \n",
       "\n",
       "       ERS_Member_Cost_Year_2  ...    Basic_Cost  Calculated_Tow_Miles  \\\n",
       "count            16675.000000  ...  13944.000000          13861.000000   \n",
       "mean                50.970628  ...     42.629593              2.379071   \n",
       "std                 78.213543  ...     15.713987              7.030493   \n",
       "min                  0.000000  ...      0.000000              0.000000   \n",
       "25%                  0.000000  ...     30.000000              0.000000   \n",
       "50%                  0.000000  ...     53.000000              0.000000   \n",
       "75%                 66.750000  ...     53.000000              1.000000   \n",
       "max                904.390000  ...    106.390000            142.000000   \n",
       "\n",
       "       Is_Duplicate        Is_NSR  Member_Match_Flag     Plus_Cost  \\\n",
       "count       13997.0  13997.000000            13997.0  13944.000000   \n",
       "mean            0.0      0.059156                1.0      3.450947   \n",
       "std             0.0      0.235924                0.0     18.213483   \n",
       "min             0.0      0.000000                1.0      0.000000   \n",
       "25%             0.0      0.000000                1.0      0.000000   \n",
       "50%             0.0      0.000000                1.0      0.000000   \n",
       "75%             0.0      0.000000                1.0      0.000000   \n",
       "max             0.0      1.000000                1.0    530.000000   \n",
       "\n",
       "       Premier_Cost    Total_Cost  Was_Duplicated  Was_Towed_To_AAR_Referral  \n",
       "count  13911.000000  13944.000000    13997.000000               13997.000000  \n",
       "mean       0.006901     47.273696        0.065157                   0.013646  \n",
       "std        0.692848     86.869110        0.246811                   0.116020  \n",
       "min        0.000000      0.000000        0.000000                   0.000000  \n",
       "25%        0.000000     30.500000        0.000000                   0.000000  \n",
       "50%        0.000000     53.000000        0.000000                   0.000000  \n",
       "75%        0.000000     53.000000        0.000000                   0.000000  \n",
       "max       81.000000   9869.000000        1.000000                   1.000000  \n",
       "\n",
       "[8 rows x 22 columns]"
      ]
     },
     "execution_count": 4,
     "metadata": {},
     "output_type": "execute_result"
    }
   ],
   "source": [
    "data.describe()"
   ]
  },
  {
   "cell_type": "code",
   "execution_count": 5,
   "metadata": {
    "colab": {},
    "colab_type": "code",
    "id": "8gblywbel0Ty"
   },
   "outputs": [],
   "source": [
    "new_data = data.copy()\n",
    "cols_with_missing = (col for col in new_data.columns \n",
    "                                 if new_data[col].isnull().any())\n",
    "for col in cols_with_missing:\n",
    "    new_data[col + '_was_missing'] = new_data[col].isnull()\n",
    "data_encoded = pd.get_dummies(new_data)\n",
    "my_imputer = SimpleImputer()\n",
    "new_data = pd.DataFrame(my_imputer.fit_transform(data_encoded))\n",
    "new_data.columns = data_encoded.columns"
   ]
  },
  {
   "cell_type": "code",
   "execution_count": 6,
   "metadata": {
    "colab": {
     "base_uri": "https://localhost:8080/",
     "height": 270
    },
    "colab_type": "code",
    "id": "bYh1Dg9jmAr1",
    "outputId": "222f60d8-43b4-4cc8-dde7-dcaea59b5397"
   },
   "outputs": [
    {
     "data": {
      "text/html": [
       "<div>\n",
       "<style scoped>\n",
       "    .dataframe tbody tr th:only-of-type {\n",
       "        vertical-align: middle;\n",
       "    }\n",
       "\n",
       "    .dataframe tbody tr th {\n",
       "        vertical-align: top;\n",
       "    }\n",
       "\n",
       "    .dataframe thead th {\n",
       "        text-align: right;\n",
       "    }\n",
       "</style>\n",
       "<table border=\"1\" class=\"dataframe\">\n",
       "  <thead>\n",
       "    <tr style=\"text-align: right;\">\n",
       "      <th></th>\n",
       "      <th>ERS_ENT_Count_Year_1</th>\n",
       "      <th>ERS_ENT_Count_Year_2</th>\n",
       "      <th>ERS_ENT_Count_Year_3</th>\n",
       "      <th>ERS_Member_Cost_Year_1</th>\n",
       "      <th>ERS_Member_Cost_Year_2</th>\n",
       "      <th>ERS_Member_Cost_Year_3</th>\n",
       "      <th>Member_Tenure_Years</th>\n",
       "      <th>Basic_Cost</th>\n",
       "      <th>Calculated_Tow_Miles</th>\n",
       "      <th>Is_Duplicate</th>\n",
       "      <th>...</th>\n",
       "      <th>SC_Vehicle_Model_Name_YARIS</th>\n",
       "      <th>SC_Vehicle_Model_Name_YUKON</th>\n",
       "      <th>SC_Vehicle_Model_Name_YUKON XL</th>\n",
       "      <th>SC_Vehicle_Model_Name_YUKON XL 1500</th>\n",
       "      <th>SC_Vehicle_Model_Name_YUKON XL 2500</th>\n",
       "      <th>SC_Vehicle_Model_Name_Yukon XL 1500</th>\n",
       "      <th>SC_Vehicle_Model_Name_Z3</th>\n",
       "      <th>SC_Vehicle_Model_Name_Z4</th>\n",
       "      <th>SC_Vehicle_Model_Name_ZEPHYR</th>\n",
       "      <th>SC_Vehicle_Model_Name_murano</th>\n",
       "    </tr>\n",
       "  </thead>\n",
       "  <tbody>\n",
       "    <tr>\n",
       "      <th>0</th>\n",
       "      <td>0.518561</td>\n",
       "      <td>0.936252</td>\n",
       "      <td>0.95976</td>\n",
       "      <td>28.068167</td>\n",
       "      <td>50.970628</td>\n",
       "      <td>49.518118</td>\n",
       "      <td>32.956239</td>\n",
       "      <td>42.629593</td>\n",
       "      <td>2.379071</td>\n",
       "      <td>0.0</td>\n",
       "      <td>...</td>\n",
       "      <td>0.0</td>\n",
       "      <td>0.0</td>\n",
       "      <td>0.0</td>\n",
       "      <td>0.0</td>\n",
       "      <td>0.0</td>\n",
       "      <td>0.0</td>\n",
       "      <td>0.0</td>\n",
       "      <td>0.0</td>\n",
       "      <td>0.0</td>\n",
       "      <td>0.0</td>\n",
       "    </tr>\n",
       "    <tr>\n",
       "      <th>1</th>\n",
       "      <td>0.000000</td>\n",
       "      <td>0.000000</td>\n",
       "      <td>2.00000</td>\n",
       "      <td>0.000000</td>\n",
       "      <td>0.000000</td>\n",
       "      <td>65.000000</td>\n",
       "      <td>49.000000</td>\n",
       "      <td>32.500000</td>\n",
       "      <td>0.800000</td>\n",
       "      <td>0.0</td>\n",
       "      <td>...</td>\n",
       "      <td>0.0</td>\n",
       "      <td>0.0</td>\n",
       "      <td>0.0</td>\n",
       "      <td>0.0</td>\n",
       "      <td>0.0</td>\n",
       "      <td>0.0</td>\n",
       "      <td>0.0</td>\n",
       "      <td>0.0</td>\n",
       "      <td>0.0</td>\n",
       "      <td>0.0</td>\n",
       "    </tr>\n",
       "    <tr>\n",
       "      <th>2</th>\n",
       "      <td>0.000000</td>\n",
       "      <td>0.000000</td>\n",
       "      <td>2.00000</td>\n",
       "      <td>0.000000</td>\n",
       "      <td>0.000000</td>\n",
       "      <td>65.000000</td>\n",
       "      <td>49.000000</td>\n",
       "      <td>30.000000</td>\n",
       "      <td>0.000000</td>\n",
       "      <td>0.0</td>\n",
       "      <td>...</td>\n",
       "      <td>0.0</td>\n",
       "      <td>0.0</td>\n",
       "      <td>0.0</td>\n",
       "      <td>0.0</td>\n",
       "      <td>0.0</td>\n",
       "      <td>0.0</td>\n",
       "      <td>0.0</td>\n",
       "      <td>0.0</td>\n",
       "      <td>0.0</td>\n",
       "      <td>0.0</td>\n",
       "    </tr>\n",
       "    <tr>\n",
       "      <th>3</th>\n",
       "      <td>0.000000</td>\n",
       "      <td>0.000000</td>\n",
       "      <td>2.00000</td>\n",
       "      <td>0.000000</td>\n",
       "      <td>0.000000</td>\n",
       "      <td>65.000000</td>\n",
       "      <td>49.000000</td>\n",
       "      <td>32.500000</td>\n",
       "      <td>0.000000</td>\n",
       "      <td>0.0</td>\n",
       "      <td>...</td>\n",
       "      <td>0.0</td>\n",
       "      <td>0.0</td>\n",
       "      <td>0.0</td>\n",
       "      <td>0.0</td>\n",
       "      <td>0.0</td>\n",
       "      <td>0.0</td>\n",
       "      <td>0.0</td>\n",
       "      <td>0.0</td>\n",
       "      <td>0.0</td>\n",
       "      <td>0.0</td>\n",
       "    </tr>\n",
       "    <tr>\n",
       "      <th>4</th>\n",
       "      <td>0.000000</td>\n",
       "      <td>0.000000</td>\n",
       "      <td>2.00000</td>\n",
       "      <td>0.000000</td>\n",
       "      <td>0.000000</td>\n",
       "      <td>65.000000</td>\n",
       "      <td>49.000000</td>\n",
       "      <td>30.000000</td>\n",
       "      <td>0.000000</td>\n",
       "      <td>0.0</td>\n",
       "      <td>...</td>\n",
       "      <td>0.0</td>\n",
       "      <td>0.0</td>\n",
       "      <td>0.0</td>\n",
       "      <td>0.0</td>\n",
       "      <td>0.0</td>\n",
       "      <td>0.0</td>\n",
       "      <td>0.0</td>\n",
       "      <td>0.0</td>\n",
       "      <td>0.0</td>\n",
       "      <td>0.0</td>\n",
       "    </tr>\n",
       "  </tbody>\n",
       "</table>\n",
       "<p>5 rows × 1495 columns</p>\n",
       "</div>"
      ],
      "text/plain": [
       "   ERS_ENT_Count_Year_1  ERS_ENT_Count_Year_2  ERS_ENT_Count_Year_3  \\\n",
       "0              0.518561              0.936252               0.95976   \n",
       "1              0.000000              0.000000               2.00000   \n",
       "2              0.000000              0.000000               2.00000   \n",
       "3              0.000000              0.000000               2.00000   \n",
       "4              0.000000              0.000000               2.00000   \n",
       "\n",
       "   ERS_Member_Cost_Year_1  ERS_Member_Cost_Year_2  ERS_Member_Cost_Year_3  \\\n",
       "0               28.068167               50.970628               49.518118   \n",
       "1                0.000000                0.000000               65.000000   \n",
       "2                0.000000                0.000000               65.000000   \n",
       "3                0.000000                0.000000               65.000000   \n",
       "4                0.000000                0.000000               65.000000   \n",
       "\n",
       "   Member_Tenure_Years  Basic_Cost  Calculated_Tow_Miles  Is_Duplicate  ...  \\\n",
       "0            32.956239   42.629593              2.379071           0.0  ...   \n",
       "1            49.000000   32.500000              0.800000           0.0  ...   \n",
       "2            49.000000   30.000000              0.000000           0.0  ...   \n",
       "3            49.000000   32.500000              0.000000           0.0  ...   \n",
       "4            49.000000   30.000000              0.000000           0.0  ...   \n",
       "\n",
       "   SC_Vehicle_Model_Name_YARIS  SC_Vehicle_Model_Name_YUKON  \\\n",
       "0                          0.0                          0.0   \n",
       "1                          0.0                          0.0   \n",
       "2                          0.0                          0.0   \n",
       "3                          0.0                          0.0   \n",
       "4                          0.0                          0.0   \n",
       "\n",
       "   SC_Vehicle_Model_Name_YUKON XL  SC_Vehicle_Model_Name_YUKON XL 1500  \\\n",
       "0                             0.0                                  0.0   \n",
       "1                             0.0                                  0.0   \n",
       "2                             0.0                                  0.0   \n",
       "3                             0.0                                  0.0   \n",
       "4                             0.0                                  0.0   \n",
       "\n",
       "   SC_Vehicle_Model_Name_YUKON XL 2500  SC_Vehicle_Model_Name_Yukon XL 1500  \\\n",
       "0                                  0.0                                  0.0   \n",
       "1                                  0.0                                  0.0   \n",
       "2                                  0.0                                  0.0   \n",
       "3                                  0.0                                  0.0   \n",
       "4                                  0.0                                  0.0   \n",
       "\n",
       "   SC_Vehicle_Model_Name_Z3  SC_Vehicle_Model_Name_Z4  \\\n",
       "0                       0.0                       0.0   \n",
       "1                       0.0                       0.0   \n",
       "2                       0.0                       0.0   \n",
       "3                       0.0                       0.0   \n",
       "4                       0.0                       0.0   \n",
       "\n",
       "   SC_Vehicle_Model_Name_ZEPHYR  SC_Vehicle_Model_Name_murano  \n",
       "0                           0.0                           0.0  \n",
       "1                           0.0                           0.0  \n",
       "2                           0.0                           0.0  \n",
       "3                           0.0                           0.0  \n",
       "4                           0.0                           0.0  \n",
       "\n",
       "[5 rows x 1495 columns]"
      ]
     },
     "execution_count": 6,
     "metadata": {},
     "output_type": "execute_result"
    }
   ],
   "source": [
    "new_data.iloc[:,5:].head(5)"
   ]
  },
  {
   "cell_type": "code",
   "execution_count": 7,
   "metadata": {
    "colab": {},
    "colab_type": "code",
    "id": "2Xz3dVZBn0bH"
   },
   "outputs": [],
   "source": [
    "labels = np.array(new_data['Total_Cost'])"
   ]
  },
  {
   "cell_type": "code",
   "execution_count": 8,
   "metadata": {
    "colab": {},
    "colab_type": "code",
    "id": "f-bx20rDog6z"
   },
   "outputs": [],
   "source": [
    "new_data= new_data.drop('Total_Cost', axis = 1)"
   ]
  },
  {
   "cell_type": "code",
   "execution_count": 9,
   "metadata": {
    "colab": {},
    "colab_type": "code",
    "id": "lEhyflWGoqTU"
   },
   "outputs": [],
   "source": [
    "feature_list = list(new_data.columns)"
   ]
  },
  {
   "cell_type": "code",
   "execution_count": 10,
   "metadata": {
    "colab": {},
    "colab_type": "code",
    "id": "DIEbQLg2oyVo"
   },
   "outputs": [],
   "source": [
    "features = np.array(new_data)"
   ]
  },
  {
   "cell_type": "code",
   "execution_count": 11,
   "metadata": {
    "colab": {},
    "colab_type": "code",
    "id": "7SzYn6jupwBJ"
   },
   "outputs": [],
   "source": [
    "train_features, test_features, train_labels, test_labels = train_test_split(features, labels, test_size = 0.25, random_state = 42)"
   ]
  },
  {
   "cell_type": "code",
   "execution_count": 12,
   "metadata": {
    "colab": {
     "base_uri": "https://localhost:8080/",
     "height": 85
    },
    "colab_type": "code",
    "id": "eXB2k9HFZPzn",
    "outputId": "264da726-fa30-423c-86af-436c79f696ef"
   },
   "outputs": [
    {
     "name": "stdout",
     "output_type": "stream",
     "text": [
      "Training Features Shape: (16008, 1499)\n",
      "Training Labels Shape: (16008,)\n",
      "Testing Features Shape: (5336, 1499)\n",
      "Testing Labels Shape: (5336,)\n"
     ]
    }
   ],
   "source": [
    "print('Training Features Shape:', train_features.shape)\n",
    "print('Training Labels Shape:', train_labels.shape)\n",
    "print('Testing Features Shape:', test_features.shape)\n",
    "print('Testing Labels Shape:', test_labels.shape)"
   ]
  },
  {
   "cell_type": "code",
   "execution_count": 13,
   "metadata": {
    "colab": {},
    "colab_type": "code",
    "id": "UWLPQdZdZT-i"
   },
   "outputs": [],
   "source": [
    "baseline_preds = test_features[:, feature_list.index('Premier_Cost')]"
   ]
  },
  {
   "cell_type": "code",
   "execution_count": 14,
   "metadata": {
    "colab": {},
    "colab_type": "code",
    "id": "JttRE3L7ZXje"
   },
   "outputs": [],
   "source": [
    "baseline_errors = abs(baseline_preds - test_labels)"
   ]
  },
  {
   "cell_type": "code",
   "execution_count": 15,
   "metadata": {
    "colab": {
     "base_uri": "https://localhost:8080/",
     "height": 34
    },
    "colab_type": "code",
    "id": "NAAUmz78Zale",
    "outputId": "675fa450-cc3f-43b9-9df0-8b7756c1b0b9"
   },
   "outputs": [
    {
     "name": "stdout",
     "output_type": "stream",
     "text": [
      "Average baseline error:  48.65\n"
     ]
    }
   ],
   "source": [
    "print('Average baseline error: ', round(np.mean(baseline_errors), 2))"
   ]
  },
  {
   "cell_type": "code",
   "execution_count": 16,
   "metadata": {
    "colab": {},
    "colab_type": "code",
    "id": "4jaBnWHGZd2R"
   },
   "outputs": [],
   "source": [
    "rf = RandomForestRegressor(n_estimators = 1000, random_state = 42)"
   ]
  },
  {
   "cell_type": "code",
   "execution_count": 17,
   "metadata": {
    "colab": {},
    "colab_type": "code",
    "id": "4MtpZy7BZhGs"
   },
   "outputs": [],
   "source": [
    "rf.fit(train_features, train_labels);"
   ]
  },
  {
   "cell_type": "code",
   "execution_count": 18,
   "metadata": {},
   "outputs": [],
   "source": [
    "predictions = rf.predict(test_features)"
   ]
  },
  {
   "cell_type": "code",
   "execution_count": 19,
   "metadata": {},
   "outputs": [],
   "source": [
    "errors = abs(predictions - test_labels)"
   ]
  },
  {
   "cell_type": "code",
   "execution_count": 23,
   "metadata": {},
   "outputs": [
    {
     "name": "stdout",
     "output_type": "stream",
     "text": [
      "Mean Absolute Error: 2.36\n"
     ]
    }
   ],
   "source": [
    "print('Mean Absolute Error:', round(np.mean(errors), 2))"
   ]
  },
  {
   "cell_type": "code",
   "execution_count": 35,
   "metadata": {},
   "outputs": [
    {
     "name": "stdout",
     "output_type": "stream",
     "text": [
      "4.073239387114041e-12\n"
     ]
    },
    {
     "name": "stderr",
     "output_type": "stream",
     "text": [
      "/home/ec2-user/anaconda3/envs/python3/lib/python3.6/site-packages/ipykernel/__main__.py:1: RuntimeWarning: divide by zero encountered in true_divide\n",
      "  if __name__ == '__main__':\n",
      "/home/ec2-user/anaconda3/envs/python3/lib/python3.6/site-packages/ipykernel/__main__.py:1: RuntimeWarning: invalid value encountered in true_divide\n",
      "  if __name__ == '__main__':\n"
     ]
    }
   ],
   "source": [
    "mape = 100 * (errors/test_labels)"
   ]
  },
  {
   "cell_type": "code",
   "execution_count": 39,
   "metadata": {},
   "outputs": [
    {
     "name": "stdout",
     "output_type": "stream",
     "text": [
      "Accuracy: nan %.\n"
     ]
    }
   ],
   "source": [
    "accuracy = 100 - np.mean(mape)\n",
    "print('Accuracy:', round(accuracy, 2), '%.')"
   ]
  },
  {
   "cell_type": "code",
   "execution_count": null,
   "metadata": {},
   "outputs": [],
   "source": []
  }
 ],
 "metadata": {
  "colab": {
   "collapsed_sections": [],
   "machine_shape": "hm",
   "name": "Untitled0.ipynb",
   "provenance": []
  },
  "kernelspec": {
   "display_name": "conda_python3",
   "language": "python",
   "name": "conda_python3"
  },
  "language_info": {
   "codemirror_mode": {
    "name": "ipython",
    "version": 3
   },
   "file_extension": ".py",
   "mimetype": "text/x-python",
   "name": "python",
   "nbconvert_exporter": "python",
   "pygments_lexer": "ipython3",
   "version": "3.6.5"
  }
 },
 "nbformat": 4,
 "nbformat_minor": 1
}
