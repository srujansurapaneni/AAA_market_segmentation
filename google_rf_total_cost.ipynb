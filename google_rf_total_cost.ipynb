{
  "nbformat": 4,
  "nbformat_minor": 0,
  "metadata": {
    "colab": {
      "name": "google_rf.ipynb",
      "provenance": [],
      "collapsed_sections": [],
      "machine_shape": "hm"
    },
    "kernelspec": {
      "display_name": "conda_python3",
      "language": "python",
      "name": "conda_python3"
    },
    "language_info": {
      "codemirror_mode": {
        "name": "ipython",
        "version": 3
      },
      "file_extension": ".py",
      "mimetype": "text/x-python",
      "name": "python",
      "nbconvert_exporter": "python",
      "pygments_lexer": "ipython3",
      "version": "3.6.5"
    }
  },
  "cells": [
    {
      "cell_type": "code",
      "metadata": {
        "colab_type": "code",
        "id": "ZupHYQk0f8je",
        "colab": {}
      },
      "source": [
        "from mpl_toolkits.mplot3d import Axes3D\n",
        "from sklearn.preprocessing import StandardScaler\n",
        "import matplotlib.pyplot as plt # plotting\n",
        "import numpy as np # linear algebra\n",
        "import os # accessing directory structure\n",
        "import pandas as pd # data processing, CSV file I/O (e.g. pd.read_csv)\n",
        "from sklearn.model_selection import train_test_split\n",
        "from sklearn.ensemble import RandomForestRegressor\n",
        "from sklearn.impute import SimpleImputer\n",
        "from sklearn.model_selection import cross_val_score\n",
        "from sklearn.model_selection import GridSearchCV\n",
        "from sklearn.ensemble import RandomForestClassifier\n",
        "from sklearn.metrics import accuracy_score\n",
        "from sklearn.svm import SVC\n",
        "from subprocess import check_output\n"
      ],
      "execution_count": 0,
      "outputs": []
    },
    {
      "cell_type": "code",
      "metadata": {
        "colab_type": "code",
        "id": "BrzVbYzGgFUi",
        "outputId": "3630a8e0-d54f-4f83-9395-06b0234d520c",
        "scrolled": true,
        "colab": {
          "base_uri": "https://localhost:8080/",
          "height": 221
        }
      },
      "source": [
        "data = pd.read_csv('https://aaa-pgdmlai.s3.amazonaws.com/household_level.csv')\n",
        "data.columns"
      ],
      "execution_count": 2,
      "outputs": [
        {
          "output_type": "execute_result",
          "data": {
            "text/plain": [
              "Index(['household_key', 'zip5', 'fsv_cmsi_flag', 'fsv_credit_card_flag',\n",
              "       'fsv_deposit_program_flag', 'fsv_home_equity_flag', 'fsv_id_theft_flag',\n",
              "       'fsv_mortgage_flag', 'ins_client_flag', 'trv_globalware_flag',\n",
              "       'length_of_residence', 'income', 'children', 'ers_ent_count_year_1',\n",
              "       'ers_ent_count_year_2', 'ers_ent_count_year_3',\n",
              "       'ers_member_cost_year_1', 'ers_member_cost_year_2',\n",
              "       'ers_member_cost_year_3', 'mosaic_household', 'mosaic_global_household',\n",
              "       'kcl_b_ind_mosaicsgrouping', 'new_mover_flag', 'breakdown_city',\n",
              "       'basic_cost', 'clearing_code_last_description', 'motorcycle_indicator',\n",
              "       'plus_cost', 'premier_cost', 'prob1_code_description',\n",
              "       'sc_vehicle_manufacturer_name', 'sc_vehicle_model_name', 'total_cost'],\n",
              "      dtype='object')"
            ]
          },
          "metadata": {
            "tags": []
          },
          "execution_count": 2
        }
      ]
    },
    {
      "cell_type": "code",
      "metadata": {
        "colab_type": "code",
        "id": "fugsuyz0gZsm",
        "outputId": "c7cf0a16-b12f-4808-e842-22ebfdac97d2",
        "colab": {
          "base_uri": "https://localhost:8080/",
          "height": 34
        }
      },
      "source": [
        "data.shape"
      ],
      "execution_count": 3,
      "outputs": [
        {
          "output_type": "execute_result",
          "data": {
            "text/plain": [
              "(11351, 33)"
            ]
          },
          "metadata": {
            "tags": []
          },
          "execution_count": 3
        }
      ]
    },
    {
      "cell_type": "code",
      "metadata": {
        "colab_type": "code",
        "id": "2hGC-gObkfYv",
        "outputId": "4228c1c5-1db4-48f9-b85f-088b63517976",
        "colab": {
          "base_uri": "https://localhost:8080/",
          "height": 317
        }
      },
      "source": [
        "data.describe()"
      ],
      "execution_count": 4,
      "outputs": [
        {
          "output_type": "execute_result",
          "data": {
            "text/html": [
              "<div>\n",
              "<style scoped>\n",
              "    .dataframe tbody tr th:only-of-type {\n",
              "        vertical-align: middle;\n",
              "    }\n",
              "\n",
              "    .dataframe tbody tr th {\n",
              "        vertical-align: top;\n",
              "    }\n",
              "\n",
              "    .dataframe thead th {\n",
              "        text-align: right;\n",
              "    }\n",
              "</style>\n",
              "<table border=\"1\" class=\"dataframe\">\n",
              "  <thead>\n",
              "    <tr style=\"text-align: right;\">\n",
              "      <th></th>\n",
              "      <th>household_key</th>\n",
              "      <th>zip5</th>\n",
              "      <th>length_of_residence</th>\n",
              "      <th>ers_ent_count_year_1</th>\n",
              "      <th>ers_ent_count_year_2</th>\n",
              "      <th>ers_ent_count_year_3</th>\n",
              "      <th>ers_member_cost_year_1</th>\n",
              "      <th>ers_member_cost_year_2</th>\n",
              "      <th>ers_member_cost_year_3</th>\n",
              "      <th>basic_cost</th>\n",
              "      <th>plus_cost</th>\n",
              "      <th>premier_cost</th>\n",
              "      <th>total_cost</th>\n",
              "    </tr>\n",
              "  </thead>\n",
              "  <tbody>\n",
              "    <tr>\n",
              "      <th>count</th>\n",
              "      <td>1.135100e+04</td>\n",
              "      <td>11351.000000</td>\n",
              "      <td>11351.000000</td>\n",
              "      <td>11351.000000</td>\n",
              "      <td>11351.000000</td>\n",
              "      <td>11351.000000</td>\n",
              "      <td>11351.000000</td>\n",
              "      <td>11351.000000</td>\n",
              "      <td>11351.000000</td>\n",
              "      <td>11351.000000</td>\n",
              "      <td>11351.000000</td>\n",
              "      <td>11351.000000</td>\n",
              "      <td>11351.000000</td>\n",
              "    </tr>\n",
              "    <tr>\n",
              "      <th>mean</th>\n",
              "      <td>1.514281e+07</td>\n",
              "      <td>2948.529821</td>\n",
              "      <td>7.265527</td>\n",
              "      <td>0.369042</td>\n",
              "      <td>0.659325</td>\n",
              "      <td>0.676064</td>\n",
              "      <td>20.100107</td>\n",
              "      <td>36.342013</td>\n",
              "      <td>34.885842</td>\n",
              "      <td>52.367813</td>\n",
              "      <td>4.239274</td>\n",
              "      <td>0.008457</td>\n",
              "      <td>58.072806</td>\n",
              "    </tr>\n",
              "    <tr>\n",
              "      <th>std</th>\n",
              "      <td>1.985961e+07</td>\n",
              "      <td>493.109440</td>\n",
              "      <td>7.142623</td>\n",
              "      <td>0.844004</td>\n",
              "      <td>1.102884</td>\n",
              "      <td>1.134943</td>\n",
              "      <td>50.514678</td>\n",
              "      <td>70.971258</td>\n",
              "      <td>63.855087</td>\n",
              "      <td>81.475561</td>\n",
              "      <td>23.167685</td>\n",
              "      <td>0.767006</td>\n",
              "      <td>138.109209</td>\n",
              "    </tr>\n",
              "    <tr>\n",
              "      <th>min</th>\n",
              "      <td>8.750000e+02</td>\n",
              "      <td>2801.000000</td>\n",
              "      <td>0.000000</td>\n",
              "      <td>0.000000</td>\n",
              "      <td>0.000000</td>\n",
              "      <td>0.000000</td>\n",
              "      <td>0.000000</td>\n",
              "      <td>0.000000</td>\n",
              "      <td>0.000000</td>\n",
              "      <td>0.000000</td>\n",
              "      <td>0.000000</td>\n",
              "      <td>0.000000</td>\n",
              "      <td>0.000000</td>\n",
              "    </tr>\n",
              "    <tr>\n",
              "      <th>25%</th>\n",
              "      <td>4.312093e+06</td>\n",
              "      <td>2857.000000</td>\n",
              "      <td>0.000000</td>\n",
              "      <td>0.000000</td>\n",
              "      <td>0.000000</td>\n",
              "      <td>0.000000</td>\n",
              "      <td>0.000000</td>\n",
              "      <td>0.000000</td>\n",
              "      <td>0.000000</td>\n",
              "      <td>0.000000</td>\n",
              "      <td>0.000000</td>\n",
              "      <td>0.000000</td>\n",
              "      <td>0.000000</td>\n",
              "    </tr>\n",
              "    <tr>\n",
              "      <th>50%</th>\n",
              "      <td>9.772276e+06</td>\n",
              "      <td>2888.000000</td>\n",
              "      <td>7.000000</td>\n",
              "      <td>0.000000</td>\n",
              "      <td>0.000000</td>\n",
              "      <td>0.000000</td>\n",
              "      <td>0.000000</td>\n",
              "      <td>0.000000</td>\n",
              "      <td>0.000000</td>\n",
              "      <td>30.000000</td>\n",
              "      <td>0.000000</td>\n",
              "      <td>0.000000</td>\n",
              "      <td>32.500000</td>\n",
              "    </tr>\n",
              "    <tr>\n",
              "      <th>75%</th>\n",
              "      <td>1.621354e+07</td>\n",
              "      <td>2910.000000</td>\n",
              "      <td>15.000000</td>\n",
              "      <td>0.000000</td>\n",
              "      <td>1.000000</td>\n",
              "      <td>1.000000</td>\n",
              "      <td>0.000000</td>\n",
              "      <td>58.850000</td>\n",
              "      <td>53.000000</td>\n",
              "      <td>58.850000</td>\n",
              "      <td>0.000000</td>\n",
              "      <td>0.000000</td>\n",
              "      <td>60.000000</td>\n",
              "    </tr>\n",
              "    <tr>\n",
              "      <th>max</th>\n",
              "      <td>1.000791e+08</td>\n",
              "      <td>6902.000000</td>\n",
              "      <td>49.000000</td>\n",
              "      <td>7.000000</td>\n",
              "      <td>10.000000</td>\n",
              "      <td>9.000000</td>\n",
              "      <td>560.740000</td>\n",
              "      <td>904.390000</td>\n",
              "      <td>604.000000</td>\n",
              "      <td>1545.850000</td>\n",
              "      <td>576.000000</td>\n",
              "      <td>81.000000</td>\n",
              "      <td>11420.850000</td>\n",
              "    </tr>\n",
              "  </tbody>\n",
              "</table>\n",
              "</div>"
            ],
            "text/plain": [
              "       household_key          zip5  ...  premier_cost    total_cost\n",
              "count   1.135100e+04  11351.000000  ...  11351.000000  11351.000000\n",
              "mean    1.514281e+07   2948.529821  ...      0.008457     58.072806\n",
              "std     1.985961e+07    493.109440  ...      0.767006    138.109209\n",
              "min     8.750000e+02   2801.000000  ...      0.000000      0.000000\n",
              "25%     4.312093e+06   2857.000000  ...      0.000000      0.000000\n",
              "50%     9.772276e+06   2888.000000  ...      0.000000     32.500000\n",
              "75%     1.621354e+07   2910.000000  ...      0.000000     60.000000\n",
              "max     1.000791e+08   6902.000000  ...     81.000000  11420.850000\n",
              "\n",
              "[8 rows x 13 columns]"
            ]
          },
          "metadata": {
            "tags": []
          },
          "execution_count": 4
        }
      ]
    },
    {
      "cell_type": "code",
      "metadata": {
        "colab_type": "code",
        "id": "8gblywbel0Ty",
        "colab": {}
      },
      "source": [
        "new_data = data.copy()\n",
        "cols_with_missing = (col for col in new_data.columns \n",
        "                                 if new_data[col].isnull().any())\n",
        "for col in cols_with_missing:\n",
        "    new_data[col + '_was_missing'] = new_data[col].isnull()\n",
        "data_encoded = pd.get_dummies(new_data)\n",
        "my_imputer = SimpleImputer()\n",
        "new_data = pd.DataFrame(my_imputer.fit_transform(data_encoded))\n",
        "new_data.columns = data_encoded.columns"
      ],
      "execution_count": 0,
      "outputs": []
    },
    {
      "cell_type": "code",
      "metadata": {
        "colab_type": "code",
        "id": "bYh1Dg9jmAr1",
        "outputId": "2c8d816f-26dd-4820-ab80-b886a9dc6c66",
        "colab": {
          "base_uri": "https://localhost:8080/",
          "height": 270
        }
      },
      "source": [
        "new_data.iloc[:,5:].head(5)"
      ],
      "execution_count": 6,
      "outputs": [
        {
          "output_type": "execute_result",
          "data": {
            "text/html": [
              "<div>\n",
              "<style scoped>\n",
              "    .dataframe tbody tr th:only-of-type {\n",
              "        vertical-align: middle;\n",
              "    }\n",
              "\n",
              "    .dataframe tbody tr th {\n",
              "        vertical-align: top;\n",
              "    }\n",
              "\n",
              "    .dataframe thead th {\n",
              "        text-align: right;\n",
              "    }\n",
              "</style>\n",
              "<table border=\"1\" class=\"dataframe\">\n",
              "  <thead>\n",
              "    <tr style=\"text-align: right;\">\n",
              "      <th></th>\n",
              "      <th>ers_ent_count_year_3</th>\n",
              "      <th>ers_member_cost_year_1</th>\n",
              "      <th>ers_member_cost_year_2</th>\n",
              "      <th>ers_member_cost_year_3</th>\n",
              "      <th>basic_cost</th>\n",
              "      <th>plus_cost</th>\n",
              "      <th>premier_cost</th>\n",
              "      <th>total_cost</th>\n",
              "      <th>fsv_cmsi_flag_N</th>\n",
              "      <th>fsv_cmsi_flag_Y</th>\n",
              "      <th>fsv_credit_card_flag_N</th>\n",
              "      <th>fsv_credit_card_flag_Y</th>\n",
              "      <th>fsv_deposit_program_flag_N</th>\n",
              "      <th>fsv_deposit_program_flag_Y</th>\n",
              "      <th>fsv_home_equity_flag_N</th>\n",
              "      <th>fsv_home_equity_flag_Y</th>\n",
              "      <th>fsv_id_theft_flag_N</th>\n",
              "      <th>fsv_id_theft_flag_Y</th>\n",
              "      <th>fsv_mortgage_flag_N</th>\n",
              "      <th>fsv_mortgage_flag_Y</th>\n",
              "      <th>ins_client_flag_N</th>\n",
              "      <th>ins_client_flag_Y</th>\n",
              "      <th>trv_globalware_flag_N</th>\n",
              "      <th>trv_globalware_flag_Y</th>\n",
              "      <th>income_0</th>\n",
              "      <th>income_10-19,999</th>\n",
              "      <th>income_100-149,999</th>\n",
              "      <th>income_150 - 174,999</th>\n",
              "      <th>income_175 - 199,999</th>\n",
              "      <th>income_20-29,999</th>\n",
              "      <th>income_200 - 249,999</th>\n",
              "      <th>income_250K+</th>\n",
              "      <th>income_30-39,999</th>\n",
              "      <th>income_40-49,999</th>\n",
              "      <th>income_50-59,999</th>\n",
              "      <th>income_60-69,999</th>\n",
              "      <th>income_70-79,999</th>\n",
              "      <th>income_80-89,999</th>\n",
              "      <th>income_90-99,999</th>\n",
              "      <th>income_Under 10K</th>\n",
              "      <th>...</th>\n",
              "      <th>sc_vehicle_model_name_VOYAGER</th>\n",
              "      <th>sc_vehicle_model_name_VUE</th>\n",
              "      <th>sc_vehicle_model_name_W3500 TILTMASTER</th>\n",
              "      <th>sc_vehicle_model_name_WAGON</th>\n",
              "      <th>sc_vehicle_model_name_WINDSTAR</th>\n",
              "      <th>sc_vehicle_model_name_WRANGLER</th>\n",
              "      <th>sc_vehicle_model_name_WRX</th>\n",
              "      <th>sc_vehicle_model_name_X-90</th>\n",
              "      <th>sc_vehicle_model_name_X-TYPE</th>\n",
              "      <th>sc_vehicle_model_name_X3</th>\n",
              "      <th>sc_vehicle_model_name_X5</th>\n",
              "      <th>sc_vehicle_model_name_XA</th>\n",
              "      <th>sc_vehicle_model_name_XB</th>\n",
              "      <th>sc_vehicle_model_name_XC60</th>\n",
              "      <th>sc_vehicle_model_name_XC70</th>\n",
              "      <th>sc_vehicle_model_name_XC90</th>\n",
              "      <th>sc_vehicle_model_name_XD</th>\n",
              "      <th>sc_vehicle_model_name_XF</th>\n",
              "      <th>sc_vehicle_model_name_XG300</th>\n",
              "      <th>sc_vehicle_model_name_XG350</th>\n",
              "      <th>sc_vehicle_model_name_XJ</th>\n",
              "      <th>sc_vehicle_model_name_XJ12</th>\n",
              "      <th>sc_vehicle_model_name_XJ8</th>\n",
              "      <th>sc_vehicle_model_name_XJS</th>\n",
              "      <th>sc_vehicle_model_name_XK</th>\n",
              "      <th>sc_vehicle_model_name_XK8</th>\n",
              "      <th>sc_vehicle_model_name_XL-7</th>\n",
              "      <th>sc_vehicle_model_name_XTERRA</th>\n",
              "      <th>sc_vehicle_model_name_XTS</th>\n",
              "      <th>sc_vehicle_model_name_XV</th>\n",
              "      <th>sc_vehicle_model_name_XV CROSSTREK</th>\n",
              "      <th>sc_vehicle_model_name_YARIS</th>\n",
              "      <th>sc_vehicle_model_name_YUKON</th>\n",
              "      <th>sc_vehicle_model_name_YUKON XL</th>\n",
              "      <th>sc_vehicle_model_name_YUKON XL 1500</th>\n",
              "      <th>sc_vehicle_model_name_YUKON XL 2500</th>\n",
              "      <th>sc_vehicle_model_name_Yukon XL 1500</th>\n",
              "      <th>sc_vehicle_model_name_Z3</th>\n",
              "      <th>sc_vehicle_model_name_Z4</th>\n",
              "      <th>sc_vehicle_model_name_ZEPHYR</th>\n",
              "    </tr>\n",
              "  </thead>\n",
              "  <tbody>\n",
              "    <tr>\n",
              "      <th>0</th>\n",
              "      <td>0.0</td>\n",
              "      <td>0.00</td>\n",
              "      <td>0.00</td>\n",
              "      <td>0.00</td>\n",
              "      <td>0.0</td>\n",
              "      <td>0.0</td>\n",
              "      <td>0.0</td>\n",
              "      <td>0.0</td>\n",
              "      <td>1.0</td>\n",
              "      <td>0.0</td>\n",
              "      <td>1.0</td>\n",
              "      <td>0.0</td>\n",
              "      <td>1.0</td>\n",
              "      <td>0.0</td>\n",
              "      <td>1.0</td>\n",
              "      <td>0.0</td>\n",
              "      <td>1.0</td>\n",
              "      <td>0.0</td>\n",
              "      <td>1.0</td>\n",
              "      <td>0.0</td>\n",
              "      <td>1.0</td>\n",
              "      <td>0.0</td>\n",
              "      <td>1.0</td>\n",
              "      <td>0.0</td>\n",
              "      <td>1.0</td>\n",
              "      <td>0.0</td>\n",
              "      <td>0.0</td>\n",
              "      <td>0.0</td>\n",
              "      <td>0.0</td>\n",
              "      <td>0.0</td>\n",
              "      <td>0.0</td>\n",
              "      <td>0.0</td>\n",
              "      <td>0.0</td>\n",
              "      <td>0.0</td>\n",
              "      <td>0.0</td>\n",
              "      <td>0.0</td>\n",
              "      <td>0.0</td>\n",
              "      <td>0.0</td>\n",
              "      <td>0.0</td>\n",
              "      <td>0.0</td>\n",
              "      <td>...</td>\n",
              "      <td>0.0</td>\n",
              "      <td>0.0</td>\n",
              "      <td>0.0</td>\n",
              "      <td>0.0</td>\n",
              "      <td>0.0</td>\n",
              "      <td>0.0</td>\n",
              "      <td>0.0</td>\n",
              "      <td>0.0</td>\n",
              "      <td>0.0</td>\n",
              "      <td>0.0</td>\n",
              "      <td>0.0</td>\n",
              "      <td>0.0</td>\n",
              "      <td>0.0</td>\n",
              "      <td>0.0</td>\n",
              "      <td>0.0</td>\n",
              "      <td>0.0</td>\n",
              "      <td>0.0</td>\n",
              "      <td>0.0</td>\n",
              "      <td>0.0</td>\n",
              "      <td>0.0</td>\n",
              "      <td>0.0</td>\n",
              "      <td>0.0</td>\n",
              "      <td>0.0</td>\n",
              "      <td>0.0</td>\n",
              "      <td>0.0</td>\n",
              "      <td>0.0</td>\n",
              "      <td>0.0</td>\n",
              "      <td>0.0</td>\n",
              "      <td>0.0</td>\n",
              "      <td>0.0</td>\n",
              "      <td>0.0</td>\n",
              "      <td>0.0</td>\n",
              "      <td>0.0</td>\n",
              "      <td>0.0</td>\n",
              "      <td>0.0</td>\n",
              "      <td>0.0</td>\n",
              "      <td>0.0</td>\n",
              "      <td>0.0</td>\n",
              "      <td>0.0</td>\n",
              "      <td>0.0</td>\n",
              "    </tr>\n",
              "    <tr>\n",
              "      <th>1</th>\n",
              "      <td>1.0</td>\n",
              "      <td>58.85</td>\n",
              "      <td>0.00</td>\n",
              "      <td>106.50</td>\n",
              "      <td>31.0</td>\n",
              "      <td>75.0</td>\n",
              "      <td>0.0</td>\n",
              "      <td>106.0</td>\n",
              "      <td>1.0</td>\n",
              "      <td>0.0</td>\n",
              "      <td>1.0</td>\n",
              "      <td>0.0</td>\n",
              "      <td>1.0</td>\n",
              "      <td>0.0</td>\n",
              "      <td>1.0</td>\n",
              "      <td>0.0</td>\n",
              "      <td>1.0</td>\n",
              "      <td>0.0</td>\n",
              "      <td>1.0</td>\n",
              "      <td>0.0</td>\n",
              "      <td>1.0</td>\n",
              "      <td>0.0</td>\n",
              "      <td>1.0</td>\n",
              "      <td>0.0</td>\n",
              "      <td>1.0</td>\n",
              "      <td>0.0</td>\n",
              "      <td>0.0</td>\n",
              "      <td>0.0</td>\n",
              "      <td>0.0</td>\n",
              "      <td>0.0</td>\n",
              "      <td>0.0</td>\n",
              "      <td>0.0</td>\n",
              "      <td>0.0</td>\n",
              "      <td>0.0</td>\n",
              "      <td>0.0</td>\n",
              "      <td>0.0</td>\n",
              "      <td>0.0</td>\n",
              "      <td>0.0</td>\n",
              "      <td>0.0</td>\n",
              "      <td>0.0</td>\n",
              "      <td>...</td>\n",
              "      <td>0.0</td>\n",
              "      <td>0.0</td>\n",
              "      <td>0.0</td>\n",
              "      <td>0.0</td>\n",
              "      <td>0.0</td>\n",
              "      <td>0.0</td>\n",
              "      <td>0.0</td>\n",
              "      <td>0.0</td>\n",
              "      <td>0.0</td>\n",
              "      <td>0.0</td>\n",
              "      <td>0.0</td>\n",
              "      <td>0.0</td>\n",
              "      <td>0.0</td>\n",
              "      <td>0.0</td>\n",
              "      <td>0.0</td>\n",
              "      <td>0.0</td>\n",
              "      <td>0.0</td>\n",
              "      <td>0.0</td>\n",
              "      <td>0.0</td>\n",
              "      <td>0.0</td>\n",
              "      <td>0.0</td>\n",
              "      <td>0.0</td>\n",
              "      <td>0.0</td>\n",
              "      <td>0.0</td>\n",
              "      <td>0.0</td>\n",
              "      <td>0.0</td>\n",
              "      <td>0.0</td>\n",
              "      <td>0.0</td>\n",
              "      <td>0.0</td>\n",
              "      <td>0.0</td>\n",
              "      <td>0.0</td>\n",
              "      <td>0.0</td>\n",
              "      <td>0.0</td>\n",
              "      <td>0.0</td>\n",
              "      <td>0.0</td>\n",
              "      <td>0.0</td>\n",
              "      <td>0.0</td>\n",
              "      <td>0.0</td>\n",
              "      <td>0.0</td>\n",
              "      <td>0.0</td>\n",
              "    </tr>\n",
              "    <tr>\n",
              "      <th>2</th>\n",
              "      <td>1.0</td>\n",
              "      <td>58.85</td>\n",
              "      <td>0.00</td>\n",
              "      <td>106.50</td>\n",
              "      <td>116.0</td>\n",
              "      <td>156.0</td>\n",
              "      <td>0.0</td>\n",
              "      <td>272.0</td>\n",
              "      <td>1.0</td>\n",
              "      <td>0.0</td>\n",
              "      <td>1.0</td>\n",
              "      <td>0.0</td>\n",
              "      <td>1.0</td>\n",
              "      <td>0.0</td>\n",
              "      <td>1.0</td>\n",
              "      <td>0.0</td>\n",
              "      <td>1.0</td>\n",
              "      <td>0.0</td>\n",
              "      <td>1.0</td>\n",
              "      <td>0.0</td>\n",
              "      <td>1.0</td>\n",
              "      <td>0.0</td>\n",
              "      <td>1.0</td>\n",
              "      <td>0.0</td>\n",
              "      <td>1.0</td>\n",
              "      <td>0.0</td>\n",
              "      <td>0.0</td>\n",
              "      <td>0.0</td>\n",
              "      <td>0.0</td>\n",
              "      <td>0.0</td>\n",
              "      <td>0.0</td>\n",
              "      <td>0.0</td>\n",
              "      <td>0.0</td>\n",
              "      <td>0.0</td>\n",
              "      <td>0.0</td>\n",
              "      <td>0.0</td>\n",
              "      <td>0.0</td>\n",
              "      <td>0.0</td>\n",
              "      <td>0.0</td>\n",
              "      <td>0.0</td>\n",
              "      <td>...</td>\n",
              "      <td>0.0</td>\n",
              "      <td>0.0</td>\n",
              "      <td>0.0</td>\n",
              "      <td>0.0</td>\n",
              "      <td>0.0</td>\n",
              "      <td>0.0</td>\n",
              "      <td>0.0</td>\n",
              "      <td>0.0</td>\n",
              "      <td>0.0</td>\n",
              "      <td>0.0</td>\n",
              "      <td>0.0</td>\n",
              "      <td>0.0</td>\n",
              "      <td>0.0</td>\n",
              "      <td>0.0</td>\n",
              "      <td>0.0</td>\n",
              "      <td>0.0</td>\n",
              "      <td>0.0</td>\n",
              "      <td>0.0</td>\n",
              "      <td>0.0</td>\n",
              "      <td>0.0</td>\n",
              "      <td>0.0</td>\n",
              "      <td>0.0</td>\n",
              "      <td>0.0</td>\n",
              "      <td>0.0</td>\n",
              "      <td>0.0</td>\n",
              "      <td>0.0</td>\n",
              "      <td>0.0</td>\n",
              "      <td>0.0</td>\n",
              "      <td>0.0</td>\n",
              "      <td>0.0</td>\n",
              "      <td>0.0</td>\n",
              "      <td>0.0</td>\n",
              "      <td>0.0</td>\n",
              "      <td>0.0</td>\n",
              "      <td>0.0</td>\n",
              "      <td>0.0</td>\n",
              "      <td>0.0</td>\n",
              "      <td>0.0</td>\n",
              "      <td>0.0</td>\n",
              "      <td>0.0</td>\n",
              "    </tr>\n",
              "    <tr>\n",
              "      <th>3</th>\n",
              "      <td>2.0</td>\n",
              "      <td>58.85</td>\n",
              "      <td>58.85</td>\n",
              "      <td>106.50</td>\n",
              "      <td>462.2</td>\n",
              "      <td>51.0</td>\n",
              "      <td>0.0</td>\n",
              "      <td>513.2</td>\n",
              "      <td>1.0</td>\n",
              "      <td>0.0</td>\n",
              "      <td>1.0</td>\n",
              "      <td>0.0</td>\n",
              "      <td>1.0</td>\n",
              "      <td>0.0</td>\n",
              "      <td>1.0</td>\n",
              "      <td>0.0</td>\n",
              "      <td>1.0</td>\n",
              "      <td>0.0</td>\n",
              "      <td>1.0</td>\n",
              "      <td>0.0</td>\n",
              "      <td>1.0</td>\n",
              "      <td>0.0</td>\n",
              "      <td>1.0</td>\n",
              "      <td>0.0</td>\n",
              "      <td>1.0</td>\n",
              "      <td>0.0</td>\n",
              "      <td>0.0</td>\n",
              "      <td>0.0</td>\n",
              "      <td>0.0</td>\n",
              "      <td>0.0</td>\n",
              "      <td>0.0</td>\n",
              "      <td>0.0</td>\n",
              "      <td>0.0</td>\n",
              "      <td>0.0</td>\n",
              "      <td>0.0</td>\n",
              "      <td>0.0</td>\n",
              "      <td>0.0</td>\n",
              "      <td>0.0</td>\n",
              "      <td>0.0</td>\n",
              "      <td>0.0</td>\n",
              "      <td>...</td>\n",
              "      <td>0.0</td>\n",
              "      <td>0.0</td>\n",
              "      <td>0.0</td>\n",
              "      <td>0.0</td>\n",
              "      <td>0.0</td>\n",
              "      <td>0.0</td>\n",
              "      <td>0.0</td>\n",
              "      <td>0.0</td>\n",
              "      <td>0.0</td>\n",
              "      <td>0.0</td>\n",
              "      <td>0.0</td>\n",
              "      <td>0.0</td>\n",
              "      <td>0.0</td>\n",
              "      <td>0.0</td>\n",
              "      <td>0.0</td>\n",
              "      <td>0.0</td>\n",
              "      <td>0.0</td>\n",
              "      <td>0.0</td>\n",
              "      <td>0.0</td>\n",
              "      <td>0.0</td>\n",
              "      <td>0.0</td>\n",
              "      <td>0.0</td>\n",
              "      <td>0.0</td>\n",
              "      <td>0.0</td>\n",
              "      <td>0.0</td>\n",
              "      <td>0.0</td>\n",
              "      <td>0.0</td>\n",
              "      <td>0.0</td>\n",
              "      <td>0.0</td>\n",
              "      <td>0.0</td>\n",
              "      <td>0.0</td>\n",
              "      <td>0.0</td>\n",
              "      <td>0.0</td>\n",
              "      <td>0.0</td>\n",
              "      <td>0.0</td>\n",
              "      <td>0.0</td>\n",
              "      <td>0.0</td>\n",
              "      <td>0.0</td>\n",
              "      <td>0.0</td>\n",
              "      <td>0.0</td>\n",
              "    </tr>\n",
              "    <tr>\n",
              "      <th>4</th>\n",
              "      <td>1.0</td>\n",
              "      <td>0.00</td>\n",
              "      <td>0.00</td>\n",
              "      <td>76.57</td>\n",
              "      <td>29.0</td>\n",
              "      <td>72.0</td>\n",
              "      <td>0.0</td>\n",
              "      <td>101.0</td>\n",
              "      <td>1.0</td>\n",
              "      <td>0.0</td>\n",
              "      <td>0.0</td>\n",
              "      <td>1.0</td>\n",
              "      <td>1.0</td>\n",
              "      <td>0.0</td>\n",
              "      <td>1.0</td>\n",
              "      <td>0.0</td>\n",
              "      <td>1.0</td>\n",
              "      <td>0.0</td>\n",
              "      <td>1.0</td>\n",
              "      <td>0.0</td>\n",
              "      <td>1.0</td>\n",
              "      <td>0.0</td>\n",
              "      <td>1.0</td>\n",
              "      <td>0.0</td>\n",
              "      <td>1.0</td>\n",
              "      <td>0.0</td>\n",
              "      <td>0.0</td>\n",
              "      <td>0.0</td>\n",
              "      <td>0.0</td>\n",
              "      <td>0.0</td>\n",
              "      <td>0.0</td>\n",
              "      <td>0.0</td>\n",
              "      <td>0.0</td>\n",
              "      <td>0.0</td>\n",
              "      <td>0.0</td>\n",
              "      <td>0.0</td>\n",
              "      <td>0.0</td>\n",
              "      <td>0.0</td>\n",
              "      <td>0.0</td>\n",
              "      <td>0.0</td>\n",
              "      <td>...</td>\n",
              "      <td>0.0</td>\n",
              "      <td>0.0</td>\n",
              "      <td>0.0</td>\n",
              "      <td>0.0</td>\n",
              "      <td>0.0</td>\n",
              "      <td>0.0</td>\n",
              "      <td>0.0</td>\n",
              "      <td>0.0</td>\n",
              "      <td>0.0</td>\n",
              "      <td>0.0</td>\n",
              "      <td>0.0</td>\n",
              "      <td>0.0</td>\n",
              "      <td>0.0</td>\n",
              "      <td>0.0</td>\n",
              "      <td>0.0</td>\n",
              "      <td>0.0</td>\n",
              "      <td>0.0</td>\n",
              "      <td>0.0</td>\n",
              "      <td>0.0</td>\n",
              "      <td>0.0</td>\n",
              "      <td>0.0</td>\n",
              "      <td>0.0</td>\n",
              "      <td>0.0</td>\n",
              "      <td>0.0</td>\n",
              "      <td>0.0</td>\n",
              "      <td>0.0</td>\n",
              "      <td>0.0</td>\n",
              "      <td>0.0</td>\n",
              "      <td>0.0</td>\n",
              "      <td>0.0</td>\n",
              "      <td>0.0</td>\n",
              "      <td>0.0</td>\n",
              "      <td>0.0</td>\n",
              "      <td>0.0</td>\n",
              "      <td>0.0</td>\n",
              "      <td>0.0</td>\n",
              "      <td>0.0</td>\n",
              "      <td>0.0</td>\n",
              "      <td>0.0</td>\n",
              "      <td>0.0</td>\n",
              "    </tr>\n",
              "  </tbody>\n",
              "</table>\n",
              "<p>5 rows × 1306 columns</p>\n",
              "</div>"
            ],
            "text/plain": [
              "   ers_ent_count_year_3  ...  sc_vehicle_model_name_ZEPHYR\n",
              "0                   0.0  ...                           0.0\n",
              "1                   1.0  ...                           0.0\n",
              "2                   1.0  ...                           0.0\n",
              "3                   2.0  ...                           0.0\n",
              "4                   1.0  ...                           0.0\n",
              "\n",
              "[5 rows x 1306 columns]"
            ]
          },
          "metadata": {
            "tags": []
          },
          "execution_count": 6
        }
      ]
    },
    {
      "cell_type": "code",
      "metadata": {
        "colab_type": "code",
        "id": "2Xz3dVZBn0bH",
        "colab": {}
      },
      "source": [
        "labels = np.array(new_data['total_cost'])"
      ],
      "execution_count": 0,
      "outputs": []
    },
    {
      "cell_type": "code",
      "metadata": {
        "colab_type": "code",
        "id": "f-bx20rDog6z",
        "colab": {}
      },
      "source": [
        "new_data= new_data.drop('total_cost', axis = 1)"
      ],
      "execution_count": 0,
      "outputs": []
    },
    {
      "cell_type": "code",
      "metadata": {
        "colab_type": "code",
        "id": "lEhyflWGoqTU",
        "colab": {}
      },
      "source": [
        "feature_list = list(new_data.columns)"
      ],
      "execution_count": 0,
      "outputs": []
    },
    {
      "cell_type": "code",
      "metadata": {
        "colab_type": "code",
        "id": "DIEbQLg2oyVo",
        "colab": {}
      },
      "source": [
        "features = np.array(new_data)"
      ],
      "execution_count": 0,
      "outputs": []
    },
    {
      "cell_type": "code",
      "metadata": {
        "colab_type": "code",
        "id": "7SzYn6jupwBJ",
        "colab": {}
      },
      "source": [
        "train_features, test_features, train_labels, test_labels = train_test_split(features, labels, test_size = 0.25, random_state = 42)"
      ],
      "execution_count": 0,
      "outputs": []
    },
    {
      "cell_type": "code",
      "metadata": {
        "colab_type": "code",
        "id": "eXB2k9HFZPzn",
        "outputId": "df5fd99b-6479-42fa-ae32-6a8e9aa7dc77",
        "colab": {
          "base_uri": "https://localhost:8080/",
          "height": 85
        }
      },
      "source": [
        "print('Training Features Shape:', train_features.shape)\n",
        "print('Training Labels Shape:', train_labels.shape)\n",
        "print('Testing Features Shape:', test_features.shape)\n",
        "print('Testing Labels Shape:', test_labels.shape)"
      ],
      "execution_count": 13,
      "outputs": [
        {
          "output_type": "stream",
          "text": [
            "Training Features Shape: (8513, 1310)\n",
            "Training Labels Shape: (8513,)\n",
            "Testing Features Shape: (2838, 1310)\n",
            "Testing Labels Shape: (2838,)\n"
          ],
          "name": "stdout"
        }
      ]
    },
    {
      "cell_type": "code",
      "metadata": {
        "colab_type": "code",
        "id": "UWLPQdZdZT-i",
        "colab": {}
      },
      "source": [
        "baseline_preds = test_features[:, feature_list.index('ers_member_cost_year_1')]"
      ],
      "execution_count": 0,
      "outputs": []
    },
    {
      "cell_type": "code",
      "metadata": {
        "colab_type": "code",
        "id": "JttRE3L7ZXje",
        "colab": {}
      },
      "source": [
        "baseline_errors = abs(baseline_preds - test_labels)"
      ],
      "execution_count": 0,
      "outputs": []
    },
    {
      "cell_type": "code",
      "metadata": {
        "colab_type": "code",
        "id": "NAAUmz78Zale",
        "outputId": "daf45da2-ffa0-4be1-b0d9-7681e5fb06a2",
        "colab": {
          "base_uri": "https://localhost:8080/",
          "height": 34
        }
      },
      "source": [
        "print('Average baseline error: ', round(np.mean(baseline_errors), 2))"
      ],
      "execution_count": 17,
      "outputs": [
        {
          "output_type": "stream",
          "text": [
            "Average baseline error:  51.07\n"
          ],
          "name": "stdout"
        }
      ]
    },
    {
      "cell_type": "code",
      "metadata": {
        "colab_type": "code",
        "id": "4jaBnWHGZd2R",
        "colab": {}
      },
      "source": [
        "rf = RandomForestRegressor(n_estimators = 10, random_state = 42)"
      ],
      "execution_count": 0,
      "outputs": []
    },
    {
      "cell_type": "code",
      "metadata": {
        "colab_type": "code",
        "id": "4MtpZy7BZhGs",
        "colab": {}
      },
      "source": [
        "rf.fit(train_features, train_labels);"
      ],
      "execution_count": 0,
      "outputs": []
    },
    {
      "cell_type": "code",
      "metadata": {
        "id": "ftpn3OYfy0ht",
        "colab_type": "code",
        "colab": {}
      },
      "source": [
        "predictions = rf.predict(test_features)"
      ],
      "execution_count": 0,
      "outputs": []
    },
    {
      "cell_type": "code",
      "metadata": {
        "id": "oZiRIy32y0hw",
        "colab_type": "code",
        "colab": {}
      },
      "source": [
        "errors = abs(predictions - test_labels)"
      ],
      "execution_count": 0,
      "outputs": []
    },
    {
      "cell_type": "code",
      "metadata": {
        "id": "k-mEeWmJy0hz",
        "colab_type": "code",
        "colab": {
          "base_uri": "https://localhost:8080/",
          "height": 34
        },
        "outputId": "fd1a8851-74ed-45a2-e4ab-cee8c1334faf"
      },
      "source": [
        "print('Mean Absolute Error:', round(np.mean(errors), 2))"
      ],
      "execution_count": 52,
      "outputs": [
        {
          "output_type": "stream",
          "text": [
            "Mean Absolute Error: 1.98\n"
          ],
          "name": "stdout"
        }
      ]
    },
    {
      "cell_type": "code",
      "metadata": {
        "id": "rMH7ScgDy0h6",
        "colab_type": "code",
        "colab": {
          "base_uri": "https://localhost:8080/",
          "height": 51
        },
        "outputId": "2eb0e289-1494-45bc-e592-14e972d88576"
      },
      "source": [
        "mape = 100 * (errors/test_labels)"
      ],
      "execution_count": 53,
      "outputs": [
        {
          "output_type": "stream",
          "text": [
            "/usr/local/lib/python3.6/dist-packages/ipykernel_launcher.py:1: RuntimeWarning: invalid value encountered in true_divide\n",
            "  \"\"\"Entry point for launching an IPython kernel.\n"
          ],
          "name": "stderr"
        }
      ]
    },
    {
      "cell_type": "code",
      "metadata": {
        "id": "H5vbk-qjFo5y",
        "colab_type": "code",
        "colab": {
          "base_uri": "https://localhost:8080/",
          "height": 34
        },
        "outputId": "fc1d8f98-e8ec-4c2b-b38c-c2bc9d241a4f"
      },
      "source": [
        "print(np.nan_to_num(mape))"
      ],
      "execution_count": 54,
      "outputs": [
        {
          "output_type": "stream",
          "text": [
            "[0.         1.06038292 0.         ... 0.11419753 0.         0.        ]\n"
          ],
          "name": "stdout"
        }
      ]
    },
    {
      "cell_type": "code",
      "metadata": {
        "id": "b1ujKzUFy0iA",
        "colab_type": "code",
        "colab": {
          "base_uri": "https://localhost:8080/",
          "height": 34
        },
        "outputId": "ce2b8134-ed1e-4c4b-e7e6-3a5b798e3d98"
      },
      "source": [
        "accuracy = 100 - np.mean(np.nan_to_num(mape))\n",
        "print('Accuracy:', round(accuracy, 2), '%.')"
      ],
      "execution_count": 55,
      "outputs": [
        {
          "output_type": "stream",
          "text": [
            "Accuracy: 98.95 %.\n"
          ],
          "name": "stdout"
        }
      ]
    }
  ]
}