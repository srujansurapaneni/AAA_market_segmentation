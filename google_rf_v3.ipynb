{
  "nbformat": 4,
  "nbformat_minor": 0,
  "metadata": {
    "colab": {
      "name": "google_rf.ipynb",
      "provenance": [],
      "collapsed_sections": [],
      "machine_shape": "hm"
    },
    "kernelspec": {
      "display_name": "conda_python3",
      "language": "python",
      "name": "conda_python3"
    },
    "language_info": {
      "codemirror_mode": {
        "name": "ipython",
        "version": 3
      },
      "file_extension": ".py",
      "mimetype": "text/x-python",
      "name": "python",
      "nbconvert_exporter": "python",
      "pygments_lexer": "ipython3",
      "version": "3.6.5"
    }
  },
  "cells": [
    {
      "cell_type": "code",
      "metadata": {
        "colab_type": "code",
        "id": "ZupHYQk0f8je",
        "colab": {}
      },
      "source": [
        "from mpl_toolkits.mplot3d import Axes3D\n",
        "from sklearn.preprocessing import StandardScaler\n",
        "import matplotlib.pyplot as plt # plotting\n",
        "import numpy as np # linear algebra\n",
        "import os # accessing directory structure\n",
        "import pandas as pd # data processing, CSV file I/O (e.g. pd.read_csv)\n",
        "from sklearn.model_selection import train_test_split\n",
        "from sklearn.ensemble import RandomForestRegressor\n",
        "from sklearn.impute import SimpleImputer\n",
        "from sklearn.model_selection import cross_val_score\n",
        "from sklearn.model_selection import GridSearchCV\n",
        "from sklearn.ensemble import RandomForestClassifier\n",
        "from sklearn.metrics import accuracy_score\n",
        "from sklearn.svm import SVC\n",
        "from subprocess import check_output\n",
        "from sklearn.tree import export_graphviz \n",
        "import pydot\n",
        "import matplotlib.pyplot as plt\n"
      ],
      "execution_count": 0,
      "outputs": []
    },
    {
      "cell_type": "code",
      "metadata": {
        "colab_type": "code",
        "id": "BrzVbYzGgFUi",
        "outputId": "882dfc5b-4c1f-4923-f114-b93dca1d9845",
        "scrolled": true,
        "colab": {
          "base_uri": "https://localhost:8080/",
          "height": 221
        }
      },
      "source": [
        "data = pd.read_csv('https://aaa-pgdmlai.s3.amazonaws.com/household_level.csv')\n",
        "data.columns"
      ],
      "execution_count": 127,
      "outputs": [
        {
          "output_type": "execute_result",
          "data": {
            "text/plain": [
              "Index(['household_key', 'zip5', 'fsv_cmsi_flag', 'fsv_credit_card_flag',\n",
              "       'fsv_deposit_program_flag', 'fsv_home_equity_flag', 'fsv_id_theft_flag',\n",
              "       'fsv_mortgage_flag', 'ins_client_flag', 'trv_globalware_flag',\n",
              "       'length_of_residence', 'income', 'children', 'ers_ent_count_year_1',\n",
              "       'ers_ent_count_year_2', 'ers_ent_count_year_3',\n",
              "       'ers_member_cost_year_1', 'ers_member_cost_year_2',\n",
              "       'ers_member_cost_year_3', 'mosaic_household', 'mosaic_global_household',\n",
              "       'kcl_b_ind_mosaicsgrouping', 'new_mover_flag', 'breakdown_city',\n",
              "       'basic_cost', 'clearing_code_last_description', 'motorcycle_indicator',\n",
              "       'plus_cost', 'premier_cost', 'prob1_code_description',\n",
              "       'sc_vehicle_manufacturer_name', 'sc_vehicle_model_name', 'total_cost'],\n",
              "      dtype='object')"
            ]
          },
          "metadata": {
            "tags": []
          },
          "execution_count": 127
        }
      ]
    },
    {
      "cell_type": "code",
      "metadata": {
        "colab_type": "code",
        "id": "fugsuyz0gZsm",
        "outputId": "305c3120-8eea-4b7e-8b9b-63a495998937",
        "colab": {
          "base_uri": "https://localhost:8080/",
          "height": 34
        }
      },
      "source": [
        "data.shape"
      ],
      "execution_count": 128,
      "outputs": [
        {
          "output_type": "execute_result",
          "data": {
            "text/plain": [
              "(11351, 33)"
            ]
          },
          "metadata": {
            "tags": []
          },
          "execution_count": 128
        }
      ]
    },
    {
      "cell_type": "code",
      "metadata": {
        "colab_type": "code",
        "id": "2hGC-gObkfYv",
        "outputId": "4b35e5c0-f1e5-4ff6-ff1b-378ee34ebfda",
        "colab": {
          "base_uri": "https://localhost:8080/",
          "height": 317
        }
      },
      "source": [
        "data.describe()"
      ],
      "execution_count": 129,
      "outputs": [
        {
          "output_type": "execute_result",
          "data": {
            "text/html": [
              "<div>\n",
              "<style scoped>\n",
              "    .dataframe tbody tr th:only-of-type {\n",
              "        vertical-align: middle;\n",
              "    }\n",
              "\n",
              "    .dataframe tbody tr th {\n",
              "        vertical-align: top;\n",
              "    }\n",
              "\n",
              "    .dataframe thead th {\n",
              "        text-align: right;\n",
              "    }\n",
              "</style>\n",
              "<table border=\"1\" class=\"dataframe\">\n",
              "  <thead>\n",
              "    <tr style=\"text-align: right;\">\n",
              "      <th></th>\n",
              "      <th>household_key</th>\n",
              "      <th>zip5</th>\n",
              "      <th>length_of_residence</th>\n",
              "      <th>ers_ent_count_year_1</th>\n",
              "      <th>ers_ent_count_year_2</th>\n",
              "      <th>ers_ent_count_year_3</th>\n",
              "      <th>ers_member_cost_year_1</th>\n",
              "      <th>ers_member_cost_year_2</th>\n",
              "      <th>ers_member_cost_year_3</th>\n",
              "      <th>basic_cost</th>\n",
              "      <th>plus_cost</th>\n",
              "      <th>premier_cost</th>\n",
              "      <th>total_cost</th>\n",
              "    </tr>\n",
              "  </thead>\n",
              "  <tbody>\n",
              "    <tr>\n",
              "      <th>count</th>\n",
              "      <td>1.135100e+04</td>\n",
              "      <td>11351.000000</td>\n",
              "      <td>11351.000000</td>\n",
              "      <td>11351.000000</td>\n",
              "      <td>11351.000000</td>\n",
              "      <td>11351.000000</td>\n",
              "      <td>11351.000000</td>\n",
              "      <td>11351.000000</td>\n",
              "      <td>11351.000000</td>\n",
              "      <td>11351.000000</td>\n",
              "      <td>11351.000000</td>\n",
              "      <td>11351.000000</td>\n",
              "      <td>11351.000000</td>\n",
              "    </tr>\n",
              "    <tr>\n",
              "      <th>mean</th>\n",
              "      <td>1.514281e+07</td>\n",
              "      <td>2948.529821</td>\n",
              "      <td>7.265527</td>\n",
              "      <td>0.369042</td>\n",
              "      <td>0.659325</td>\n",
              "      <td>0.676064</td>\n",
              "      <td>20.100107</td>\n",
              "      <td>36.342013</td>\n",
              "      <td>34.885842</td>\n",
              "      <td>52.367813</td>\n",
              "      <td>4.239274</td>\n",
              "      <td>0.008457</td>\n",
              "      <td>58.072806</td>\n",
              "    </tr>\n",
              "    <tr>\n",
              "      <th>std</th>\n",
              "      <td>1.985961e+07</td>\n",
              "      <td>493.109440</td>\n",
              "      <td>7.142623</td>\n",
              "      <td>0.844004</td>\n",
              "      <td>1.102884</td>\n",
              "      <td>1.134943</td>\n",
              "      <td>50.514678</td>\n",
              "      <td>70.971258</td>\n",
              "      <td>63.855087</td>\n",
              "      <td>81.475561</td>\n",
              "      <td>23.167685</td>\n",
              "      <td>0.767006</td>\n",
              "      <td>138.109209</td>\n",
              "    </tr>\n",
              "    <tr>\n",
              "      <th>min</th>\n",
              "      <td>8.750000e+02</td>\n",
              "      <td>2801.000000</td>\n",
              "      <td>0.000000</td>\n",
              "      <td>0.000000</td>\n",
              "      <td>0.000000</td>\n",
              "      <td>0.000000</td>\n",
              "      <td>0.000000</td>\n",
              "      <td>0.000000</td>\n",
              "      <td>0.000000</td>\n",
              "      <td>0.000000</td>\n",
              "      <td>0.000000</td>\n",
              "      <td>0.000000</td>\n",
              "      <td>0.000000</td>\n",
              "    </tr>\n",
              "    <tr>\n",
              "      <th>25%</th>\n",
              "      <td>4.312093e+06</td>\n",
              "      <td>2857.000000</td>\n",
              "      <td>0.000000</td>\n",
              "      <td>0.000000</td>\n",
              "      <td>0.000000</td>\n",
              "      <td>0.000000</td>\n",
              "      <td>0.000000</td>\n",
              "      <td>0.000000</td>\n",
              "      <td>0.000000</td>\n",
              "      <td>0.000000</td>\n",
              "      <td>0.000000</td>\n",
              "      <td>0.000000</td>\n",
              "      <td>0.000000</td>\n",
              "    </tr>\n",
              "    <tr>\n",
              "      <th>50%</th>\n",
              "      <td>9.772276e+06</td>\n",
              "      <td>2888.000000</td>\n",
              "      <td>7.000000</td>\n",
              "      <td>0.000000</td>\n",
              "      <td>0.000000</td>\n",
              "      <td>0.000000</td>\n",
              "      <td>0.000000</td>\n",
              "      <td>0.000000</td>\n",
              "      <td>0.000000</td>\n",
              "      <td>30.000000</td>\n",
              "      <td>0.000000</td>\n",
              "      <td>0.000000</td>\n",
              "      <td>32.500000</td>\n",
              "    </tr>\n",
              "    <tr>\n",
              "      <th>75%</th>\n",
              "      <td>1.621354e+07</td>\n",
              "      <td>2910.000000</td>\n",
              "      <td>15.000000</td>\n",
              "      <td>0.000000</td>\n",
              "      <td>1.000000</td>\n",
              "      <td>1.000000</td>\n",
              "      <td>0.000000</td>\n",
              "      <td>58.850000</td>\n",
              "      <td>53.000000</td>\n",
              "      <td>58.850000</td>\n",
              "      <td>0.000000</td>\n",
              "      <td>0.000000</td>\n",
              "      <td>60.000000</td>\n",
              "    </tr>\n",
              "    <tr>\n",
              "      <th>max</th>\n",
              "      <td>1.000791e+08</td>\n",
              "      <td>6902.000000</td>\n",
              "      <td>49.000000</td>\n",
              "      <td>7.000000</td>\n",
              "      <td>10.000000</td>\n",
              "      <td>9.000000</td>\n",
              "      <td>560.740000</td>\n",
              "      <td>904.390000</td>\n",
              "      <td>604.000000</td>\n",
              "      <td>1545.850000</td>\n",
              "      <td>576.000000</td>\n",
              "      <td>81.000000</td>\n",
              "      <td>11420.850000</td>\n",
              "    </tr>\n",
              "  </tbody>\n",
              "</table>\n",
              "</div>"
            ],
            "text/plain": [
              "       household_key          zip5  ...  premier_cost    total_cost\n",
              "count   1.135100e+04  11351.000000  ...  11351.000000  11351.000000\n",
              "mean    1.514281e+07   2948.529821  ...      0.008457     58.072806\n",
              "std     1.985961e+07    493.109440  ...      0.767006    138.109209\n",
              "min     8.750000e+02   2801.000000  ...      0.000000      0.000000\n",
              "25%     4.312093e+06   2857.000000  ...      0.000000      0.000000\n",
              "50%     9.772276e+06   2888.000000  ...      0.000000     32.500000\n",
              "75%     1.621354e+07   2910.000000  ...      0.000000     60.000000\n",
              "max     1.000791e+08   6902.000000  ...     81.000000  11420.850000\n",
              "\n",
              "[8 rows x 13 columns]"
            ]
          },
          "metadata": {
            "tags": []
          },
          "execution_count": 129
        }
      ]
    },
    {
      "cell_type": "code",
      "metadata": {
        "colab_type": "code",
        "id": "8gblywbel0Ty",
        "colab": {}
      },
      "source": [
        "new_data = data.copy()\n",
        "cols_with_missing = (col for col in new_data.columns \n",
        "                                 if new_data[col].isnull().any())\n",
        "for col in cols_with_missing:\n",
        "    new_data[col + '_was_missing'] = new_data[col].isnull()\n",
        "data_encoded = pd.get_dummies(new_data)\n",
        "my_imputer = SimpleImputer()\n",
        "new_data = pd.DataFrame(my_imputer.fit_transform(data_encoded))\n",
        "new_data.columns = data_encoded.columns"
      ],
      "execution_count": 0,
      "outputs": []
    },
    {
      "cell_type": "code",
      "metadata": {
        "colab_type": "code",
        "id": "bYh1Dg9jmAr1",
        "outputId": "5e722729-549b-4af5-de74-99f563ac6dca",
        "colab": {
          "base_uri": "https://localhost:8080/",
          "height": 270
        }
      },
      "source": [
        "new_data.iloc[:,5:].head(5)"
      ],
      "execution_count": 131,
      "outputs": [
        {
          "output_type": "execute_result",
          "data": {
            "text/html": [
              "<div>\n",
              "<style scoped>\n",
              "    .dataframe tbody tr th:only-of-type {\n",
              "        vertical-align: middle;\n",
              "    }\n",
              "\n",
              "    .dataframe tbody tr th {\n",
              "        vertical-align: top;\n",
              "    }\n",
              "\n",
              "    .dataframe thead th {\n",
              "        text-align: right;\n",
              "    }\n",
              "</style>\n",
              "<table border=\"1\" class=\"dataframe\">\n",
              "  <thead>\n",
              "    <tr style=\"text-align: right;\">\n",
              "      <th></th>\n",
              "      <th>ers_ent_count_year_3</th>\n",
              "      <th>ers_member_cost_year_1</th>\n",
              "      <th>ers_member_cost_year_2</th>\n",
              "      <th>ers_member_cost_year_3</th>\n",
              "      <th>basic_cost</th>\n",
              "      <th>plus_cost</th>\n",
              "      <th>premier_cost</th>\n",
              "      <th>total_cost</th>\n",
              "      <th>fsv_cmsi_flag_N</th>\n",
              "      <th>fsv_cmsi_flag_Y</th>\n",
              "      <th>fsv_credit_card_flag_N</th>\n",
              "      <th>fsv_credit_card_flag_Y</th>\n",
              "      <th>fsv_deposit_program_flag_N</th>\n",
              "      <th>fsv_deposit_program_flag_Y</th>\n",
              "      <th>fsv_home_equity_flag_N</th>\n",
              "      <th>fsv_home_equity_flag_Y</th>\n",
              "      <th>fsv_id_theft_flag_N</th>\n",
              "      <th>fsv_id_theft_flag_Y</th>\n",
              "      <th>fsv_mortgage_flag_N</th>\n",
              "      <th>fsv_mortgage_flag_Y</th>\n",
              "      <th>ins_client_flag_N</th>\n",
              "      <th>ins_client_flag_Y</th>\n",
              "      <th>trv_globalware_flag_N</th>\n",
              "      <th>trv_globalware_flag_Y</th>\n",
              "      <th>income_0</th>\n",
              "      <th>income_10-19,999</th>\n",
              "      <th>income_100-149,999</th>\n",
              "      <th>income_150 - 174,999</th>\n",
              "      <th>income_175 - 199,999</th>\n",
              "      <th>income_20-29,999</th>\n",
              "      <th>income_200 - 249,999</th>\n",
              "      <th>income_250K+</th>\n",
              "      <th>income_30-39,999</th>\n",
              "      <th>income_40-49,999</th>\n",
              "      <th>income_50-59,999</th>\n",
              "      <th>income_60-69,999</th>\n",
              "      <th>income_70-79,999</th>\n",
              "      <th>income_80-89,999</th>\n",
              "      <th>income_90-99,999</th>\n",
              "      <th>income_Under 10K</th>\n",
              "      <th>...</th>\n",
              "      <th>sc_vehicle_model_name_VOYAGER</th>\n",
              "      <th>sc_vehicle_model_name_VUE</th>\n",
              "      <th>sc_vehicle_model_name_W3500 TILTMASTER</th>\n",
              "      <th>sc_vehicle_model_name_WAGON</th>\n",
              "      <th>sc_vehicle_model_name_WINDSTAR</th>\n",
              "      <th>sc_vehicle_model_name_WRANGLER</th>\n",
              "      <th>sc_vehicle_model_name_WRX</th>\n",
              "      <th>sc_vehicle_model_name_X-90</th>\n",
              "      <th>sc_vehicle_model_name_X-TYPE</th>\n",
              "      <th>sc_vehicle_model_name_X3</th>\n",
              "      <th>sc_vehicle_model_name_X5</th>\n",
              "      <th>sc_vehicle_model_name_XA</th>\n",
              "      <th>sc_vehicle_model_name_XB</th>\n",
              "      <th>sc_vehicle_model_name_XC60</th>\n",
              "      <th>sc_vehicle_model_name_XC70</th>\n",
              "      <th>sc_vehicle_model_name_XC90</th>\n",
              "      <th>sc_vehicle_model_name_XD</th>\n",
              "      <th>sc_vehicle_model_name_XF</th>\n",
              "      <th>sc_vehicle_model_name_XG300</th>\n",
              "      <th>sc_vehicle_model_name_XG350</th>\n",
              "      <th>sc_vehicle_model_name_XJ</th>\n",
              "      <th>sc_vehicle_model_name_XJ12</th>\n",
              "      <th>sc_vehicle_model_name_XJ8</th>\n",
              "      <th>sc_vehicle_model_name_XJS</th>\n",
              "      <th>sc_vehicle_model_name_XK</th>\n",
              "      <th>sc_vehicle_model_name_XK8</th>\n",
              "      <th>sc_vehicle_model_name_XL-7</th>\n",
              "      <th>sc_vehicle_model_name_XTERRA</th>\n",
              "      <th>sc_vehicle_model_name_XTS</th>\n",
              "      <th>sc_vehicle_model_name_XV</th>\n",
              "      <th>sc_vehicle_model_name_XV CROSSTREK</th>\n",
              "      <th>sc_vehicle_model_name_YARIS</th>\n",
              "      <th>sc_vehicle_model_name_YUKON</th>\n",
              "      <th>sc_vehicle_model_name_YUKON XL</th>\n",
              "      <th>sc_vehicle_model_name_YUKON XL 1500</th>\n",
              "      <th>sc_vehicle_model_name_YUKON XL 2500</th>\n",
              "      <th>sc_vehicle_model_name_Yukon XL 1500</th>\n",
              "      <th>sc_vehicle_model_name_Z3</th>\n",
              "      <th>sc_vehicle_model_name_Z4</th>\n",
              "      <th>sc_vehicle_model_name_ZEPHYR</th>\n",
              "    </tr>\n",
              "  </thead>\n",
              "  <tbody>\n",
              "    <tr>\n",
              "      <th>0</th>\n",
              "      <td>0.0</td>\n",
              "      <td>0.00</td>\n",
              "      <td>0.00</td>\n",
              "      <td>0.00</td>\n",
              "      <td>0.0</td>\n",
              "      <td>0.0</td>\n",
              "      <td>0.0</td>\n",
              "      <td>0.0</td>\n",
              "      <td>1.0</td>\n",
              "      <td>0.0</td>\n",
              "      <td>1.0</td>\n",
              "      <td>0.0</td>\n",
              "      <td>1.0</td>\n",
              "      <td>0.0</td>\n",
              "      <td>1.0</td>\n",
              "      <td>0.0</td>\n",
              "      <td>1.0</td>\n",
              "      <td>0.0</td>\n",
              "      <td>1.0</td>\n",
              "      <td>0.0</td>\n",
              "      <td>1.0</td>\n",
              "      <td>0.0</td>\n",
              "      <td>1.0</td>\n",
              "      <td>0.0</td>\n",
              "      <td>1.0</td>\n",
              "      <td>0.0</td>\n",
              "      <td>0.0</td>\n",
              "      <td>0.0</td>\n",
              "      <td>0.0</td>\n",
              "      <td>0.0</td>\n",
              "      <td>0.0</td>\n",
              "      <td>0.0</td>\n",
              "      <td>0.0</td>\n",
              "      <td>0.0</td>\n",
              "      <td>0.0</td>\n",
              "      <td>0.0</td>\n",
              "      <td>0.0</td>\n",
              "      <td>0.0</td>\n",
              "      <td>0.0</td>\n",
              "      <td>0.0</td>\n",
              "      <td>...</td>\n",
              "      <td>0.0</td>\n",
              "      <td>0.0</td>\n",
              "      <td>0.0</td>\n",
              "      <td>0.0</td>\n",
              "      <td>0.0</td>\n",
              "      <td>0.0</td>\n",
              "      <td>0.0</td>\n",
              "      <td>0.0</td>\n",
              "      <td>0.0</td>\n",
              "      <td>0.0</td>\n",
              "      <td>0.0</td>\n",
              "      <td>0.0</td>\n",
              "      <td>0.0</td>\n",
              "      <td>0.0</td>\n",
              "      <td>0.0</td>\n",
              "      <td>0.0</td>\n",
              "      <td>0.0</td>\n",
              "      <td>0.0</td>\n",
              "      <td>0.0</td>\n",
              "      <td>0.0</td>\n",
              "      <td>0.0</td>\n",
              "      <td>0.0</td>\n",
              "      <td>0.0</td>\n",
              "      <td>0.0</td>\n",
              "      <td>0.0</td>\n",
              "      <td>0.0</td>\n",
              "      <td>0.0</td>\n",
              "      <td>0.0</td>\n",
              "      <td>0.0</td>\n",
              "      <td>0.0</td>\n",
              "      <td>0.0</td>\n",
              "      <td>0.0</td>\n",
              "      <td>0.0</td>\n",
              "      <td>0.0</td>\n",
              "      <td>0.0</td>\n",
              "      <td>0.0</td>\n",
              "      <td>0.0</td>\n",
              "      <td>0.0</td>\n",
              "      <td>0.0</td>\n",
              "      <td>0.0</td>\n",
              "    </tr>\n",
              "    <tr>\n",
              "      <th>1</th>\n",
              "      <td>1.0</td>\n",
              "      <td>58.85</td>\n",
              "      <td>0.00</td>\n",
              "      <td>106.50</td>\n",
              "      <td>31.0</td>\n",
              "      <td>75.0</td>\n",
              "      <td>0.0</td>\n",
              "      <td>106.0</td>\n",
              "      <td>1.0</td>\n",
              "      <td>0.0</td>\n",
              "      <td>1.0</td>\n",
              "      <td>0.0</td>\n",
              "      <td>1.0</td>\n",
              "      <td>0.0</td>\n",
              "      <td>1.0</td>\n",
              "      <td>0.0</td>\n",
              "      <td>1.0</td>\n",
              "      <td>0.0</td>\n",
              "      <td>1.0</td>\n",
              "      <td>0.0</td>\n",
              "      <td>1.0</td>\n",
              "      <td>0.0</td>\n",
              "      <td>1.0</td>\n",
              "      <td>0.0</td>\n",
              "      <td>1.0</td>\n",
              "      <td>0.0</td>\n",
              "      <td>0.0</td>\n",
              "      <td>0.0</td>\n",
              "      <td>0.0</td>\n",
              "      <td>0.0</td>\n",
              "      <td>0.0</td>\n",
              "      <td>0.0</td>\n",
              "      <td>0.0</td>\n",
              "      <td>0.0</td>\n",
              "      <td>0.0</td>\n",
              "      <td>0.0</td>\n",
              "      <td>0.0</td>\n",
              "      <td>0.0</td>\n",
              "      <td>0.0</td>\n",
              "      <td>0.0</td>\n",
              "      <td>...</td>\n",
              "      <td>0.0</td>\n",
              "      <td>0.0</td>\n",
              "      <td>0.0</td>\n",
              "      <td>0.0</td>\n",
              "      <td>0.0</td>\n",
              "      <td>0.0</td>\n",
              "      <td>0.0</td>\n",
              "      <td>0.0</td>\n",
              "      <td>0.0</td>\n",
              "      <td>0.0</td>\n",
              "      <td>0.0</td>\n",
              "      <td>0.0</td>\n",
              "      <td>0.0</td>\n",
              "      <td>0.0</td>\n",
              "      <td>0.0</td>\n",
              "      <td>0.0</td>\n",
              "      <td>0.0</td>\n",
              "      <td>0.0</td>\n",
              "      <td>0.0</td>\n",
              "      <td>0.0</td>\n",
              "      <td>0.0</td>\n",
              "      <td>0.0</td>\n",
              "      <td>0.0</td>\n",
              "      <td>0.0</td>\n",
              "      <td>0.0</td>\n",
              "      <td>0.0</td>\n",
              "      <td>0.0</td>\n",
              "      <td>0.0</td>\n",
              "      <td>0.0</td>\n",
              "      <td>0.0</td>\n",
              "      <td>0.0</td>\n",
              "      <td>0.0</td>\n",
              "      <td>0.0</td>\n",
              "      <td>0.0</td>\n",
              "      <td>0.0</td>\n",
              "      <td>0.0</td>\n",
              "      <td>0.0</td>\n",
              "      <td>0.0</td>\n",
              "      <td>0.0</td>\n",
              "      <td>0.0</td>\n",
              "    </tr>\n",
              "    <tr>\n",
              "      <th>2</th>\n",
              "      <td>1.0</td>\n",
              "      <td>58.85</td>\n",
              "      <td>0.00</td>\n",
              "      <td>106.50</td>\n",
              "      <td>116.0</td>\n",
              "      <td>156.0</td>\n",
              "      <td>0.0</td>\n",
              "      <td>272.0</td>\n",
              "      <td>1.0</td>\n",
              "      <td>0.0</td>\n",
              "      <td>1.0</td>\n",
              "      <td>0.0</td>\n",
              "      <td>1.0</td>\n",
              "      <td>0.0</td>\n",
              "      <td>1.0</td>\n",
              "      <td>0.0</td>\n",
              "      <td>1.0</td>\n",
              "      <td>0.0</td>\n",
              "      <td>1.0</td>\n",
              "      <td>0.0</td>\n",
              "      <td>1.0</td>\n",
              "      <td>0.0</td>\n",
              "      <td>1.0</td>\n",
              "      <td>0.0</td>\n",
              "      <td>1.0</td>\n",
              "      <td>0.0</td>\n",
              "      <td>0.0</td>\n",
              "      <td>0.0</td>\n",
              "      <td>0.0</td>\n",
              "      <td>0.0</td>\n",
              "      <td>0.0</td>\n",
              "      <td>0.0</td>\n",
              "      <td>0.0</td>\n",
              "      <td>0.0</td>\n",
              "      <td>0.0</td>\n",
              "      <td>0.0</td>\n",
              "      <td>0.0</td>\n",
              "      <td>0.0</td>\n",
              "      <td>0.0</td>\n",
              "      <td>0.0</td>\n",
              "      <td>...</td>\n",
              "      <td>0.0</td>\n",
              "      <td>0.0</td>\n",
              "      <td>0.0</td>\n",
              "      <td>0.0</td>\n",
              "      <td>0.0</td>\n",
              "      <td>0.0</td>\n",
              "      <td>0.0</td>\n",
              "      <td>0.0</td>\n",
              "      <td>0.0</td>\n",
              "      <td>0.0</td>\n",
              "      <td>0.0</td>\n",
              "      <td>0.0</td>\n",
              "      <td>0.0</td>\n",
              "      <td>0.0</td>\n",
              "      <td>0.0</td>\n",
              "      <td>0.0</td>\n",
              "      <td>0.0</td>\n",
              "      <td>0.0</td>\n",
              "      <td>0.0</td>\n",
              "      <td>0.0</td>\n",
              "      <td>0.0</td>\n",
              "      <td>0.0</td>\n",
              "      <td>0.0</td>\n",
              "      <td>0.0</td>\n",
              "      <td>0.0</td>\n",
              "      <td>0.0</td>\n",
              "      <td>0.0</td>\n",
              "      <td>0.0</td>\n",
              "      <td>0.0</td>\n",
              "      <td>0.0</td>\n",
              "      <td>0.0</td>\n",
              "      <td>0.0</td>\n",
              "      <td>0.0</td>\n",
              "      <td>0.0</td>\n",
              "      <td>0.0</td>\n",
              "      <td>0.0</td>\n",
              "      <td>0.0</td>\n",
              "      <td>0.0</td>\n",
              "      <td>0.0</td>\n",
              "      <td>0.0</td>\n",
              "    </tr>\n",
              "    <tr>\n",
              "      <th>3</th>\n",
              "      <td>2.0</td>\n",
              "      <td>58.85</td>\n",
              "      <td>58.85</td>\n",
              "      <td>106.50</td>\n",
              "      <td>462.2</td>\n",
              "      <td>51.0</td>\n",
              "      <td>0.0</td>\n",
              "      <td>513.2</td>\n",
              "      <td>1.0</td>\n",
              "      <td>0.0</td>\n",
              "      <td>1.0</td>\n",
              "      <td>0.0</td>\n",
              "      <td>1.0</td>\n",
              "      <td>0.0</td>\n",
              "      <td>1.0</td>\n",
              "      <td>0.0</td>\n",
              "      <td>1.0</td>\n",
              "      <td>0.0</td>\n",
              "      <td>1.0</td>\n",
              "      <td>0.0</td>\n",
              "      <td>1.0</td>\n",
              "      <td>0.0</td>\n",
              "      <td>1.0</td>\n",
              "      <td>0.0</td>\n",
              "      <td>1.0</td>\n",
              "      <td>0.0</td>\n",
              "      <td>0.0</td>\n",
              "      <td>0.0</td>\n",
              "      <td>0.0</td>\n",
              "      <td>0.0</td>\n",
              "      <td>0.0</td>\n",
              "      <td>0.0</td>\n",
              "      <td>0.0</td>\n",
              "      <td>0.0</td>\n",
              "      <td>0.0</td>\n",
              "      <td>0.0</td>\n",
              "      <td>0.0</td>\n",
              "      <td>0.0</td>\n",
              "      <td>0.0</td>\n",
              "      <td>0.0</td>\n",
              "      <td>...</td>\n",
              "      <td>0.0</td>\n",
              "      <td>0.0</td>\n",
              "      <td>0.0</td>\n",
              "      <td>0.0</td>\n",
              "      <td>0.0</td>\n",
              "      <td>0.0</td>\n",
              "      <td>0.0</td>\n",
              "      <td>0.0</td>\n",
              "      <td>0.0</td>\n",
              "      <td>0.0</td>\n",
              "      <td>0.0</td>\n",
              "      <td>0.0</td>\n",
              "      <td>0.0</td>\n",
              "      <td>0.0</td>\n",
              "      <td>0.0</td>\n",
              "      <td>0.0</td>\n",
              "      <td>0.0</td>\n",
              "      <td>0.0</td>\n",
              "      <td>0.0</td>\n",
              "      <td>0.0</td>\n",
              "      <td>0.0</td>\n",
              "      <td>0.0</td>\n",
              "      <td>0.0</td>\n",
              "      <td>0.0</td>\n",
              "      <td>0.0</td>\n",
              "      <td>0.0</td>\n",
              "      <td>0.0</td>\n",
              "      <td>0.0</td>\n",
              "      <td>0.0</td>\n",
              "      <td>0.0</td>\n",
              "      <td>0.0</td>\n",
              "      <td>0.0</td>\n",
              "      <td>0.0</td>\n",
              "      <td>0.0</td>\n",
              "      <td>0.0</td>\n",
              "      <td>0.0</td>\n",
              "      <td>0.0</td>\n",
              "      <td>0.0</td>\n",
              "      <td>0.0</td>\n",
              "      <td>0.0</td>\n",
              "    </tr>\n",
              "    <tr>\n",
              "      <th>4</th>\n",
              "      <td>1.0</td>\n",
              "      <td>0.00</td>\n",
              "      <td>0.00</td>\n",
              "      <td>76.57</td>\n",
              "      <td>29.0</td>\n",
              "      <td>72.0</td>\n",
              "      <td>0.0</td>\n",
              "      <td>101.0</td>\n",
              "      <td>1.0</td>\n",
              "      <td>0.0</td>\n",
              "      <td>0.0</td>\n",
              "      <td>1.0</td>\n",
              "      <td>1.0</td>\n",
              "      <td>0.0</td>\n",
              "      <td>1.0</td>\n",
              "      <td>0.0</td>\n",
              "      <td>1.0</td>\n",
              "      <td>0.0</td>\n",
              "      <td>1.0</td>\n",
              "      <td>0.0</td>\n",
              "      <td>1.0</td>\n",
              "      <td>0.0</td>\n",
              "      <td>1.0</td>\n",
              "      <td>0.0</td>\n",
              "      <td>1.0</td>\n",
              "      <td>0.0</td>\n",
              "      <td>0.0</td>\n",
              "      <td>0.0</td>\n",
              "      <td>0.0</td>\n",
              "      <td>0.0</td>\n",
              "      <td>0.0</td>\n",
              "      <td>0.0</td>\n",
              "      <td>0.0</td>\n",
              "      <td>0.0</td>\n",
              "      <td>0.0</td>\n",
              "      <td>0.0</td>\n",
              "      <td>0.0</td>\n",
              "      <td>0.0</td>\n",
              "      <td>0.0</td>\n",
              "      <td>0.0</td>\n",
              "      <td>...</td>\n",
              "      <td>0.0</td>\n",
              "      <td>0.0</td>\n",
              "      <td>0.0</td>\n",
              "      <td>0.0</td>\n",
              "      <td>0.0</td>\n",
              "      <td>0.0</td>\n",
              "      <td>0.0</td>\n",
              "      <td>0.0</td>\n",
              "      <td>0.0</td>\n",
              "      <td>0.0</td>\n",
              "      <td>0.0</td>\n",
              "      <td>0.0</td>\n",
              "      <td>0.0</td>\n",
              "      <td>0.0</td>\n",
              "      <td>0.0</td>\n",
              "      <td>0.0</td>\n",
              "      <td>0.0</td>\n",
              "      <td>0.0</td>\n",
              "      <td>0.0</td>\n",
              "      <td>0.0</td>\n",
              "      <td>0.0</td>\n",
              "      <td>0.0</td>\n",
              "      <td>0.0</td>\n",
              "      <td>0.0</td>\n",
              "      <td>0.0</td>\n",
              "      <td>0.0</td>\n",
              "      <td>0.0</td>\n",
              "      <td>0.0</td>\n",
              "      <td>0.0</td>\n",
              "      <td>0.0</td>\n",
              "      <td>0.0</td>\n",
              "      <td>0.0</td>\n",
              "      <td>0.0</td>\n",
              "      <td>0.0</td>\n",
              "      <td>0.0</td>\n",
              "      <td>0.0</td>\n",
              "      <td>0.0</td>\n",
              "      <td>0.0</td>\n",
              "      <td>0.0</td>\n",
              "      <td>0.0</td>\n",
              "    </tr>\n",
              "  </tbody>\n",
              "</table>\n",
              "<p>5 rows × 1306 columns</p>\n",
              "</div>"
            ],
            "text/plain": [
              "   ers_ent_count_year_3  ...  sc_vehicle_model_name_ZEPHYR\n",
              "0                   0.0  ...                           0.0\n",
              "1                   1.0  ...                           0.0\n",
              "2                   1.0  ...                           0.0\n",
              "3                   2.0  ...                           0.0\n",
              "4                   1.0  ...                           0.0\n",
              "\n",
              "[5 rows x 1306 columns]"
            ]
          },
          "metadata": {
            "tags": []
          },
          "execution_count": 131
        }
      ]
    },
    {
      "cell_type": "code",
      "metadata": {
        "colab_type": "code",
        "id": "2Xz3dVZBn0bH",
        "colab": {}
      },
      "source": [
        "labels = np.array(new_data['total_cost'])"
      ],
      "execution_count": 0,
      "outputs": []
    },
    {
      "cell_type": "code",
      "metadata": {
        "colab_type": "code",
        "id": "f-bx20rDog6z",
        "colab": {}
      },
      "source": [
        "new_data= new_data.drop('total_cost', axis = 1)"
      ],
      "execution_count": 0,
      "outputs": []
    },
    {
      "cell_type": "code",
      "metadata": {
        "colab_type": "code",
        "id": "lEhyflWGoqTU",
        "colab": {}
      },
      "source": [
        "feature_list = list(new_data.columns)"
      ],
      "execution_count": 0,
      "outputs": []
    },
    {
      "cell_type": "code",
      "metadata": {
        "colab_type": "code",
        "id": "DIEbQLg2oyVo",
        "colab": {}
      },
      "source": [
        "features = np.array(new_data)"
      ],
      "execution_count": 0,
      "outputs": []
    },
    {
      "cell_type": "code",
      "metadata": {
        "colab_type": "code",
        "id": "7SzYn6jupwBJ",
        "colab": {}
      },
      "source": [
        "train_features, test_features, train_labels, test_labels = train_test_split(features, labels, test_size = 0.25, random_state = 42)"
      ],
      "execution_count": 0,
      "outputs": []
    },
    {
      "cell_type": "code",
      "metadata": {
        "colab_type": "code",
        "id": "eXB2k9HFZPzn",
        "outputId": "73c43d8f-8998-4a23-ebf2-4a500d6b65a8",
        "colab": {
          "base_uri": "https://localhost:8080/",
          "height": 85
        }
      },
      "source": [
        "print('Training Features Shape:', train_features.shape)\n",
        "print('Training Labels Shape:', train_labels.shape)\n",
        "print('Testing Features Shape:', test_features.shape)\n",
        "print('Testing Labels Shape:', test_labels.shape)"
      ],
      "execution_count": 137,
      "outputs": [
        {
          "output_type": "stream",
          "text": [
            "Training Features Shape: (8513, 1310)\n",
            "Training Labels Shape: (8513,)\n",
            "Testing Features Shape: (2838, 1310)\n",
            "Testing Labels Shape: (2838,)\n"
          ],
          "name": "stdout"
        }
      ]
    },
    {
      "cell_type": "code",
      "metadata": {
        "colab_type": "code",
        "id": "UWLPQdZdZT-i",
        "colab": {}
      },
      "source": [
        "baseline_preds = test_features[:, feature_list.index('ers_member_cost_year_1')]"
      ],
      "execution_count": 0,
      "outputs": []
    },
    {
      "cell_type": "code",
      "metadata": {
        "colab_type": "code",
        "id": "JttRE3L7ZXje",
        "colab": {}
      },
      "source": [
        "baseline_errors = abs(baseline_preds - test_labels)"
      ],
      "execution_count": 0,
      "outputs": []
    },
    {
      "cell_type": "code",
      "metadata": {
        "colab_type": "code",
        "id": "NAAUmz78Zale",
        "outputId": "04e202e7-4c28-4382-96f8-14258447da6a",
        "colab": {
          "base_uri": "https://localhost:8080/",
          "height": 34
        }
      },
      "source": [
        "print('Average baseline error: ', round(np.mean(baseline_errors), 2))"
      ],
      "execution_count": 140,
      "outputs": [
        {
          "output_type": "stream",
          "text": [
            "Average baseline error:  51.07\n"
          ],
          "name": "stdout"
        }
      ]
    },
    {
      "cell_type": "code",
      "metadata": {
        "colab_type": "code",
        "id": "4jaBnWHGZd2R",
        "colab": {}
      },
      "source": [
        "rf = RandomForestRegressor(n_estimators = 64, random_state = 42)"
      ],
      "execution_count": 0,
      "outputs": []
    },
    {
      "cell_type": "code",
      "metadata": {
        "colab_type": "code",
        "id": "4MtpZy7BZhGs",
        "colab": {}
      },
      "source": [
        "rf.fit(train_features, train_labels);"
      ],
      "execution_count": 0,
      "outputs": []
    },
    {
      "cell_type": "code",
      "metadata": {
        "id": "ftpn3OYfy0ht",
        "colab_type": "code",
        "colab": {}
      },
      "source": [
        "predictions = rf.predict(test_features)"
      ],
      "execution_count": 0,
      "outputs": []
    },
    {
      "cell_type": "code",
      "metadata": {
        "id": "oZiRIy32y0hw",
        "colab_type": "code",
        "colab": {}
      },
      "source": [
        "errors = abs(predictions - test_labels)"
      ],
      "execution_count": 0,
      "outputs": []
    },
    {
      "cell_type": "code",
      "metadata": {
        "id": "k-mEeWmJy0hz",
        "colab_type": "code",
        "colab": {
          "base_uri": "https://localhost:8080/",
          "height": 34
        },
        "outputId": "6caf211f-16b0-4a3b-b0ee-7491446437d9"
      },
      "source": [
        "print('Mean Absolute Error:', round(np.mean(errors), 2))"
      ],
      "execution_count": 145,
      "outputs": [
        {
          "output_type": "stream",
          "text": [
            "Mean Absolute Error: 1.89\n"
          ],
          "name": "stdout"
        }
      ]
    },
    {
      "cell_type": "code",
      "metadata": {
        "id": "rMH7ScgDy0h6",
        "colab_type": "code",
        "colab": {
          "base_uri": "https://localhost:8080/",
          "height": 51
        },
        "outputId": "f300c678-84cc-460e-93ad-c48bc5e0112e"
      },
      "source": [
        "mape = 100 * (errors/test_labels)"
      ],
      "execution_count": 146,
      "outputs": [
        {
          "output_type": "stream",
          "text": [
            "/usr/local/lib/python3.6/dist-packages/ipykernel_launcher.py:1: RuntimeWarning: invalid value encountered in true_divide\n",
            "  \"\"\"Entry point for launching an IPython kernel.\n"
          ],
          "name": "stderr"
        }
      ]
    },
    {
      "cell_type": "code",
      "metadata": {
        "id": "H5vbk-qjFo5y",
        "colab_type": "code",
        "colab": {
          "base_uri": "https://localhost:8080/",
          "height": 34
        },
        "outputId": "22708f3a-bad2-4ab0-ee10-d723584bf6c6"
      },
      "source": [
        "print(np.nan_to_num(mape))"
      ],
      "execution_count": 147,
      "outputs": [
        {
          "output_type": "stream",
          "text": [
            "[0.         0.61671576 0.         ... 0.16589506 0.         0.        ]\n"
          ],
          "name": "stdout"
        }
      ]
    },
    {
      "cell_type": "code",
      "metadata": {
        "id": "b1ujKzUFy0iA",
        "colab_type": "code",
        "colab": {
          "base_uri": "https://localhost:8080/",
          "height": 34
        },
        "outputId": "6da55551-4870-4bd0-c1a0-4f227575dbd3"
      },
      "source": [
        "accuracy = 100 - np.mean(np.nan_to_num(mape))\n",
        "print('Accuracy:', round(accuracy, 2), '%.')"
      ],
      "execution_count": 148,
      "outputs": [
        {
          "output_type": "stream",
          "text": [
            "Accuracy: 99.03 %.\n"
          ],
          "name": "stdout"
        }
      ]
    },
    {
      "cell_type": "code",
      "metadata": {
        "id": "yEfQbUiqZFBz",
        "colab_type": "code",
        "colab": {}
      },
      "source": [
        "tree = rf.estimators_[5]"
      ],
      "execution_count": 0,
      "outputs": []
    },
    {
      "cell_type": "code",
      "metadata": {
        "id": "XEXDhUXgZLbc",
        "colab_type": "code",
        "colab": {}
      },
      "source": [
        "export_graphviz(tree, out_file = 'tree.dot', feature_names = feature_list, rounded = True, precision = 1)"
      ],
      "execution_count": 0,
      "outputs": []
    },
    {
      "cell_type": "code",
      "metadata": {
        "id": "co4qswQ8ZPF0",
        "colab_type": "code",
        "colab": {}
      },
      "source": [
        "(graph, ) = pydot.graph_from_dot_file('tree.dot')"
      ],
      "execution_count": 0,
      "outputs": []
    },
    {
      "cell_type": "code",
      "metadata": {
        "id": "p5oFthg3ZRdt",
        "colab_type": "code",
        "colab": {}
      },
      "source": [
        "graph.write_png('tree.png')"
      ],
      "execution_count": 0,
      "outputs": []
    },
    {
      "cell_type": "code",
      "metadata": {
        "id": "xUPrBcY2ZZk6",
        "colab_type": "code",
        "colab": {
          "base_uri": "https://localhost:8080/",
          "height": 136
        },
        "outputId": "949e4d47-775a-4fd5-d044-863468bed973"
      },
      "source": [
        "rf_small = RandomForestRegressor(n_estimators=10, max_depth = 3)\n",
        "rf_small.fit(train_features, train_labels)"
      ],
      "execution_count": 153,
      "outputs": [
        {
          "output_type": "execute_result",
          "data": {
            "text/plain": [
              "RandomForestRegressor(bootstrap=True, criterion='mse', max_depth=3,\n",
              "                      max_features='auto', max_leaf_nodes=None,\n",
              "                      min_impurity_decrease=0.0, min_impurity_split=None,\n",
              "                      min_samples_leaf=1, min_samples_split=2,\n",
              "                      min_weight_fraction_leaf=0.0, n_estimators=10,\n",
              "                      n_jobs=None, oob_score=False, random_state=None,\n",
              "                      verbose=0, warm_start=False)"
            ]
          },
          "metadata": {
            "tags": []
          },
          "execution_count": 153
        }
      ]
    },
    {
      "cell_type": "code",
      "metadata": {
        "id": "gbE4s7ONZazZ",
        "colab_type": "code",
        "colab": {}
      },
      "source": [
        "tree_small = rf_small.estimators_[5]"
      ],
      "execution_count": 0,
      "outputs": []
    },
    {
      "cell_type": "code",
      "metadata": {
        "id": "IoqzBXNnZej-",
        "colab_type": "code",
        "colab": {}
      },
      "source": [
        "export_graphviz(tree_small, out_file = 'small_tree.dot', feature_names = feature_list, rounded = True, precision = 1)"
      ],
      "execution_count": 0,
      "outputs": []
    },
    {
      "cell_type": "code",
      "metadata": {
        "id": "5PeLoQpqZhzO",
        "colab_type": "code",
        "colab": {}
      },
      "source": [
        "(graph, ) = pydot.graph_from_dot_file('small_tree.dot')"
      ],
      "execution_count": 0,
      "outputs": []
    },
    {
      "cell_type": "code",
      "metadata": {
        "id": "Ggpg-VgaZkA5",
        "colab_type": "code",
        "colab": {}
      },
      "source": [
        "graph.write_png('small_tree.png');"
      ],
      "execution_count": 0,
      "outputs": []
    },
    {
      "cell_type": "code",
      "metadata": {
        "id": "KkVFUlogZtFp",
        "colab_type": "code",
        "colab": {}
      },
      "source": [
        "importances = list(rf.feature_importances_)"
      ],
      "execution_count": 0,
      "outputs": []
    },
    {
      "cell_type": "code",
      "metadata": {
        "id": "Mp0gNbNqZwum",
        "colab_type": "code",
        "colab": {}
      },
      "source": [
        "feature_importances = [(feature, round(importance, 2)) for feature, importance in zip(feature_list, importances)]"
      ],
      "execution_count": 0,
      "outputs": []
    },
    {
      "cell_type": "code",
      "metadata": {
        "id": "ckMyruSXZy10",
        "colab_type": "code",
        "colab": {}
      },
      "source": [
        "feature_importances = sorted(feature_importances, key = lambda x: x[1], reverse = True)"
      ],
      "execution_count": 0,
      "outputs": []
    },
    {
      "cell_type": "code",
      "metadata": {
        "id": "w0q_xltyZ1kk",
        "colab_type": "code",
        "colab": {}
      },
      "source": [
        "[print('Variable: {:20} Importance: {}'.format(*pair)) for pair in feature_importances];"
      ],
      "execution_count": 0,
      "outputs": []
    },
    {
      "cell_type": "code",
      "metadata": {
        "id": "EYvGvq_5fMmN",
        "colab_type": "code",
        "colab": {
          "base_uri": "https://localhost:8080/",
          "height": 102
        },
        "outputId": "5ef18b70-a3e3-4266-a9df-7fc90ff87f7a"
      },
      "source": [
        "rf_most_important = RandomForestRegressor(n_estimators=124, random_state=42)\n",
        "important_indices = [feature_list.index('basic_cost'), feature_list.index('clearing_code_last_description_Restricted Roadway'), feature_list.index('plus_cost')]\n",
        "train_important = train_features[:, important_indices]\n",
        "test_important = test_features[:, important_indices]\n",
        "rf_most_important.fit(train_important, train_labels)\n",
        "predictions = rf_most_important.predict(test_important)\n",
        "errors = abs(predictions - test_labels)\n",
        "print('Mean Absolute Error:', round(np.mean(errors), 2))\n",
        "mape = np.mean(100 * (errors / test_labels))\n",
        "print(np.nan_to_num(mape))\n",
        "accuracy = 100 - np.nan_to_num(mape)\n",
        "print('Accuracy:', round(accuracy, 2), '%.')"
      ],
      "execution_count": 181,
      "outputs": [
        {
          "output_type": "stream",
          "text": [
            "Mean Absolute Error: 1.64\n",
            "0.0\n",
            "Accuracy: 100.0 %.\n"
          ],
          "name": "stdout"
        },
        {
          "output_type": "stream",
          "text": [
            "/usr/local/lib/python3.6/dist-packages/ipykernel_launcher.py:9: RuntimeWarning: invalid value encountered in true_divide\n",
            "  if __name__ == '__main__':\n"
          ],
          "name": "stderr"
        }
      ]
    },
    {
      "cell_type": "code",
      "metadata": {
        "id": "WpKt7-VOcO_O",
        "colab_type": "code",
        "colab": {}
      },
      "source": [
        "%matplotlib inline"
      ],
      "execution_count": 0,
      "outputs": []
    },
    {
      "cell_type": "code",
      "metadata": {
        "id": "aJGb3sSdcR7c",
        "colab_type": "code",
        "colab": {}
      },
      "source": [
        "plt.style.use('fivethirtyeight')"
      ],
      "execution_count": 0,
      "outputs": []
    },
    {
      "cell_type": "code",
      "metadata": {
        "id": "Xe-FXj9ncXCJ",
        "colab_type": "code",
        "colab": {}
      },
      "source": [
        "x_values = list(range(len(importances)))"
      ],
      "execution_count": 0,
      "outputs": []
    },
    {
      "cell_type": "code",
      "metadata": {
        "id": "-N0pgIIGcZsu",
        "colab_type": "code",
        "colab": {
          "base_uri": "https://localhost:8080/",
          "height": 299
        },
        "outputId": "7d212832-2c21-460c-9e48-655046f179c6"
      },
      "source": [
        "plt.bar(x_values, importances, orientation = 'vertical')"
      ],
      "execution_count": 185,
      "outputs": [
        {
          "output_type": "execute_result",
          "data": {
            "text/plain": [
              "<BarContainer object of 1310 artists>"
            ]
          },
          "metadata": {
            "tags": []
          },
          "execution_count": 185
        },
        {
          "output_type": "display_data",
          "data": {
            "image/png": "[encoded data removed]",
            "text/plain": [
              "<Figure size 432x288 with 1 Axes>"
            ]
          },
          "metadata": {
            "tags": []
          }
        }
      ]
    },
    {
      "cell_type": "code",
      "metadata": {
        "id": "SzWMqbzrccNF",
        "colab_type": "code",
        "colab": {}
      },
      "source": [
        "plt.xticks(x_values, feature_list, rotation='vertical')"
      ],
      "execution_count": 0,
      "outputs": []
    },
    {
      "cell_type": "code",
      "metadata": {
        "id": "KE3LOCgacfPt",
        "colab_type": "code",
        "colab": {
          "base_uri": "https://localhost:8080/",
          "height": 325
        },
        "outputId": "1e9af86c-eb25-41ad-bd7e-bd0aa6791856"
      },
      "source": [
        "plt.ylabel('Importance'); plt.xlabel('Variable'); plt.title('Variable Importances');"
      ],
      "execution_count": 187,
      "outputs": [
        {
          "output_type": "display_data",
          "data": {
            "image/png": "[encoded data removed]",
            "text/plain": [
              "<Figure size 432x288 with 1 Axes>"
            ]
          },
          "metadata": {
            "tags": []
          }
        }
      ]
    }
  ]
}