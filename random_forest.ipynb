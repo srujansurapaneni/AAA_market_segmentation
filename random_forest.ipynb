{
  "nbformat": 4,
  "nbformat_minor": 0,
  "metadata": {
    "colab": {
      "name": "Untitled0.ipynb",
      "provenance": [],
      "collapsed_sections": []
    },
    "kernelspec": {
      "name": "python2",
      "display_name": "Python 2"
    }
  },
  "cells": [
    {
      "cell_type": "code",
      "metadata": {
        "id": "ZupHYQk0f8je",
        "colab_type": "code",
        "colab": {}
      },
      "source": [
        "import pandas as pd\n",
        "import numpy as np"
      ],
      "execution_count": 0,
      "outputs": []
    },
    {
      "cell_type": "code",
      "metadata": {
        "id": "BrzVbYzGgFUi",
        "colab_type": "code",
        "colab": {}
      },
      "source": [
        "data = pd.read_csv('https://aaa-pgdmlai.s3.amazonaws.com/member_sample.csv')\n",
        "data.columns"
      ],
      "execution_count": 0,
      "outputs": []
    },
    {
      "cell_type": "code",
      "metadata": {
        "id": "fugsuyz0gZsm",
        "colab_type": "code",
        "colab": {}
      },
      "source": [
        "data.shape"
      ],
      "execution_count": 0,
      "outputs": []
    },
    {
      "cell_type": "code",
      "metadata": {
        "id": "2hGC-gObkfYv",
        "colab_type": "code",
        "colab": {}
      },
      "source": [
        "data.describe()"
      ],
      "execution_count": 0,
      "outputs": []
    },
    {
      "cell_type": "code",
      "metadata": {
        "id": "8gblywbel0Ty",
        "colab_type": "code",
        "colab": {}
      },
      "source": [
        "data_encoded = pd.get_dummies(data)"
      ],
      "execution_count": 0,
      "outputs": []
    },
    {
      "cell_type": "code",
      "metadata": {
        "id": "bYh1Dg9jmAr1",
        "colab_type": "code",
        "colab": {}
      },
      "source": [
        "data_encoded.iloc[:,5:].head(5)"
      ],
      "execution_count": 0,
      "outputs": []
    },
    {
      "cell_type": "code",
      "metadata": {
        "id": "2Xz3dVZBn0bH",
        "colab_type": "code",
        "colab": {}
      },
      "source": [
        "labels = np.array(data_encoded['Total_Cost'])"
      ],
      "execution_count": 0,
      "outputs": []
    },
    {
      "cell_type": "code",
      "metadata": {
        "id": "f-bx20rDog6z",
        "colab_type": "code",
        "colab": {}
      },
      "source": [
        "data_encoded= data_encoded.drop('Total_Cost', axis = 1)"
      ],
      "execution_count": 0,
      "outputs": []
    },
    {
      "cell_type": "code",
      "metadata": {
        "id": "lEhyflWGoqTU",
        "colab_type": "code",
        "colab": {}
      },
      "source": [
        "feature_list = list(data_encoded.columns)"
      ],
      "execution_count": 0,
      "outputs": []
    },
    {
      "cell_type": "code",
      "metadata": {
        "id": "DIEbQLg2oyVo",
        "colab_type": "code",
        "colab": {}
      },
      "source": [
        "features = np.array(data_encoded)"
      ],
      "execution_count": 0,
      "outputs": []
    }
  ]
}