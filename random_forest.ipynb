{
  "nbformat": 4,
  "nbformat_minor": 0,
  "metadata": {
    "colab": {
      "name": "Untitled0.ipynb",
      "provenance": [],
      "include_colab_link": true
    },
    "kernelspec": {
      "name": "python2",
      "display_name": "Python 2"
    }
  },
  "cells": [
    {
      "cell_type": "markdown",
      "metadata": {
        "id": "view-in-github",
        "colab_type": "text"
      },
      "source": [
        "<a href=\"https://colab.research.google.com/github/srujansurapaneni/AAA_market_segmentation/blob/master/random_forest.ipynb\" target=\"_parent\"><img src=\"https://colab.research.google.com/assets/colab-badge.svg\" alt=\"Open In Colab\"/></a>"
      ]
    },
    {
      "cell_type": "code",
      "metadata": {
        "id": "ZupHYQk0f8je",
        "colab_type": "code",
        "colab": {}
      },
      "source": [
        "import pandas as pd"
      ],
      "execution_count": 0,
      "outputs": []
    },
    {
      "cell_type": "code",
      "metadata": {
        "id": "BrzVbYzGgFUi",
        "colab_type": "code",
        "colab": {}
      },
      "source": [
        "df = pd.read_csv('https://aaa-pgdmlai.s3.amazonaws.com/member_sample.csv')"
      ],
      "execution_count": 0,
      "outputs": []
    },
    {
      "cell_type": "code",
      "metadata": {
        "id": "fugsuyz0gZsm",
        "colab_type": "code",
        "colab": {
          "base_uri": "https://localhost:8080/",
          "height": 1000
        },
        "outputId": "dabe018a-31f5-479e-c6cc-56929c7a99cf"
      },
      "source": [
        "print(df)"
      ],
      "execution_count": 4,
      "outputs": [
        {
          "output_type": "stream",
          "text": [
            "       Row_num  Individual_Key  ...  Was_Duplicated Was_Towed_To_AAR_Referral\n",
            "0            0        10000003  ...             NaN                       NaN\n",
            "1            1        52211550  ...             0.0                       1.0\n",
            "2            2        52211550  ...             0.0                       0.0\n",
            "3            3        52211550  ...             0.0                       0.0\n",
            "4            4        52211550  ...             0.0                       0.0\n",
            "5            5        52211550  ...             0.0                       0.0\n",
            "6            6        52211550  ...             0.0                       0.0\n",
            "7            7        52211550  ...             0.0                       0.0\n",
            "8            8        52211550  ...             0.0                       0.0\n",
            "9            9        52211550  ...             0.0                       0.0\n",
            "10          10         1606764  ...             NaN                       NaN\n",
            "11          11         2766867  ...             0.0                       0.0\n",
            "12          12         2766867  ...             0.0                       0.0\n",
            "13          13         2766867  ...             0.0                       0.0\n",
            "14          14         2766869  ...             NaN                       NaN\n",
            "15          15         2766868  ...             NaN                       NaN\n",
            "16          16         2766868  ...             0.0                       0.0\n",
            "17          17         2766868  ...             0.0                       0.0\n",
            "18          18         2766868  ...             0.0                       0.0\n",
            "19          19         2766868  ...             0.0                       0.0\n",
            "20          20        13746947  ...             0.0                       0.0\n",
            "21          21         1788453  ...             0.0                       0.0\n",
            "22          22         1788452  ...             0.0                       0.0\n",
            "23          23         1788452  ...             0.0                       0.0\n",
            "24          24         1788452  ...             0.0                       0.0\n",
            "25          25         1788452  ...             0.0                       0.0\n",
            "26          26         1788455  ...             0.0                       0.0\n",
            "27          27        14243585  ...             0.0                       0.0\n",
            "28          28        14243587  ...             0.0                       0.0\n",
            "29          29        14243587  ...             0.0                       0.0\n",
            "...        ...             ...  ...             ...                       ...\n",
            "21314    99968         4458026  ...             NaN                       NaN\n",
            "21315    99969        12849942  ...             0.0                       0.0\n",
            "21316    99970        12849942  ...             0.0                       0.0\n",
            "21317    99971        12849942  ...             0.0                       0.0\n",
            "21318    99972        12849942  ...             0.0                       0.0\n",
            "21319    99973        12849942  ...             0.0                       0.0\n",
            "21320    99974        12849942  ...             0.0                       0.0\n",
            "21321    99975        12849941  ...             NaN                       NaN\n",
            "21322    99976        22426406  ...             NaN                       NaN\n",
            "21323    99977        22426405  ...             0.0                       0.0\n",
            "21324    99979        19764804  ...             NaN                       NaN\n",
            "21325    99980        19764802  ...             NaN                       NaN\n",
            "21326    99981        19764801  ...             NaN                       NaN\n",
            "21327    99982        19764793  ...             NaN                       NaN\n",
            "21328    99983        16521338  ...             0.0                       0.0\n",
            "21329    99984        16521338  ...             0.0                       0.0\n",
            "21330    99985        16521338  ...             0.0                       0.0\n",
            "21331    99986        16521338  ...             0.0                       0.0\n",
            "21332    99987        16521338  ...             0.0                       0.0\n",
            "21333    99988        16521336  ...             0.0                       0.0\n",
            "21334    99989         1619870  ...             0.0                       0.0\n",
            "21335    99990         1619868  ...             NaN                       NaN\n",
            "21336    99991         1619869  ...             NaN                       NaN\n",
            "21337    99992        54745437  ...             NaN                       NaN\n",
            "21338    99993        25797262  ...             0.0                       0.0\n",
            "21339    99994        25797262  ...             0.0                       0.0\n",
            "21340    99995        25797262  ...             0.0                       0.0\n",
            "21341    99996        28273400  ...             0.0                       0.0\n",
            "21342    99997        28273400  ...             0.0                       0.0\n",
            "21343    99998        28273400  ...             0.0                       0.0\n",
            "\n",
            "[21344 rows x 111 columns]\n"
          ],
          "name": "stdout"
        }
      ]
    }
  ]
}